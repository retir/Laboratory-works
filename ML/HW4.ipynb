{
 "cells": [
  {
   "cell_type": "markdown",
   "metadata": {},
   "source": [
    "# Машинное обучение, ФКН ВШЭ\n",
    "\n",
    "## Практическое задание 4. Классификация. \n",
    "\n",
    "### Общая информация\n",
    "Дата выдачи: 29.10.2021\n",
    "\n",
    "Мягкий дедлайн: 23:59MSK 10.11.2021 (за каждый день просрочки снимается 1 балл)\n",
    "\n",
    "Жесткий дедлайн: 23:59MSK 13.11.2021"
   ]
  },
  {
   "cell_type": "markdown",
   "metadata": {},
   "source": [
    "### О задании\n",
    "\n",
    "В этом задании вы:\n",
    "- ознакомитесь с тем, что происходит \"внутри\" метода опорных векторов и логистической регрессии\n",
    "- познакомитесь с калибровкой вероятности\n",
    "- изучите методы трансформации переменных и методы отбора признаков\n",
    "- попробуете оценить экономический эффект модели\n",
    "\n",
    "\n",
    "### Оценивание и штрафы\n",
    "Каждая из задач имеет определенную «стоимость» (указана в скобках около задачи). Максимально допустимая оценка за работу — 10 баллов.\n",
    "\n",
    "Сдавать задание после указанного срока сдачи нельзя. При выставлении неполного балла за задание в связи с наличием ошибок на усмотрение проверяющего предусмотрена возможность исправить работу на указанных в ответном письме условиях.\n",
    "\n",
    "Задание выполняется самостоятельно. «Похожие» решения считаются плагиатом и все задействованные студенты (в том числе те, у кого списали) не могут получить за него больше 0 баллов (подробнее о плагиате см. на странице курса). Если вы нашли решение какого-то из заданий (или его часть) в открытом источнике, необходимо указать ссылку на этот источник в отдельном блоке в конце вашей работы (скорее всего вы будете не единственным, кто это нашел, поэтому чтобы исключить подозрение в плагиате, необходима ссылка на источник).\n",
    "\n",
    "Неэффективная реализация кода может негативно отразиться на оценке.\n",
    "\n",
    "\n",
    "### Формат сдачи\n",
    "Для сдачи задания переименуйте получившийся файл *.ipynb в соответствии со следующим форматом: homework-practice-04-classification-Username.ipynb, где Username — ваша фамилия и имя на латинице именно в таком порядке (например, homework-practice-04-classification-IvanovIvan.ipynb).\n",
    "\n",
    "Для удобства проверки самостоятельно посчитайте свою максимальную оценку (исходя из набора решенных задач) и укажите ниже.\n",
    "\n",
    "**Оценка**: "
   ]
  },
  {
   "cell_type": "code",
   "execution_count": 1,
   "metadata": {},
   "outputs": [],
   "source": [
    "import numpy as np\n",
    "import pandas as pd\n",
    "import matplotlib.pyplot as plt\n",
    "%matplotlib inline\n",
    "\n",
    "pd.set_option('display.max_rows', 100)\n",
    "pd.set_option('display.max_columns', 100)"
   ]
  },
  {
   "cell_type": "markdown",
   "metadata": {},
   "source": [
    "# Часть 0. SVM, LR и калибровка вероятностей. "
   ]
  },
  {
   "cell_type": "markdown",
   "metadata": {},
   "source": [
    "Сгенерируем синтетические данные."
   ]
  },
  {
   "cell_type": "code",
   "execution_count": 63,
   "metadata": {},
   "outputs": [],
   "source": [
    "from sklearn.datasets import make_classification\n",
    "from sklearn.model_selection import train_test_split\n",
    "\n",
    "X, y = make_classification(\n",
    "    n_samples=10000, n_features=10, n_informative=5, n_redundant=5,\n",
    "    random_state=42)\n",
    "\n",
    "X_train, X_test, y_train, y_test = train_test_split(\n",
    "    X, y, test_size=0.3, random_state=42)"
   ]
  },
  {
   "cell_type": "markdown",
   "metadata": {},
   "source": [
    "__Задание 1.__ Обучение и применение метода опорных векторов и логистической регрессии.\n",
    "\n",
    "__(1 балл)__\n",
    "\n",
    "Обучите метод опорных векторов. На занятиях мы проходили линейный вариант без ядрового перехода, что соответствует линейному ядру (`LinearSVC` или же `SVC(kernel='linear')` в `sklearn.svm`). Подберите параметр регуляризации `C` (можете воспользоваться кросс-валидацией или отделить валидационную выборку от обучающей). __Здесь и далее, если не сказано иначе, подбирайте оптимальные гиперпараметры с точки зрения AUC-PR.__"
   ]
  },
  {
   "cell_type": "code",
   "execution_count": 64,
   "metadata": {},
   "outputs": [],
   "source": [
    "from sklearn.svm import LinearSVC\n",
    "from sklearn.linear_model import LogisticRegression as LR\n",
    "from sklearn.model_selection import GridSearchCV\n",
    "from sklearn.metrics import average_precision_score as aps\n",
    "from sklearn.metrics import precision_recall_curve\n",
    "from sklearn.metrics import auc\n",
    "from sklearn.metrics import make_scorer\n",
    "from sklearn.metrics import roc_auc_score\n",
    "from sklearn.metrics import roc_curve\n",
    "import warnings\n",
    "warnings.filterwarnings(\"ignore\")\n",
    "\n",
    "def auc_pr(x, y):\n",
    "    pres, rec, _  = precision_recall_curve(x, y)\n",
    "    return auc(pres, rec)\n",
    "\n",
    "auc_pr = make_scorer(auc_pr)\n",
    "ap_score = make_scorer(aps)"
   ]
  },
  {
   "cell_type": "code",
   "execution_count": 65,
   "metadata": {},
   "outputs": [],
   "source": [
    "X_train_t, X_val, y_train_t, y_val = train_test_split(X_train, y_train, test_size=0.1, random_state=777)"
   ]
  },
  {
   "cell_type": "code",
   "execution_count": 66,
   "metadata": {},
   "outputs": [],
   "source": [
    "best_score = 0\n",
    "best_c = 0\n",
    "\n",
    "for c in np.logspace(-5, 2, 10):\n",
    "    model = LinearSVC(C=c, max_iter=10000)\n",
    "    model.fit(X_train_t, y_train_t)\n",
    "    pred = model.decision_function(X_val)\n",
    "    score = aps(y_val, pred)\n",
    "    if score > best_score:\n",
    "        best_score = score\n",
    "        best_c = c"
   ]
  },
  {
   "cell_type": "code",
   "execution_count": 67,
   "metadata": {},
   "outputs": [
    {
     "name": "stdout",
     "output_type": "stream",
     "text": [
      "Лучашя С: 100.0\n",
      "Лучший скор: 0.8409493084911854\n"
     ]
    }
   ],
   "source": [
    "print(f'Лучашя С: {best_c}')\n",
    "print(f'Лучший скор: {best_score}')"
   ]
  },
  {
   "cell_type": "markdown",
   "metadata": {},
   "source": [
    "На тестовой части постройте ROC и PR кривые, а также посчитайте AUC-ROC, AUC-PR с точностью до 5 знаков. Сравните AUC-ROC и AUC-PR для вашей модели с этими же метриками для случайного классификатора (который на каждом объекте выдаёт один из двух классов с равными вероятностями)."
   ]
  },
  {
   "cell_type": "code",
   "execution_count": 68,
   "metadata": {},
   "outputs": [
    {
     "name": "stdout",
     "output_type": "stream",
     "text": [
      "PR: 0.82994\n",
      "ROC: 0.84760\n"
     ]
    }
   ],
   "source": [
    "model = LinearSVC(max_iter=100000, C=best_c)\n",
    "model.fit(X_train, y_train)\n",
    "pred = model.decision_function(X_test)\n",
    "print(f'PR: {aps(y_test, pred):.5f}')\n",
    "print(f'ROC: {roc_auc_score(y_test, pred):.5f}')"
   ]
  },
  {
   "cell_type": "code",
   "execution_count": 69,
   "metadata": {},
   "outputs": [
    {
     "name": "stdout",
     "output_type": "stream",
     "text": [
      "PR: 0.50528\n",
      "ROC: 0.49922\n"
     ]
    }
   ],
   "source": [
    "pred_rand = np.random.randint(2, size=len(y_test))\n",
    "print(f'PR: {aps(y_test, pred_rand):.5f}')\n",
    "print(f'ROC: {roc_auc_score(y_test, pred_rand):.5f}')"
   ]
  },
  {
   "cell_type": "code",
   "execution_count": 70,
   "metadata": {},
   "outputs": [
    {
     "data": {
      "image/png": "[encoded data removed]",
      "text/plain": [
       "<Figure size 1080x504 with 2 Axes>"
      ]
     },
     "metadata": {
      "needs_background": "light"
     },
     "output_type": "display_data"
    }
   ],
   "source": [
    "from sklearn.metrics import PrecisionRecallDisplay\n",
    "from sklearn.metrics import RocCurveDisplay\n",
    "\n",
    "model =  LinearSVC(max_iter=100000, C=best_c)\n",
    "model.fit(X_train, y_train)\n",
    "pred = model.decision_function(X_test)\n",
    "\n",
    "fig, (ax1, ax2) = plt.subplots(1, 2, figsize=(15, 7))\n",
    "\n",
    "precision, recall, _ = precision_recall_curve(y_test, pred)\n",
    "disp = PrecisionRecallDisplay(precision=precision, recall=recall)\n",
    "ax1.set_title('PR')\n",
    "disp.plot(ax1)\n",
    "\n",
    "fpr, tpr, _ = roc_curve(y_test, pred) \n",
    "disp = RocCurveDisplay(fpr=fpr, tpr=tpr)\n",
    "ax2.set_title('ROC')\n",
    "disp.plot(ax2)\n",
    "plt.show()"
   ]
  },
  {
   "cell_type": "markdown",
   "metadata": {},
   "source": [
    "А теперь проделайте все то же самое для логистической регрессии (LR) — обучение, подбор параметра регуляризации (используйте L2-регуляризацию), вычисление всех метрик и построение кривых. Сравните результаты LR и SVM с точки зрения всех вычисленных критериев качества, объясните различия (если они есть)."
   ]
  },
  {
   "cell_type": "code",
   "execution_count": 71,
   "metadata": {},
   "outputs": [],
   "source": [
    "best_score = 0\n",
    "best_c = 0\n",
    "\n",
    "for c in np.logspace(-5, 2, 10):\n",
    "    model = LR(C=c, max_iter=10000)\n",
    "    model.fit(X_train_t, y_train_t)\n",
    "    pred = model.decision_function(X_val)\n",
    "    score = aps(y_val, pred)\n",
    "    if score > best_score:\n",
    "        best_score = score\n",
    "        best_c = c"
   ]
  },
  {
   "cell_type": "code",
   "execution_count": 72,
   "metadata": {},
   "outputs": [
    {
     "name": "stdout",
     "output_type": "stream",
     "text": [
      "Лучашя С: 0.0021544346900318843\n",
      "Лучший скор: 0.8267373022359118\n"
     ]
    }
   ],
   "source": [
    "print(f'Лучашя С: {best_c}')\n",
    "print(f'Лучший скор: {best_score}')"
   ]
  },
  {
   "cell_type": "code",
   "execution_count": 73,
   "metadata": {},
   "outputs": [
    {
     "name": "stdout",
     "output_type": "stream",
     "text": [
      "PR: 0.83221\n",
      "ROC: 0.84662\n"
     ]
    }
   ],
   "source": [
    "model = LR(max_iter=100000, C=best_c)\n",
    "model.fit(X_train, y_train)\n",
    "pred = model.decision_function(X_test)\n",
    "print(f'PR: {aps(y_test, pred):.5f}')\n",
    "print(f'ROC: {roc_auc_score(y_test, pred):.5f}')"
   ]
  },
  {
   "cell_type": "code",
   "execution_count": 74,
   "metadata": {},
   "outputs": [
    {
     "data": {
      "image/png": "[encoded data removed]",
      "text/plain": [
       "<Figure size 1080x504 with 2 Axes>"
      ]
     },
     "metadata": {
      "needs_background": "light"
     },
     "output_type": "display_data"
    }
   ],
   "source": [
    "from sklearn.metrics import PrecisionRecallDisplay\n",
    "from sklearn.metrics import RocCurveDisplay\n",
    "\n",
    "model = LR(max_iter=100000, C=best_c)\n",
    "model.fit(X_train, y_train)\n",
    "pred = model.decision_function(X_test)\n",
    "\n",
    "fig, (ax1, ax2) = plt.subplots(1, 2, figsize=(15, 7))\n",
    "\n",
    "precision, recall, _ = precision_recall_curve(y_test, pred)\n",
    "disp = PrecisionRecallDisplay(precision=precision, recall=recall)\n",
    "ax1.set_title('PR')\n",
    "disp.plot(ax1)\n",
    "\n",
    "fpr, tpr, _ = roc_curve(y_test, pred) \n",
    "disp = RocCurveDisplay(fpr=fpr, tpr=tpr)\n",
    "ax2.set_title('ROC')\n",
    "disp.plot(ax2)\n",
    "plt.show()"
   ]
  },
  {
   "cell_type": "markdown",
   "metadata": {},
   "source": [
    "ROC лучше у LR примерно на 0.001, а PR лучше у SVC на 0.002, кажется, что это не столь существенные различия."
   ]
  },
  {
   "cell_type": "markdown",
   "metadata": {},
   "source": [
    "В названии метода опорных векторов присутствуют некоторые \"опорные векторы\". Сгенерируйте синтетические данные с помощью `make_classification` с 2 признаками, обучите на нём метод опорных векторов. Визуализируйте разделяющую прямую, все объекты и выделите опорные векторы (атрибут `support_vectors_`). В этот раз, если необходимо, вместо `LinearSVC` воспользуйтесь `SVC(kernel='linear')`, так как только в нём есть информация об опорных векторах."
   ]
  },
  {
   "cell_type": "code",
   "execution_count": 75,
   "metadata": {},
   "outputs": [],
   "source": [
    "X, y = make_classification(\n",
    "    n_samples=200, n_features=2, n_informative=2, n_redundant=0,\n",
    "    random_state=42)"
   ]
  },
  {
   "cell_type": "code",
   "execution_count": 76,
   "metadata": {},
   "outputs": [
    {
     "data": {
      "image/png": "[encoded data removed]",
      "text/plain": [
       "<Figure size 1080x720 with 1 Axes>"
      ]
     },
     "metadata": {
      "needs_background": "light"
     },
     "output_type": "display_data"
    }
   ],
   "source": [
    "from sklearn import svm\n",
    "from sklearn.datasets import make_blobs\n",
    "# https://scikit-learn.org/stable/auto_examples/svm/plot_separating_hyperplane.html#sphx-glr-auto-examples-svm-plot-separating-hyperplane-py\n",
    "\n",
    "# we create 40 separable points\n",
    "X, y = make_classification(\n",
    "    n_samples=200, n_features=2, n_informative=2, n_redundant=0, class_sep=1.5,\n",
    "    random_state=42)\n",
    "\n",
    "# fit the model, don't regularize for illustration purposes\n",
    "clf = svm.SVC(kernel=\"linear\", C=1000)\n",
    "clf.fit(X, y)\n",
    "\n",
    "fig, ax = plt.subplots(figsize=(15, 10))\n",
    "\n",
    "\n",
    "ax.scatter(X[:, 0], X[:, 1], c=y, s=30, cmap=plt.cm.Paired)\n",
    "\n",
    "# plot the decision function\n",
    "#ax = plt.gca(figsize=(10, 7))\n",
    "xlim = ax.get_xlim()\n",
    "ylim = ax.get_ylim()\n",
    "\n",
    "# create grid to evaluate model\n",
    "xx = np.linspace(xlim[0], xlim[1], 30)\n",
    "yy = np.linspace(ylim[0], ylim[1], 30)\n",
    "YY, XX = np.meshgrid(yy, xx)\n",
    "xy = np.vstack([XX.ravel(), YY.ravel()]).T\n",
    "Z = clf.decision_function(xy).reshape(XX.shape)\n",
    "\n",
    "# plot decision boundary and margins\n",
    "ax.contour(\n",
    "    XX, YY, Z, colors=\"k\", levels=[-1, 0, 1], alpha=0.5, linestyles=[\"--\", \"-\", \"--\"]\n",
    ")\n",
    "# plot support vectors\n",
    "ax.scatter(\n",
    "    clf.support_vectors_[:, 0],\n",
    "    clf.support_vectors_[:, 1],\n",
    "    s=100,\n",
    "    linewidth=1,\n",
    "    facecolors=\"none\",\n",
    "    edgecolors=\"k\",\n",
    ")\n",
    "plt.show()"
   ]
  },
  {
   "cell_type": "markdown",
   "metadata": {},
   "source": [
    "\n",
    "В отличие от метода опорных векторов, логистическая регрессия не пытается построить разделяющую гиперплоскость с максимальным отступом, а приближает в каждой точке пространства объектов вероятность положительных ответов $p(y=+1|x)$. Попробуйте нарисовать это распределение на плоскости, не забудьте отметить на ней все объекты. Вам может помочь функция `plt.pcolor`."
   ]
  },
  {
   "cell_type": "code",
   "execution_count": 80,
   "metadata": {},
   "outputs": [
    {
     "data": {
      "image/png": "[encoded data removed]",
      "text/plain": [
       "<Figure size 1080x864 with 2 Axes>"
      ]
     },
     "metadata": {
      "needs_background": "light"
     },
     "output_type": "display_data"
    }
   ],
   "source": [
    "#https://scikit-learn.org/stable/auto_examples/linear_model/plot_iris_logistic.html\n",
    "logreg = LR()\n",
    "logreg.fit(X, y)\n",
    "\n",
    "# Plot the decision boundary. For that, we will assign a color to each\n",
    "# point in the mesh [x_min, x_max]x[y_min, y_max].\n",
    "x_min, x_max = X[:, 0].min() - 0.5, X[:, 0].max() + 0.5\n",
    "y_min, y_max = X[:, 1].min() - 0.5, X[:, 1].max() + 0.5\n",
    "h = 0.02  # step size in the mesh\n",
    "xx, yy = np.meshgrid(np.arange(x_min, x_max, h), np.arange(y_min, y_max, h))\n",
    "Z = logreg.predict_proba(np.c_[xx.ravel(), yy.ravel()])[:,1]\n",
    "\n",
    "# Put the result into a color plot\n",
    "Z = Z.reshape(xx.shape)\n",
    "plt.figure(1, figsize=(15, 12))\n",
    "plt.pcolormesh(xx, yy, Z, cmap=plt.get_cmap('bwr'))\n",
    "plt.colorbar(label='unnormalized scores')\n",
    "\n",
    "\n",
    "# Plot also the training points\n",
    "plt.scatter(X[:, 0], X[:, 1], c=y, edgecolors=\"k\", cmap=plt.cm.Paired)\n",
    "plt.xlabel(\"Sepal length\")\n",
    "plt.ylabel(\"Sepal width\")\n",
    "\n",
    "plt.xlim(xx.min(), xx.max())\n",
    "plt.ylim(yy.min(), yy.max())\n",
    "plt.xticks(())\n",
    "plt.yticks(())\n",
    "\n",
    "plt.show()"
   ]
  },
  {
   "cell_type": "markdown",
   "metadata": {},
   "source": [
    "__Задание 2.__ Калибровка вероятностей.\n",
    "\n",
    "__(1 балл)__\n",
    "\n",
    "Перейдём к оценке качества выдаваемых алгоритмами вероятностей. Начнём с калибровочных кривых. \n",
    "\n",
    "Допустим, алгоритм возвращает некоторые числа от нуля до единицы. Хорошо ли они оценивают вероятность? Для этого разобьем отрезок $[0, 1]$ на несколько маленьких отрезков одинаковой длины. Рассмотрим $i$-й отрезок с границами $[a_i, b_i]$ и предсказания $p_1, p_2, \\dots, p_k$, которые попали в него. Пусть им соответствуют истинные ответы $y_1, y_2, \\dots, y_k$. Если алгоритм выдает корректные вероятности, то среди этих истинных ответов должно быть примерно $(a_i + b_i) / 2$ единиц. Иными словами, если нарисовать кривую, у которой по оси X отложены центры отрезков, а по оси Y — доли единичных ответов этих в отрезках, то она должна оказаться диагональной. Ниже приведена функция, которая должна рисовать такие кривые. В ней допущено две ошибки — найдите и исправьте их."
   ]
  },
  {
   "cell_type": "code",
   "execution_count": 81,
   "metadata": {},
   "outputs": [],
   "source": [
    "def plot_calibration_curve(y_test, preds):\n",
    "    bin_middle_points = []\n",
    "    bin_real_ratios = []\n",
    "    n_bins = 10\n",
    "    for i in range(n_bins):\n",
    "        l = 1.0 / n_bins * i\n",
    "        r = 1.0 / n_bins * (i + 1)\n",
    "        bin_middle_points.append(l + (r - l) / 2) # 1\n",
    "        bin_real_ratios.append(np.mean(y_test[(preds >= l) & (preds < r)])) # 2\n",
    "    plt.figure(figsize=(6,6))\n",
    "    plt.plot(bin_middle_points, bin_real_ratios)\n",
    "    plt.ylim([-0.05, 1.05])\n",
    "    plt.grid()"
   ]
  },
  {
   "cell_type": "markdown",
   "metadata": {},
   "source": [
    "Сгенерируйте синтетические данные аналогично использованным в самом первом задании. Постройте калибровочные кривые на тестовой части для логистической регрессии и метода опорных векторов (не забудьте перевести его предсказания в $[0;1]$). Изучите распределение ответов классификаторов (постройте гистограммы с помощью `plt.hist`). Чем они различаются? Чем вы можете объяснить это?"
   ]
  },
  {
   "cell_type": "code",
   "execution_count": 82,
   "metadata": {},
   "outputs": [],
   "source": [
    "X, y = make_classification(\n",
    "    n_samples=10000, n_features=10, n_informative=5, n_redundant=5,\n",
    "    random_state=42)\n",
    "\n",
    "X_train, X_test, y_train, y_test = train_test_split(\n",
    "    X, y, test_size=0.3, random_state=42)"
   ]
  },
  {
   "cell_type": "code",
   "execution_count": 83,
   "metadata": {},
   "outputs": [
    {
     "data": {
      "image/png": "[encoded data removed]",
      "text/plain": [
       "<Figure size 432x432 with 1 Axes>"
      ]
     },
     "metadata": {
      "needs_background": "light"
     },
     "output_type": "display_data"
    }
   ],
   "source": [
    "model = LR()\n",
    "model.fit(X_train, y_train)\n",
    "\n",
    "plot_calibration_curve(y_test, model.predict_proba(X_test)[:, 1])\n",
    "plt.title('Калибровочная кривая для Logistic Regr')\n",
    "plt.show()"
   ]
  },
  {
   "cell_type": "code",
   "execution_count": 84,
   "metadata": {},
   "outputs": [
    {
     "data": {
      "image/png": "[encoded data removed]",
      "text/plain": [
       "<Figure size 432x432 with 1 Axes>"
      ]
     },
     "metadata": {
      "needs_background": "light"
     },
     "output_type": "display_data"
    }
   ],
   "source": [
    "model = svm.SVC(kernel=\"linear\")\n",
    "model.fit(X_train, y_train)\n",
    "pred = X_test @ model.coef_.T\n",
    "pred = (pred - pred.min()) / (pred.max() - pred.min())\n",
    "\n",
    "plot_calibration_curve(y_test, pred.reshape(-1))\n",
    "plt.title('Калибровочная кривая для SVC')\n",
    "plt.show()"
   ]
  },
  {
   "cell_type": "code",
   "execution_count": 85,
   "metadata": {},
   "outputs": [
    {
     "data": {
      "image/png": "[encoded data removed]",
      "text/plain": [
       "<Figure size 432x288 with 1 Axes>"
      ]
     },
     "metadata": {
      "needs_background": "light"
     },
     "output_type": "display_data"
    }
   ],
   "source": [
    "import seaborn as sns\n",
    "\n",
    "sns.histplot(pred)\n",
    "plt.title('Распределение вероятнойстей в SVC')\n",
    "plt.show()"
   ]
  },
  {
   "cell_type": "code",
   "execution_count": 86,
   "metadata": {},
   "outputs": [
    {
     "data": {
      "image/png": "[encoded data removed]",
      "text/plain": [
       "<Figure size 432x288 with 1 Axes>"
      ]
     },
     "metadata": {
      "needs_background": "light"
     },
     "output_type": "display_data"
    }
   ],
   "source": [
    "model = LR()\n",
    "model.fit(X_train, y_train)\n",
    "pred = model.predict_proba(X_test)[:, 1]\n",
    "\n",
    "sns.histplot(pred)\n",
    "plt.title('Распределение вероятнойстей в Logistic Regr')\n",
    "plt.show()"
   ]
  },
  {
   "cell_type": "markdown",
   "metadata": {},
   "source": [
    "Логично, что вероятности в SVC имеют нормальное распределение, мы же подогнали их искусственно, в LR же это больше похоже на правду, что мы и видим на калибровочных кривых - LR сильно лучше оценивает вероятности."
   ]
  },
  {
   "cell_type": "markdown",
   "metadata": {},
   "source": [
    "Воспользуйтесь `CalibratedClassifierCV` из `sklearn` для калибровки вероятностей метода опорных векторов на обучении и постройте с его помощью предсказания для тестовой выборки. Нарисуйте для них калибровочную кривую. Улучшилась ли она?"
   ]
  },
  {
   "cell_type": "code",
   "execution_count": 87,
   "metadata": {},
   "outputs": [
    {
     "data": {
      "image/png": "[encoded data removed]",
      "text/plain": [
       "<Figure size 432x432 with 1 Axes>"
      ]
     },
     "metadata": {
      "needs_background": "light"
     },
     "output_type": "display_data"
    }
   ],
   "source": [
    "from sklearn.calibration import CalibratedClassifierCV\n",
    "\n",
    "clf = CalibratedClassifierCV(LR(), cv=5)\n",
    "clf.fit(X_train, y_train)\n",
    "plot_calibration_curve(y_test, clf.predict_proba(X_test)[:, 1])\n",
    "plt.title('Калибровочная кривая для Logistic Regr полсе калибровки')\n",
    "plt.show()"
   ]
  },
  {
   "cell_type": "code",
   "execution_count": 88,
   "metadata": {},
   "outputs": [
    {
     "data": {
      "image/png": "[encoded data removed]",
      "text/plain": [
       "<Figure size 432x432 with 1 Axes>"
      ]
     },
     "metadata": {
      "needs_background": "light"
     },
     "output_type": "display_data"
    }
   ],
   "source": [
    "clf = CalibratedClassifierCV(svm.SVC(kernel=\"linear\"), cv=5)\n",
    "clf.fit(X_train, y_train)\n",
    "plot_calibration_curve(y_test, clf.predict_proba(X_test)[:, 1])\n",
    "plt.title('Калибровочная кривая для SVC полсе калибровки')\n",
    "plt.show()"
   ]
  },
  {
   "cell_type": "markdown",
   "metadata": {},
   "source": [
    "Да, стало сильно лучше"
   ]
  },
  {
   "cell_type": "markdown",
   "metadata": {},
   "source": [
    "# Часть 1. Работа с переменными."
   ]
  },
  {
   "cell_type": "markdown",
   "metadata": {},
   "source": [
    "В этой части мы научимся обрабатывать категориальные переменные, так как закодировать их в виде чисел недостаточно (это задаёт некоторый порядок, которого на категориальных переменных может и не быть). Существует два основных способа обработки категориальных значений:\n",
    "- One-hot-кодирование\n",
    "- Счётчики (CTR, mean-target кодирование, ...) — каждый категориальный признак заменяется на среднее значение целевой переменной по всем объектам, имеющим одинаковое значение в этом признаке.\n",
    "\n",
    "Начнём с one-hot-кодирования. Допустим наш категориальный признак $f_j(x)$ принимает значения из множества $C=\\{c_1, \\dots, c_m\\}$. Заменим его на $m$ бинарных признаков $b_1(x), \\dots, b_m(x)$, каждый из которых является индикатором одного из возможных категориальных значений:\n",
    "$$\n",
    "b_i(x) = [f_j(x) = c_i]\n",
    "$$"
   ]
  },
  {
   "cell_type": "markdown",
   "metadata": {},
   "source": [
    "__Подготовка данных.__\n",
    "\n",
    "Загрузим данные [UCI Bank Marketing Dataset](https://archive.ics.uci.edu/ml/datasets/bank+marketing). Этот датасет содержит информацию о банковском телефонном маркетинге, объектом в нем является телефонный звонок потенциальному клиенту с предложением некоторой услуги (утверждается, что это краткосрочный депозит), целевой переменной - ответ клиента (согласился ли он открыть депозит?). В качестве признакового описания используются характеристики клиента (образование, брак и т.д.), данные о звонке и различные экономические индикаторы - более подробная информация представлена в файле `bank-additional-names.txt`."
   ]
  },
  {
   "cell_type": "code",
   "execution_count": 25,
   "metadata": {},
   "outputs": [],
   "source": [
    "#!wget https://archive.ics.uci.edu/ml/machine-learning-databases/00222/bank-additional.zip\n",
    "#!unzip bank-additional.zip\n",
    "df = pd.read_csv('bank-additional/bank-additional-full.csv', sep=';')"
   ]
  },
  {
   "cell_type": "code",
   "execution_count": 26,
   "metadata": {},
   "outputs": [
    {
     "data": {
      "text/html": [
       "<div>\n",
       "<style scoped>\n",
       "    .dataframe tbody tr th:only-of-type {\n",
       "        vertical-align: middle;\n",
       "    }\n",
       "\n",
       "    .dataframe tbody tr th {\n",
       "        vertical-align: top;\n",
       "    }\n",
       "\n",
       "    .dataframe thead th {\n",
       "        text-align: right;\n",
       "    }\n",
       "</style>\n",
       "<table border=\"1\" class=\"dataframe\">\n",
       "  <thead>\n",
       "    <tr style=\"text-align: right;\">\n",
       "      <th></th>\n",
       "      <th>age</th>\n",
       "      <th>job</th>\n",
       "      <th>marital</th>\n",
       "      <th>education</th>\n",
       "      <th>default</th>\n",
       "      <th>housing</th>\n",
       "      <th>loan</th>\n",
       "      <th>contact</th>\n",
       "      <th>month</th>\n",
       "      <th>day_of_week</th>\n",
       "      <th>duration</th>\n",
       "      <th>campaign</th>\n",
       "      <th>pdays</th>\n",
       "      <th>previous</th>\n",
       "      <th>poutcome</th>\n",
       "      <th>emp.var.rate</th>\n",
       "      <th>cons.price.idx</th>\n",
       "      <th>cons.conf.idx</th>\n",
       "      <th>euribor3m</th>\n",
       "      <th>nr.employed</th>\n",
       "      <th>y</th>\n",
       "    </tr>\n",
       "  </thead>\n",
       "  <tbody>\n",
       "    <tr>\n",
       "      <th>0</th>\n",
       "      <td>56</td>\n",
       "      <td>housemaid</td>\n",
       "      <td>married</td>\n",
       "      <td>basic.4y</td>\n",
       "      <td>no</td>\n",
       "      <td>no</td>\n",
       "      <td>no</td>\n",
       "      <td>telephone</td>\n",
       "      <td>may</td>\n",
       "      <td>mon</td>\n",
       "      <td>261</td>\n",
       "      <td>1</td>\n",
       "      <td>999</td>\n",
       "      <td>0</td>\n",
       "      <td>nonexistent</td>\n",
       "      <td>1.1</td>\n",
       "      <td>93.994</td>\n",
       "      <td>-36.4</td>\n",
       "      <td>4.857</td>\n",
       "      <td>5191.0</td>\n",
       "      <td>no</td>\n",
       "    </tr>\n",
       "    <tr>\n",
       "      <th>1</th>\n",
       "      <td>57</td>\n",
       "      <td>services</td>\n",
       "      <td>married</td>\n",
       "      <td>high.school</td>\n",
       "      <td>unknown</td>\n",
       "      <td>no</td>\n",
       "      <td>no</td>\n",
       "      <td>telephone</td>\n",
       "      <td>may</td>\n",
       "      <td>mon</td>\n",
       "      <td>149</td>\n",
       "      <td>1</td>\n",
       "      <td>999</td>\n",
       "      <td>0</td>\n",
       "      <td>nonexistent</td>\n",
       "      <td>1.1</td>\n",
       "      <td>93.994</td>\n",
       "      <td>-36.4</td>\n",
       "      <td>4.857</td>\n",
       "      <td>5191.0</td>\n",
       "      <td>no</td>\n",
       "    </tr>\n",
       "    <tr>\n",
       "      <th>2</th>\n",
       "      <td>37</td>\n",
       "      <td>services</td>\n",
       "      <td>married</td>\n",
       "      <td>high.school</td>\n",
       "      <td>no</td>\n",
       "      <td>yes</td>\n",
       "      <td>no</td>\n",
       "      <td>telephone</td>\n",
       "      <td>may</td>\n",
       "      <td>mon</td>\n",
       "      <td>226</td>\n",
       "      <td>1</td>\n",
       "      <td>999</td>\n",
       "      <td>0</td>\n",
       "      <td>nonexistent</td>\n",
       "      <td>1.1</td>\n",
       "      <td>93.994</td>\n",
       "      <td>-36.4</td>\n",
       "      <td>4.857</td>\n",
       "      <td>5191.0</td>\n",
       "      <td>no</td>\n",
       "    </tr>\n",
       "    <tr>\n",
       "      <th>3</th>\n",
       "      <td>40</td>\n",
       "      <td>admin.</td>\n",
       "      <td>married</td>\n",
       "      <td>basic.6y</td>\n",
       "      <td>no</td>\n",
       "      <td>no</td>\n",
       "      <td>no</td>\n",
       "      <td>telephone</td>\n",
       "      <td>may</td>\n",
       "      <td>mon</td>\n",
       "      <td>151</td>\n",
       "      <td>1</td>\n",
       "      <td>999</td>\n",
       "      <td>0</td>\n",
       "      <td>nonexistent</td>\n",
       "      <td>1.1</td>\n",
       "      <td>93.994</td>\n",
       "      <td>-36.4</td>\n",
       "      <td>4.857</td>\n",
       "      <td>5191.0</td>\n",
       "      <td>no</td>\n",
       "    </tr>\n",
       "    <tr>\n",
       "      <th>4</th>\n",
       "      <td>56</td>\n",
       "      <td>services</td>\n",
       "      <td>married</td>\n",
       "      <td>high.school</td>\n",
       "      <td>no</td>\n",
       "      <td>no</td>\n",
       "      <td>yes</td>\n",
       "      <td>telephone</td>\n",
       "      <td>may</td>\n",
       "      <td>mon</td>\n",
       "      <td>307</td>\n",
       "      <td>1</td>\n",
       "      <td>999</td>\n",
       "      <td>0</td>\n",
       "      <td>nonexistent</td>\n",
       "      <td>1.1</td>\n",
       "      <td>93.994</td>\n",
       "      <td>-36.4</td>\n",
       "      <td>4.857</td>\n",
       "      <td>5191.0</td>\n",
       "      <td>no</td>\n",
       "    </tr>\n",
       "  </tbody>\n",
       "</table>\n",
       "</div>"
      ],
      "text/plain": [
       "   age        job  marital    education  default housing loan    contact  \\\n",
       "0   56  housemaid  married     basic.4y       no      no   no  telephone   \n",
       "1   57   services  married  high.school  unknown      no   no  telephone   \n",
       "2   37   services  married  high.school       no     yes   no  telephone   \n",
       "3   40     admin.  married     basic.6y       no      no   no  telephone   \n",
       "4   56   services  married  high.school       no      no  yes  telephone   \n",
       "\n",
       "  month day_of_week  duration  campaign  pdays  previous     poutcome  \\\n",
       "0   may         mon       261         1    999         0  nonexistent   \n",
       "1   may         mon       149         1    999         0  nonexistent   \n",
       "2   may         mon       226         1    999         0  nonexistent   \n",
       "3   may         mon       151         1    999         0  nonexistent   \n",
       "4   may         mon       307         1    999         0  nonexistent   \n",
       "\n",
       "   emp.var.rate  cons.price.idx  cons.conf.idx  euribor3m  nr.employed   y  \n",
       "0           1.1          93.994          -36.4      4.857       5191.0  no  \n",
       "1           1.1          93.994          -36.4      4.857       5191.0  no  \n",
       "2           1.1          93.994          -36.4      4.857       5191.0  no  \n",
       "3           1.1          93.994          -36.4      4.857       5191.0  no  \n",
       "4           1.1          93.994          -36.4      4.857       5191.0  no  "
      ]
     },
     "execution_count": 26,
     "metadata": {},
     "output_type": "execute_result"
    }
   ],
   "source": [
    "df.head()"
   ]
  },
  {
   "cell_type": "markdown",
   "metadata": {},
   "source": [
    "__Задание 3 (0.5 балла).__ Разделите выборку на обучающую и тестовую в соотношении 3:1. Зафиксируйте `random_state=777`, также используйте `stratify`. Один из столбцов в данных не несет информации для решения задачи — какой? Отбросьте его. \n",
    "\n"
   ]
  },
  {
   "cell_type": "code",
   "execution_count": 27,
   "metadata": {},
   "outputs": [],
   "source": [
    "df = df.drop(columns=['duration'])"
   ]
  },
  {
   "cell_type": "code",
   "execution_count": 28,
   "metadata": {},
   "outputs": [],
   "source": [
    "X = df.drop(columns=['y'])\n",
    "y = df['y']\n",
    "y = np.where(y == 'yes', 1, 0)"
   ]
  },
  {
   "cell_type": "code",
   "execution_count": 29,
   "metadata": {},
   "outputs": [],
   "source": [
    "X_train, X_test, y_train, y_test = train_test_split(X, y, test_size=0.25, random_state=777, stratify=y)"
   ]
  },
  {
   "cell_type": "markdown",
   "metadata": {},
   "source": [
    "Закодируйте категориальные признаки с помощью `OrdinalEncoder`. Посчитайте качество (в этом задании будем работать c `AUC-PR`) при применении логистической регрессии. Замерьте время, потребовавшееся на обучение модели (с учетом кодирования признаков).\n",
    "\n",
    "__Вопрос__: почему в данном задании мы выбрали метрикой именно `AUC-PR`, а не, к примеру, `AUC-ROC`?\n",
    "\n",
    "__Ваш ответ__: Кажется, что классы в таргете очень несбалансированны, что может поломать AUC-ROC, а AUC-PR как раз должна это учитывать."
   ]
  },
  {
   "cell_type": "code",
   "execution_count": 31,
   "metadata": {},
   "outputs": [],
   "source": [
    "categorical = ['job', 'marital', 'education', 'default', 'housing', 'loan', 'contact', 'month', 'day_of_week', 'poutcome']\n",
    "numeric = ['age', 'campaign', 'pdays', 'previous', 'emp.var.rate', 'cons.price.idx', 'cons.conf.idx', 'euribor3m', 'nr.employed']\n",
    "other = []"
   ]
  },
  {
   "cell_type": "code",
   "execution_count": 30,
   "metadata": {},
   "outputs": [],
   "source": [
    "from sklearn.preprocessing import OrdinalEncoder\n",
    "from sklearn.compose import ColumnTransformer\n",
    "from sklearn.preprocessing import OneHotEncoder\n",
    "from sklearn.preprocessing import StandardScaler\n"
   ]
  },
  {
   "cell_type": "code",
   "execution_count": 760,
   "metadata": {},
   "outputs": [
    {
     "name": "stdout",
     "output_type": "stream",
     "text": [
      "Train: 0.4398538915285427\n",
      "Test: 0.44115422530059345\n",
      "Wall time: 2.18 s\n"
     ]
    }
   ],
   "source": [
    "%%time\n",
    "\n",
    "column_transformer = ColumnTransformer([\n",
    "    ('ordinal', OrdinalEncoder(handle_unknown='ignore'), categorical),\n",
    "    ('scaling', 'passthrough', numeric),\n",
    "    ('other',  'passthrough', other)\n",
    "])\n",
    "\n",
    "X_train_trans = column_transformer.fit_transform(X_train)\n",
    "X_test_trans = column_transformer.transform(X_test)\n",
    "\n",
    "model = LR(max_iter=100000)\n",
    "model.fit(X_train_trans, y_train)\n",
    "\n",
    "pred = model.decision_function(X_train_trans)\n",
    "print(f'Train: {aps(y_train, pred)}')\n",
    "\n",
    "pred = model.decision_function(X_test_trans)\n",
    "print(f'Test: {aps(y_test, pred)}')"
   ]
  },
  {
   "cell_type": "markdown",
   "metadata": {},
   "source": [
    "__Задание 4 (0.5 балла).__ Закодируйте все категориальные признаки с помощью one-hot-кодирования. Обучите логистическую регрессию и посмотрите, как изменилось качество модели (с тем, что было до кодирования). Измерьте время, потребовавшееся на кодирование категориальных признаков и обучение модели.\n",
    "\n"
   ]
  },
  {
   "cell_type": "code",
   "execution_count": 761,
   "metadata": {},
   "outputs": [
    {
     "name": "stdout",
     "output_type": "stream",
     "text": [
      "Train: 0.44552558346646065\n",
      "Test: 0.44448686531940884\n",
      "Wall time: 1.65 s\n"
     ]
    }
   ],
   "source": [
    "%%time\n",
    "\n",
    "column_transformer = ColumnTransformer([\n",
    "    ('ohe', OneHotEncoder(handle_unknown='ignore'), categorical),\n",
    "    ('scaling', 'passthrough', numeric),\n",
    "    ('other',  'passthrough', other)\n",
    "])\n",
    "\n",
    "X_train_trans = column_transformer.fit_transform(X_train)\n",
    "X_test_trans = column_transformer.transform(X_test)\n",
    "\n",
    "model = LR(max_iter=100000)\n",
    "model.fit(X_train_trans, y_train)\n",
    "\n",
    "pred = model.decision_function(X_train_trans)\n",
    "print(f'Train: {aps(y_train, pred)}')\n",
    "\n",
    "pred = model.decision_function(X_test_trans)\n",
    "print(f'Test: {aps(y_test, pred)}')"
   ]
  },
  {
   "cell_type": "markdown",
   "metadata": {},
   "source": [
    "Как можно было заменить, one-hot-кодирование может сильно увеличивать количество признаков, что сказывается на памяти, особенно, если некоторый признак имеет большое количество значений. Эту проблему решает другой способ кодирования категориальных признаков — mean-target encoding (для простоты будем называть это счётчиками). Основная идея в том, что нам важны не сами категории, а значения целевой переменной, которые имеют объекты этой категории. Каждый категориальный признак мы заменим средним значением целевой переменной по всем объектам этой же категории:\n",
    "$$\n",
    "g_j(x, X) = \\frac{\\sum_{i=1}^{l} [f_j(x) = f_j(x_i)][y_i = +1]}{\\sum_{i=1}^{l} [f_j(x) = f_j(x_i)]}\n",
    "$$\n",
    "\n",
    "__Задание 5 (1 балл).__ Закодируйте категориальные переменные с помощью счётчиков (ровно так, как описано выше без каких-либо хитростей). Обучите логистическую регрессию и посмотрите на качество модели на тестовом множестве. Сравните время обучения с предыдущими экспериментами (с учетом кодирования признаков). Заметили ли вы что-то интересное?\n",
    "\n",
    "\n",
    "__Бонус (1 балл)__: Здесь и далее реализуйте вычисление счетчиков с помощью трансформера (наследуйтесь от классов `BaseEstimator, TransformerMixin` из `sklearn.base`). Обратите внимание, что все вычисления должны быть векторизованными, трансформер не должен модифицировать передаваемую ему выборку inplace, а все необходимые статистики нужно считать только по обучающей выборке в методе `fit`. Ваш трансформер должен принимать при инициализации список из категориальных признаков и изменять только их. \n"
   ]
  },
  {
   "cell_type": "code",
   "execution_count": 33,
   "metadata": {},
   "outputs": [],
   "source": [
    "from sklearn.base import BaseEstimator,TransformerMixin"
   ]
  },
  {
   "cell_type": "code",
   "execution_count": 762,
   "metadata": {},
   "outputs": [],
   "source": [
    "def mean_targ(df, columns_to_trans, target):\n",
    "    other = df.drop(columns = columns_to_trans)\n",
    "    df = df[columns_to_trans]\n",
    "    df['target'] = target\n",
    "    for col in df.columns:\n",
    "        if col == 'target':\n",
    "            continue\n",
    "        \n",
    "        grouped = df.groupby(by=[col]).mean()\n",
    "        new_feats = grouped['target']\n",
    "        feats_to_conv = grouped.index\n",
    "        df[col].replace(feats_to_conv, new_feats, inplace=True)\n",
    "    return pd.concat([other, df.drop(columns=['target'])], axis=1)  \n",
    "        "
   ]
  },
  {
   "cell_type": "code",
   "execution_count": 34,
   "metadata": {},
   "outputs": [],
   "source": [
    "class Mean_targ_enc(BaseEstimator, TransformerMixin):\n",
    "    def __init__(self, columns_to_trans):\n",
    "        self.columns = columns_to_trans\n",
    "        self.new_feats = []\n",
    "        self.feats_to_conv = []\n",
    "        \n",
    "    def fit(self, df, target):\n",
    "        \n",
    "        df = df[self.columns]\n",
    "        df['target'] = target\n",
    "        \n",
    "        for col in self.columns:  \n",
    "            grouped = df.groupby(by=[col]).mean()\n",
    "            self.new_feats.append(grouped['target'])\n",
    "            self.feats_to_conv.append(grouped.index)\n",
    "\n",
    "        return self\n",
    "    \n",
    "    def transform(self, df, target=None):\n",
    "        df = df.copy()\n",
    "        for i, col in enumerate(self.columns):\n",
    "            new_feats = np.setdiff1d(np.unique(df[col]), self.feats_to_conv[i])\n",
    "            df[col].replace(self.feats_to_conv[i], self.new_feats[i], inplace=True)\n",
    "            if len(new_feats > 0):\n",
    "                df[col].replace(self.feats_to_conv[i], self.new_feats[i], inplace=True)\n",
    "        return df\n",
    "            "
   ]
  },
  {
   "cell_type": "code",
   "execution_count": 35,
   "metadata": {},
   "outputs": [
    {
     "name": "stdout",
     "output_type": "stream",
     "text": [
      "Train: 0.42090916435588477\n",
      "Test: 0.4259330294162596\n",
      "Wall time: 538 ms\n"
     ]
    }
   ],
   "source": [
    "%%time\n",
    "coder = Mean_targ_enc(categorical)\n",
    "X_train_trans = coder.fit_transform(X_train, y_train)\n",
    "X_test_trans = coder.transform(X_test)\n",
    "\n",
    "model = LR(max_iter=100000)\n",
    "model.fit(X_train_trans, y_train)\n",
    "\n",
    "pred = model.decision_function(X_train_trans)\n",
    "print(f'Train: {aps(y_train, pred)}')\n",
    "\n",
    "pred = model.decision_function(X_test_trans)\n",
    "print(f'Test: {aps(y_test, pred)}')"
   ]
  },
  {
   "cell_type": "markdown",
   "metadata": {},
   "source": [
    "За счёт того, что мы не создаём новых признаков время сильно уменьшилось, но и качество стало сильно ниже."
   ]
  },
  {
   "cell_type": "markdown",
   "metadata": {},
   "source": [
    "Отметим, что такие признаки сами по себе являются классификаторами и, обучаясь на них, мы допускаем \"утечку\" целевой переменной в признаки. Это ведёт к переобучению, поэтому считать такие признаки необходимо таким образом, чтобы при вычислении для конкретного объекта его целевая метка не использовалась. Это можно делать следующими способами:\n",
    "1. Вычислять значение счётчика по всем объектам расположенным выше в датасете (например, если у нас выборка отсортирована по времени).\n",
    "2. Вычислять по фолдам, то есть делить выборку на некоторое количество частей и подсчитывать значение признаков по всем фолдам кроме текущего (как делается в кросс-валидации).\n",
    "3. Внесение некоторого шума в посчитанные признаки. \n",
    "\n",
    "__Задание 6.__ Реализуйте корректное вычисление счётчиков самым простым способом — добавление шума к значениям (постарайтесь найти баланс между борьбой с переобучением и сохранением полезности признаков). Снова обучите логистическую регрессию, оцените качество. Сделайте выводы.\n",
    "\n",
    "__(0.5 балла)__"
   ]
  },
  {
   "cell_type": "code",
   "execution_count": 36,
   "metadata": {},
   "outputs": [],
   "source": [
    "class Mean_targ_enc_noise(Mean_targ_enc):\n",
    "    def fit(self, df, target, shift=10):\n",
    "        df = df.copy()\n",
    "        df = df[self.columns]\n",
    "        df['target'] = target\n",
    "        \n",
    "        for col in self.columns:\n",
    "            \n",
    "            grouped = df.groupby(by=[col]).mean()\n",
    "            std = df.groupby(by=[col]).std()['target']\n",
    "        \n",
    "            self.new_feats.append(grouped['target'] + np.random.normal(0, std / shift**2, grouped.shape[0]))\n",
    "            self.feats_to_conv.append(grouped.index)\n",
    "\n",
    "        return self\n",
    "        "
   ]
  },
  {
   "cell_type": "code",
   "execution_count": 45,
   "metadata": {},
   "outputs": [
    {
     "name": "stdout",
     "output_type": "stream",
     "text": [
      "Train: 0.4192332034257985\n",
      "Test: 0.426220027948844\n",
      "Wall time: 871 ms\n"
     ]
    }
   ],
   "source": [
    "%%time\n",
    "coder = Mean_targ_enc_noise(categorical)\n",
    "X_train_trans = coder.fit_transform(X_train, y_train, shift=10)\n",
    "X_test_trans = coder.transform(X_test)\n",
    "\n",
    "model = LR(max_iter=100000)\n",
    "model.fit(X_train_trans, y_train)\n",
    "\n",
    "pred = model.decision_function(X_train_trans)\n",
    "print(f'Train: {aps(y_train, pred)}')\n",
    "\n",
    "pred = model.decision_function(X_test_trans)\n",
    "print(f'Test: {aps(y_test, pred)}')"
   ]
  },
  {
   "cell_type": "markdown",
   "metadata": {},
   "source": [
    "А теперь ответьте на следующий вопрос: что будет, если некоторая категория встречается в выборке всего несколько раз? По этой причине производится сглаживание счётчиков. Например, на практике хорошие результаты показывает использование сглаживания средним по всей выборке:\n",
    "$$\n",
    "g_j(x, X) = \\frac{\\sum_{i=1}^{\\ell} [f_j(x) = f_j(x_i)][y_i = +1] + C \\times global\\_mean}{\\sum_{i=1}^{\\ell} [f_j(x) = f_j(x_i)] + C}\n",
    "$$\n",
    "где $global\\_mean$ — доля объектов положительного класса в выборке, $C$ — параметр, определяющий степень сглаживания (например, можно использовать 10 или подобрать для каждого признака свой). Основная идея в том, что мы \"разбавляем\" среднее значение по некоторой категории глобальным средним значением. И тем меньше, чем большее количество объектов этой категории встречается в выборке. \n",
    "\n",
    "Однако для сглаживания вместо среднего значения целевой переменной можно использовать любое другое значение от 0 до 1 (этот параметр иногда называют $prior$). Можно сделать несколько признаков с разными значениями параметра. На практике в задачах бинарной классификации полезными бывают даже отрицательные значения!\n"
   ]
  },
  {
   "cell_type": "markdown",
   "metadata": {},
   "source": [
    "__Задание 7 (1 балл).__ Добавьте сглаживание, описанное выше и повторите эксперименты."
   ]
  },
  {
   "cell_type": "code",
   "execution_count": 767,
   "metadata": {},
   "outputs": [],
   "source": [
    "class MTE_nois_glob(Mean_targ_enc):\n",
    "    def fit(self, df, target, shift=10, c=10):\n",
    "        df = df[self.columns]\n",
    "        df['target'] = target\n",
    "        \n",
    "        for col in self.columns:\n",
    "            \n",
    "            global_mean = np.mean(target == 1)\n",
    "            sumed = df.groupby(by=[col]).sum()\n",
    "            counted = df.groupby(by=[col]).count()\n",
    "            grouped = (sumed['target'] + c * global_mean) / (counted['target'] + c)\n",
    "            std = df.groupby(by=[col]).std()['target']\n",
    "            std[np.isnan(std)] = 0\n",
    "\n",
    "            self.new_feats.append(grouped + np.random.normal(0, std / shift**2, len(grouped)))\n",
    "            self.feats_to_conv.append(sumed.index)\n",
    "\n",
    "        return self"
   ]
  },
  {
   "cell_type": "code",
   "execution_count": 768,
   "metadata": {},
   "outputs": [
    {
     "name": "stdout",
     "output_type": "stream",
     "text": [
      "Train: 0.4208711693517461\n",
      "Test: 0.4258374250476533\n",
      "Wall time: 772 ms\n"
     ]
    }
   ],
   "source": [
    "%%time\n",
    "coder = MTE_nois_glob(categorical)\n",
    "X_train_trans = coder.fit_transform(X_train, y_train, shift=12)\n",
    "X_test_trans = coder.transform(X_test)\n",
    "\n",
    "model = LR(max_iter=100000)\n",
    "model.fit(X_train_trans, y_train)\n",
    "\n",
    "pred = model.decision_function(X_train_trans)\n",
    "print(f'Train: {aps(y_train, pred)}')\n",
    "\n",
    "pred = model.decision_function(X_test_trans)\n",
    "print(f'Test: {aps(y_test, pred)}')\n",
    "\n"
   ]
  },
  {
   "cell_type": "markdown",
   "metadata": {},
   "source": [
    "__Задание 8 (0.5 балла).__ В данных имеется признак \"возраст клиента\". Сейчас мы интерпретируем его как числовой, что в общем случае для линейной модели может быть неверной гипотезой. Тем не менее, у этого признака есть довольно много уникальных значений (сколько?), поэтому применять к нему one-hot кодирование может оказаться излишним. Попробуйте закодировать возраст с помощью счетчиков. Стало ли лучше?\n",
    "\n"
   ]
  },
  {
   "cell_type": "code",
   "execution_count": 769,
   "metadata": {},
   "outputs": [],
   "source": [
    "categorical = ['age', 'job', 'marital', 'education', 'default', 'housing', 'loan', 'contact', 'month', 'day_of_week', 'poutcome']\n",
    "numeric = ['campaign', 'pdays', 'previous', 'emp.var.rate', 'cons.price.idx', 'cons.conf.idx', 'euribor3m', 'nr.employed']\n",
    "other = []"
   ]
  },
  {
   "cell_type": "code",
   "execution_count": 770,
   "metadata": {},
   "outputs": [
    {
     "name": "stdout",
     "output_type": "stream",
     "text": [
      "Train: 0.41968304128981593\n",
      "Test: 0.4293523956617748\n",
      "Wall time: 800 ms\n"
     ]
    }
   ],
   "source": [
    "%%time\n",
    "coder = MTE_nois_glob(categorical)\n",
    "X_train_trans = coder.fit_transform(X_train, y_train, shift=12)\n",
    "X_test_trans = coder.transform(X_test)\n",
    "\n",
    "model = LR(max_iter=100000)\n",
    "model.fit(X_train_trans, y_train)\n",
    "\n",
    "pred = model.decision_function(X_train_trans)\n",
    "print(f'Train: {aps(y_train, pred)}')\n",
    "\n",
    "pred = model.decision_function(X_test_trans)\n",
    "print(f'Test: {aps(y_test, pred)}')"
   ]
  },
  {
   "cell_type": "markdown",
   "metadata": {},
   "source": [
    "Да, дало небольшой прирост."
   ]
  },
  {
   "cell_type": "markdown",
   "metadata": {},
   "source": [
    "Можно пойти и в обратную сторону. У нас есть признаки \"месяц и день недели\" для звонка. Попробуйте интерпретировать их как числовые (месяц от 0 до 12, дни недели от 0 до 4). Стало ли лучше в этот раз?"
   ]
  },
  {
   "cell_type": "code",
   "execution_count": 775,
   "metadata": {},
   "outputs": [],
   "source": [
    "categorical = ['age', 'job', 'marital', 'education', 'default', 'housing', 'loan', 'contact', 'poutcome']\n",
    "numeric = ['campaign', 'pdays', 'previous', 'emp.var.rate', 'cons.price.idx', 'cons.conf.idx', 'euribor3m', 'nr.employed']\n",
    "other = ['month', 'day_of_week']"
   ]
  },
  {
   "cell_type": "code",
   "execution_count": 776,
   "metadata": {},
   "outputs": [],
   "source": [
    "months = ['apr', 'aug', 'dec', 'jul', 'jun', 'mar', 'may', 'nov', 'oct', 'sep']\n",
    "months_num = [4, 8, 12, 7, 6, 3, 4, 11, 10, 9]\n",
    "X_train_ = X_train.copy()\n",
    "X_train_['month'].replace(months, months_num, inplace=True)\n",
    "\n",
    "days_of_w = ['fri', 'mon', 'thu', 'tue', 'wed']\n",
    "replace_day_w = [5, 1, 4, 2, 3]\n",
    "X_train_['day_of_week'].replace(days_of_w, replace_day_w, inplace=True)\n"
   ]
  },
  {
   "cell_type": "code",
   "execution_count": 777,
   "metadata": {},
   "outputs": [],
   "source": [
    "X_test_ =  X_test.copy()\n",
    "X_test_['month'].replace(months, months_num, inplace=True)\n",
    "X_test_['day_of_week'].replace(days_of_w, replace_day_w, inplace=True)\n"
   ]
  },
  {
   "cell_type": "code",
   "execution_count": 778,
   "metadata": {},
   "outputs": [
    {
     "name": "stdout",
     "output_type": "stream",
     "text": [
      "Train: 0.41892860088594475\n",
      "Test: 0.4240781500835465\n",
      "Wall time: 1.05 s\n"
     ]
    }
   ],
   "source": [
    "%%time\n",
    "coder = MTE_nois_glob(categorical)\n",
    "X_train_trans = coder.fit_transform(X_train_, y_train, shift=12)\n",
    "X_test_trans = coder.transform(X_test_)\n",
    "\n",
    "model = LR(max_iter=100000)\n",
    "model.fit(X_train_trans, y_train)\n",
    "\n",
    "pred = model.decision_function(X_train_trans)\n",
    "print(f'Train: {aps(y_train, pred)}')\n",
    "\n",
    "pred = model.decision_function(X_test_trans)\n",
    "print(f'Test: {aps(y_test, pred)}')"
   ]
  },
  {
   "cell_type": "markdown",
   "metadata": {},
   "source": [
    "Существенных улучшений не наблюдается."
   ]
  },
  {
   "cell_type": "markdown",
   "metadata": {},
   "source": [
    "__Замечание.__ Усложнение методов вычисления счётчиков не делают результаты модели гарантированно лучше. Особенно с учётом того, что логистическая регрессия не такая сложная модель, чтобы переобучаться. Поэтому вы необязательно должны были получать на каждом шаге всё лучшие и лучшие результаты (но необходимые результаты у вас должны были получиться).\n",
    "\n",
    "Как вы должны были заметить, счётчики являются хорошей альтернативой one-hot-кодированию. Напишите, какие плюсы и минусы использования счётчиков по сравнению с one-hot-кодированием вы заметили.\n",
    "\n",
    "__Ответ:__ из плюсов сразу бОльшая скорость  и меньший объём памяти для обучения, однако качество становится явно хуже. "
   ]
  },
  {
   "cell_type": "markdown",
   "metadata": {},
   "source": [
    "# Часть 2. Отбор признаков"
   ]
  },
  {
   "cell_type": "markdown",
   "metadata": {},
   "source": [
    "Важной частью процесса построения модели является отбор признаков. На практике многие признаки оказывают малое влияние на модель (при этом их расчёт занимает время) или даже негативно сказываются на качестве модели. Попробуем несколько подходов отбора признаков, оценим, как они влияют на качество модели и сколько времени занимают.\n",
    "\n",
    "Обратимся к тем же данным про банковский телефонный маркетинг."
   ]
  },
  {
   "cell_type": "code",
   "execution_count": 779,
   "metadata": {},
   "outputs": [],
   "source": [
    "df = pd.read_csv('bank-additional/bank-additional-full.csv', sep=';')\n",
    "\n",
    "X = df.drop(columns=['duration', 'y'])\n",
    "y = (df.y == 'yes')\n",
    "\n",
    "X_train, X_test, y_train, y_test = train_test_split(X, y, test_size=0.2, random_state=777, stratify=y)"
   ]
  },
  {
   "cell_type": "markdown",
   "metadata": {},
   "source": [
    "Как вы помните, в данных много категориальных признаков (сейчас давайте интерпретировать возраст как числовой). Давайте закодируем их с помощью one-hot кодирования. Исходные колонки с категориальными признаками можно удалить. Сколько признаков мы получили?"
   ]
  },
  {
   "cell_type": "code",
   "execution_count": 780,
   "metadata": {},
   "outputs": [],
   "source": [
    "categorical = ['job', 'marital', 'education', 'default', 'housing', 'loan', 'contact', 'month', 'day_of_week', 'poutcome']\n",
    "numeric = ['age', 'campaign', 'pdays', 'previous', 'emp.var.rate', 'cons.price.idx', 'cons.conf.idx', 'euribor3m', 'nr.employed']\n",
    "other = []"
   ]
  },
  {
   "cell_type": "code",
   "execution_count": 781,
   "metadata": {},
   "outputs": [
    {
     "name": "stdout",
     "output_type": "stream",
     "text": [
      "62\n",
      "Wall time: 107 ms\n"
     ]
    }
   ],
   "source": [
    "%%time\n",
    "\n",
    "column_transformer = ColumnTransformer([\n",
    "    ('ohe', OneHotEncoder(handle_unknown='ignore'), categorical),\n",
    "    ('scaling', 'passthrough', numeric),\n",
    "    ('other',  'passthrough', other)\n",
    "])\n",
    "\n",
    "X_train_trans = column_transformer.fit_transform(X_train)\n",
    "X_test_trans = column_transformer.transform(X_test)\n",
    "print(X_train_trans.shape[1])"
   ]
  },
  {
   "cell_type": "markdown",
   "metadata": {},
   "source": [
    "В качестве основной модели будем использовать логистическую регрессию, а целевой метрики — `AUC-PR`. Обучите модель и посчитайте качество на тестовой выборке. Давайте запомним полученное значение."
   ]
  },
  {
   "cell_type": "code",
   "execution_count": 782,
   "metadata": {},
   "outputs": [
    {
     "name": "stdout",
     "output_type": "stream",
     "text": [
      "Train: 0.4453672157353412\n",
      "Test: 0.442709233832675\n"
     ]
    }
   ],
   "source": [
    "model = LR(max_iter=100000)\n",
    "model.fit(X_train_trans, y_train)\n",
    "\n",
    "pred = model.decision_function(X_train_trans)\n",
    "print(f'Train: {aps(y_train, pred)}')\n",
    "\n",
    "pred = model.decision_function(X_test_trans)\n",
    "print(f'Test: {aps(y_test, pred)}')"
   ]
  },
  {
   "cell_type": "markdown",
   "metadata": {},
   "source": [
    "### Встроенные методы"
   ]
  },
  {
   "cell_type": "markdown",
   "metadata": {},
   "source": [
    "Допустим, мы хотим оставить только 40 лучших признаков. Попробуем сделать это несколькими способами.\n",
    "\n",
    "Начнём с отборам признаков с помощью линейной модели. Как известно, веса линейной модели означают вклад каждого признака в предсказание модели, а значит, модуль этого вклада можно интерпретировать как важность признаков. Такой метод отбора называются встроенным или embedded method, так как он заложен в особенности модели.\n",
    "\n",
    "__Задание 8 (0.5 балла).__ Оставьте 40 признаков с наибольшим модулем соответствующего параметра линейной модели. Обучите модели заново и оцените её качество. Замерьте скорость такого отбора признаков.\n",
    "\n",
    "Изменилось ли качество? Как?\n",
    "\n"
   ]
  },
  {
   "cell_type": "code",
   "execution_count": 783,
   "metadata": {},
   "outputs": [
    {
     "data": {
      "text/plain": [
       "62"
      ]
     },
     "execution_count": 783,
     "metadata": {},
     "output_type": "execute_result"
    }
   ],
   "source": [
    "len(model.coef_[0])"
   ]
  },
  {
   "cell_type": "code",
   "execution_count": 784,
   "metadata": {},
   "outputs": [
    {
     "name": "stdout",
     "output_type": "stream",
     "text": [
      "40\n"
     ]
    }
   ],
   "source": [
    "coefs = np.abs(model.coef_[0])\n",
    "perc = np.percentile(coefs, 35)\n",
    "print(len(coefs[coefs > perc]))\n",
    "new_weights = coefs > perc"
   ]
  },
  {
   "cell_type": "code",
   "execution_count": 785,
   "metadata": {},
   "outputs": [],
   "source": [
    "X_train_new = X_train_trans[:,new_weights]\n",
    "X_test_new = X_test_trans[:,new_weights]"
   ]
  },
  {
   "cell_type": "code",
   "execution_count": 786,
   "metadata": {},
   "outputs": [
    {
     "name": "stdout",
     "output_type": "stream",
     "text": [
      "Train: 0.4420334833546486\n",
      "Test: 0.44585349018213116\n"
     ]
    }
   ],
   "source": [
    "model = LR(max_iter=100000)\n",
    "model.fit(X_train_new, y_train)\n",
    "\n",
    "pred = model.decision_function(X_train_new)\n",
    "print(f'Train: {aps(y_train, pred)}')\n",
    "\n",
    "pred = model.decision_function(X_test_new)\n",
    "print(f'Test: {aps(y_test, pred)}')"
   ]
  },
  {
   "cell_type": "markdown",
   "metadata": {},
   "source": [
    "Да, стало чуть получше, значит некоторые признаки нам действително мешают."
   ]
  },
  {
   "cell_type": "markdown",
   "metadata": {},
   "source": [
    "А теперь давайте подумаем, что мы не учли. Мы предположили, что признаки вносят вклад равномерно, но не учли их масштаба. Если мы умножим один из признаков в 100 раз, то без учёта регуляризации его вес уменьшится в эти же 100 раз. А мы на основе этого отбираем признаки! Давайте сначала отмасштабируем признаки одним из способов, а только потом будем удалять признаки. \n",
    "\n",
    "Кстати, в таком случае надо пересчитать качество на всех признаках (сделайте это ниже). Если вы сделали нормирование признаков в самом начале, то попробуйте отобрать признаки на неотмасштабированных данных.\n",
    "\n",
    "Что получилось?"
   ]
  },
  {
   "cell_type": "code",
   "execution_count": 787,
   "metadata": {},
   "outputs": [],
   "source": [
    "column_transformer = ColumnTransformer([\n",
    "    ('ohe', OneHotEncoder(handle_unknown='ignore'), categorical),\n",
    "    ('scaling', StandardScaler(), numeric),\n",
    "    ('other',  'passthrough', other)\n",
    "])\n",
    "\n",
    "X_train_trans = column_transformer.fit_transform(X_train)\n",
    "X_test_trans = column_transformer.transform(X_test)"
   ]
  },
  {
   "cell_type": "code",
   "execution_count": 788,
   "metadata": {},
   "outputs": [
    {
     "name": "stdout",
     "output_type": "stream",
     "text": [
      "Train: 0.4587345546896034\n",
      "Test: 0.4479258486621757\n"
     ]
    }
   ],
   "source": [
    "model = LR(max_iter=100000)\n",
    "model.fit(X_train_trans, y_train)\n",
    "\n",
    "pred = model.decision_function(X_train_trans)\n",
    "print(f'Train: {aps(y_train, pred)}')\n",
    "\n",
    "pred = model.decision_function(X_test_trans)\n",
    "print(f'Test: {aps(y_test, pred)}')"
   ]
  },
  {
   "cell_type": "code",
   "execution_count": 789,
   "metadata": {},
   "outputs": [
    {
     "name": "stdout",
     "output_type": "stream",
     "text": [
      "40\n"
     ]
    }
   ],
   "source": [
    "coefs = np.abs(model.coef_[0])\n",
    "perc = np.percentile(coefs, 35)\n",
    "print(len(coefs[coefs > perc]))\n",
    "new_weights = coefs > perc"
   ]
  },
  {
   "cell_type": "code",
   "execution_count": 790,
   "metadata": {},
   "outputs": [],
   "source": [
    "X_train_new = X_train_trans[:,new_weights]\n",
    "X_test_new = X_test_trans[:,new_weights]"
   ]
  },
  {
   "cell_type": "code",
   "execution_count": 791,
   "metadata": {},
   "outputs": [
    {
     "name": "stdout",
     "output_type": "stream",
     "text": [
      "Train: 0.4590517997962801\n",
      "Test: 0.44857297970149307\n"
     ]
    }
   ],
   "source": [
    "model = LR(max_iter=100000)\n",
    "model.fit(X_train_new, y_train)\n",
    "\n",
    "pred = model.decision_function(X_train_new)\n",
    "print(f'Train: {aps(y_train, pred)}')\n",
    "\n",
    "pred = model.decision_function(X_test_new)\n",
    "print(f'Test: {aps(y_test, pred)}')"
   ]
  },
  {
   "cell_type": "markdown",
   "metadata": {},
   "source": [
    "А сейчас стало прям сильно лучше"
   ]
  },
  {
   "cell_type": "markdown",
   "metadata": {},
   "source": [
    "Вопрос на засыпку: one-hot кодирование возвращает нам единичные признаки-индикаторы. Попробуйте также отскалировать их, как и обычные числовые, и снова выбрать 40 главных по вкладу признаков. Изменился ли их список? Изменится ли качество?"
   ]
  },
  {
   "cell_type": "code",
   "execution_count": 792,
   "metadata": {},
   "outputs": [],
   "source": [
    "column_transformer = ColumnTransformer([\n",
    "    ('ohe', OneHotEncoder(handle_unknown='ignore'), categorical),\n",
    "    ('scaling', 'passthrough', numeric),\n",
    "    ('other',  'passthrough', other)\n",
    "])\n",
    "\n",
    "X_train_trans = column_transformer.fit_transform(X_train)\n",
    "X_test_trans = column_transformer.transform(X_test)\n",
    "\n",
    "scal = StandardScaler()\n",
    "X_train_trans = scal.fit_transform(X_train_trans, y_train)\n",
    "X_test_trans = scal.transform(X_test_trans)"
   ]
  },
  {
   "cell_type": "code",
   "execution_count": 793,
   "metadata": {},
   "outputs": [
    {
     "name": "stdout",
     "output_type": "stream",
     "text": [
      "Train: 0.45880870419508474\n",
      "Test: 0.44778524140123377\n"
     ]
    }
   ],
   "source": [
    "model = LR(max_iter=100000)\n",
    "model.fit(X_train_trans, y_train)\n",
    "\n",
    "pred = model.decision_function(X_train_trans)\n",
    "print(f'Train: {aps(y_train, pred)}')\n",
    "\n",
    "pred = model.decision_function(X_test_trans)\n",
    "print(f'Test: {aps(y_test, pred)}')"
   ]
  },
  {
   "cell_type": "code",
   "execution_count": 794,
   "metadata": {},
   "outputs": [
    {
     "name": "stdout",
     "output_type": "stream",
     "text": [
      "40\n"
     ]
    }
   ],
   "source": [
    "coefs = np.abs(model.coef_[0])\n",
    "perc = np.percentile(coefs, 35)\n",
    "print(len(coefs[coefs > perc]))\n",
    "new_weights = coefs > perc"
   ]
  },
  {
   "cell_type": "code",
   "execution_count": 795,
   "metadata": {},
   "outputs": [],
   "source": [
    "X_train_new = X_train_trans[:,new_weights]\n",
    "X_test_new = X_test_trans[:,new_weights]"
   ]
  },
  {
   "cell_type": "code",
   "execution_count": 796,
   "metadata": {},
   "outputs": [
    {
     "name": "stdout",
     "output_type": "stream",
     "text": [
      "Train: 0.45888072654032874\n",
      "Test: 0.44867528052050537\n"
     ]
    }
   ],
   "source": [
    "model = LR(max_iter=100000)\n",
    "model.fit(X_train_new, y_train)\n",
    "\n",
    "pred = model.decision_function(X_train_new)\n",
    "print(f'Train: {aps(y_train, pred)}')\n",
    "\n",
    "pred = model.decision_function(X_test_new)\n",
    "print(f'Test: {aps(y_test, pred)}')"
   ]
  },
  {
   "cell_type": "markdown",
   "metadata": {},
   "source": [
    "Качество стало чутка лучше, но вероятно, это лишь погрешность."
   ]
  },
  {
   "cell_type": "markdown",
   "metadata": {},
   "source": [
    "### Методы фильтрации\n",
    "\n",
    "\n",
    "Давайте отбирать признаки умнее, а именно через подсчёт некоторой функции для каждого признака. На основании значений этой функции будем оставлять наиболее важные признаки. Методы этого семейства называют фильтрующими или  filter methods. \n",
    "\n",
    "В качестве такой функции будем считать t-статистику:\n",
    "\n",
    "$$t(j) = \\frac{|\\mu_+ - \\mu_-|}{\\sqrt{\\frac{n_+ \\sigma^2_+ + n_- \\sigma^2_-}{n_+ + n_-}}},$$\n",
    "\n",
    "где $\\mu$, $\\sigma$, $n$ соответственно среднее, стандартное отклонение и количество объектов каждого из классов.\n",
    "\n",
    "__Задание 9 (0.5 балла).__ Оставьте 40 признаков с наибольшим значением $t$ и замерьте качество. Не забудьте замерить скорость отбора признаков в этом случае.\n",
    "\n"
   ]
  },
  {
   "cell_type": "code",
   "execution_count": 797,
   "metadata": {},
   "outputs": [],
   "source": [
    "t_stats = []\n",
    "mask0 = y_train == 0\n",
    "mask1 = y_train == 1\n",
    "\n",
    "for col in range(X_train_trans.shape[1]):\n",
    "    mean_p =  X_train_trans[mask1, col].mean()\n",
    "    mean_n =  X_train_trans[mask0, col].mean()\n",
    "    \n",
    "    std_p = X_train_trans[mask1, col].std()\n",
    "    std_n = X_train_trans[mask0, col].std()\n",
    "    \n",
    "    n_p = X_train_trans[mask1, col].shape[0]\n",
    "    n_n = X_train_trans[mask0, col].shape[0]\n",
    "    t_stats.append(np.abs(mean_p - mean_n) / np.sqrt((n_p * std_p**2 + n_n * std_n**2) / (n_n + n_p)))"
   ]
  },
  {
   "cell_type": "code",
   "execution_count": 798,
   "metadata": {},
   "outputs": [
    {
     "name": "stdout",
     "output_type": "stream",
     "text": [
      "40\n"
     ]
    }
   ],
   "source": [
    "t_stats = np.array(t_stats)\n",
    "perc = np.percentile(t_stats, 35)\n",
    "print(len(t_stats[t_stats > perc]))\n",
    "new_weights = t_stats > perc"
   ]
  },
  {
   "cell_type": "code",
   "execution_count": 799,
   "metadata": {},
   "outputs": [],
   "source": [
    "X_train_new = X_train_trans[:,new_weights]\n",
    "X_test_new = X_test_trans[:,new_weights]"
   ]
  },
  {
   "cell_type": "code",
   "execution_count": 800,
   "metadata": {},
   "outputs": [
    {
     "name": "stdout",
     "output_type": "stream",
     "text": [
      "Train: 0.4543527665814987\n",
      "Test: 0.45166875974644694\n"
     ]
    }
   ],
   "source": [
    "model = LR(max_iter=100000)\n",
    "model.fit(X_train_new, y_train)\n",
    "\n",
    "pred = model.decision_function(X_train_new)\n",
    "print(f'Train: {aps(y_train, pred)}')\n",
    "\n",
    "pred = model.decision_function(X_test_new)\n",
    "print(f'Test: {aps(y_test, pred)}')"
   ]
  },
  {
   "cell_type": "markdown",
   "metadata": {},
   "source": [
    "### Методы-обёртки\n",
    "\n",
    "__Задание 10 (1 балл).__ \n",
    "\n",
    "Третий из рассматриваемых нами методов работает следующим образом: мы исключаем по очереди один из признаков и смотрим, как это влияет на качество. Удаляем признаки таким жадным способом, пока не окажется выполненым некоторое условие (количество признаков или ухудшение качества).\n",
    "\n",
    "Заметим, что нельзя оценивать качество по тестовой выборке, иначе мы можем переобучиться, как, например, при настройке гиперпараметров. Разделите обучающую выборку на 2 части, на одной из них обучайте модель без одного из признаков,  на второй части оценивайте качество. Исходную тестовую выборку стоит использовать только для финальной оценки качества.\n",
    "\n",
    "Снова оставьте только 40 признаков и оцените качество на тестовой выборке. Сколько времени занял такой отбор признаков?"
   ]
  },
  {
   "cell_type": "code",
   "execution_count": 54,
   "metadata": {},
   "outputs": [],
   "source": [
    "from tqdm import tqdm"
   ]
  },
  {
   "cell_type": "code",
   "execution_count": 481,
   "metadata": {},
   "outputs": [],
   "source": [
    "X_train_tr, X_val, y_train_tr, y_val = train_test_split(X_train_trans, y_train, test_size=0.2, random_state=777)"
   ]
  },
  {
   "cell_type": "code",
   "execution_count": 482,
   "metadata": {},
   "outputs": [
    {
     "name": "stderr",
     "output_type": "stream",
     "text": [
      "100%|██████████████████████████████████████████████████████████████████████████████████| 22/22 [02:26<00:00,  6.65s/it]"
     ]
    },
    {
     "name": "stdout",
     "output_type": "stream",
     "text": [
      "Wall time: 2min 26s\n"
     ]
    },
    {
     "name": "stderr",
     "output_type": "stream",
     "text": [
      "\n"
     ]
    }
   ],
   "source": [
    "%%time\n",
    "X_test_t = X_test_trans.copy()\n",
    "\n",
    "for _ in tqdm(range(0, 22)):\n",
    "    best_score = 0\n",
    "    best_ind = 0\n",
    "    for i in range(X_train_tr.shape[1]):\n",
    "        X_cand = np.hstack((X_train_tr[:,:i], X_train_tr[:,i+1:]))\n",
    "        X_cand_val = np.hstack((X_val[:,:i], X_val[:,i+1:]))\n",
    "        \n",
    "        model = LR(max_iter=100000)\n",
    "        model.fit(X_cand, y_train_tr)\n",
    "        pred = model.decision_function(X_cand_val)\n",
    "        score = aps(y_val, pred)\n",
    "        if score > best_score:\n",
    "            best_score = score\n",
    "            best_ind = i\n",
    "    X_train_tr = np.hstack((X_train_tr[:,:best_ind], X_train_tr[:,best_ind+1:]))\n",
    "    X_test_t = np.hstack((X_test_t[:,:best_ind], X_test_t[:,best_ind+1:]))\n",
    "    X_val = np.hstack((X_val[:,:best_ind], X_val[:,best_ind+1:]))"
   ]
  },
  {
   "cell_type": "code",
   "execution_count": 483,
   "metadata": {},
   "outputs": [
    {
     "name": "stdout",
     "output_type": "stream",
     "text": [
      "Train: 0.44850885232904286\n",
      "Test: 0.4404516456776622\n"
     ]
    }
   ],
   "source": [
    "model = LR(max_iter=100000)\n",
    "model.fit(X_train_tr, y_train_tr)\n",
    "\n",
    "pred = model.decision_function(X_train_tr)\n",
    "print(f'Train: {aps(y_train_tr, pred)}')\n",
    "\n",
    "pred = model.decision_function(X_test_t)\n",
    "print(f'Test: {aps(y_test, pred)}')"
   ]
  },
  {
   "cell_type": "markdown",
   "metadata": {},
   "source": [
    "Стоит отметить, что с помощью такого метода можно пойти и в обратную сторону. Попробуйте _добавлять_ по одному самому полезному признаку в выборку до тех пор, пока не наберется 40 штук. Найдется ли порог, при котором добавление следующих признаков будет только ухудшать качество модели?"
   ]
  },
  {
   "cell_type": "code",
   "execution_count": 552,
   "metadata": {},
   "outputs": [],
   "source": [
    "X_train_tr, X_val, y_train_tr, y_val = train_test_split(X_train_trans, y_train, test_size=0.2, random_state=777)"
   ]
  },
  {
   "cell_type": "code",
   "execution_count": 554,
   "metadata": {},
   "outputs": [
    {
     "name": "stderr",
     "output_type": "stream",
     "text": [
      "100%|██████████████████████████████████████████████████████████████████████████████████| 40/40 [03:20<00:00,  5.02s/it]"
     ]
    },
    {
     "name": "stdout",
     "output_type": "stream",
     "text": [
      "Wall time: 3min 20s\n"
     ]
    },
    {
     "name": "stderr",
     "output_type": "stream",
     "text": [
      "\n"
     ]
    }
   ],
   "source": [
    "%%time\n",
    "X_test_t = X_test_trans.copy()#[:,:5]\n",
    "\n",
    "\n",
    "for _ in tqdm(range(40)):\n",
    "    best_score = 0\n",
    "    best_ind = 0\n",
    "    for i in range(X_train_tr.shape[1]):\n",
    "        if _ == 0:\n",
    "            X_best_try = X_train_tr[:,i].reshape(-1, 1)\n",
    "            X_best_val_try = X_val[:, i].reshape(-1, 1)\n",
    "        else:\n",
    "            X_best_try = np.hstack((X_best, X_train_tr[:,i+1:]))\n",
    "            X_best_val_try = np.hstack((X_best_val, X_val[:,i+1:]))\n",
    "        \n",
    "        model = LR(max_iter=100000)\n",
    "        model.fit(X_best_try, y_train_tr)\n",
    "        pred = model.decision_function(X_best_val_try)\n",
    "        score = aps(y_val, pred)\n",
    "        \n",
    "        if score > best_score:\n",
    "            best_score = score\n",
    "            best_ind = i\n",
    "    if _ == 0:\n",
    "        X_best = X_train_tr[:,best_ind].reshape(-1, 1)\n",
    "        X_best_val = X_val[:,best_ind].reshape(-1, 1)\n",
    "        X_best_test = X_test_t[:,best_ind].reshape(-1, 1)\n",
    "    else:\n",
    "        X_best = np.hstack((X_best, X_train_tr[:,best_ind].reshape(-1, 1)))\n",
    "        X_best_val = np.hstack((X_best_val, X_val[:,best_ind].reshape(-1, 1)))\n",
    "        X_best_test = np.hstack((X_best_test, X_test_t[:,best_ind].reshape(-1, 1)))   \n",
    "    X_train_tr = np.hstack((X_train_tr[:,:best_ind], X_train_tr[:,best_ind+1:]))\n",
    "    X_val = np.hstack((X_val[:,:best_ind], X_val[:,best_ind+1:]))\n",
    "    X_test_t = np.hstack((X_test_t[:,:best_ind], X_test_t[:,best_ind+1:]))"
   ]
  },
  {
   "cell_type": "code",
   "execution_count": 555,
   "metadata": {},
   "outputs": [
    {
     "name": "stdout",
     "output_type": "stream",
     "text": [
      "Train: 0.3403126739195951\n",
      "Test: 0.33352566530266814\n"
     ]
    }
   ],
   "source": [
    "model = LR(max_iter=100000)\n",
    "model.fit(X_best, y_train_tr)\n",
    "\n",
    "pred = model.decision_function(X_best)\n",
    "print(f'Train: {aps(y_train_tr, pred)}')\n",
    "\n",
    "pred = model.decision_function(X_best_test)\n",
    "print(f'Test: {aps(y_test, pred)}')"
   ]
  },
  {
   "cell_type": "markdown",
   "metadata": {},
   "source": [
    "Давайте подведём итоги по отбору признаков. Назовите преимущества и недостатки каждого из методов. Какой метод привёл к наилучшему качеству?\n",
    "\n",
    "**Ответ:** Начнём с двух последних, где мы постепенно добавляем\\убираем признаки. Они работают ОООООЧЕНЬ долго, так что в реальности их вряд ли стоит использовать. Лучше всего себя показал метод со статистиками, и работает он довольно быстро. Брать признаки по масштабу тоже вполне рабочая схема, и работает она тоже оптимально."
   ]
  },
  {
   "cell_type": "markdown",
   "metadata": {},
   "source": [
    "# Часть 3. Оценка экономического эффекта модели\n",
    "\n",
    "В данной части мы займемся тем, что от вас скорее всего потребуется на реальной работе (помимо перекладки `json`, разумеется). А именно: мы соберем несколько специализированных метрик качества, попытаемся настроить модель на максимизацию _прибыли_ и оценим, сколько вообще получится заработать на этом. Разумеется, здесь будет сделано множество упрощающих жизнь допущений, но обо всем по порядку. \n",
    "\n",
    "__Задание 11 (1 балл).__ Допустим, работники вашего колл-центра получают за один звонок клиенту 1 доллар. При согласии клиента на предлагаемые условия он принесет в банк 10 долларов.\n",
    "\n",
    "Если вы всё прослушали на экономике, то напомним, что выручка — это сколько денег нам принесли клиенты, а прибыль — выручка за вычетом расходов на зарплату и прочее.\n",
    "\n",
    "Загрузите данные о телемаркетинге из предыдущего блока заданий. В этой части не нужно делить выборку - мы будем использовать кросс-валидацию. Используйте 5 фолдов, сделайте `shuffle=True, random_state=500`. По кросс-валидации у вас получится 5 вариантов обучающей и тестовой выборки. Обучите логистическую регрессию на каждой обучающей выборке (воспользуйтесь one-hot для категориальных признаков, гиперпараметры оставьте со значениями по умолчанию) и сделайте предсказания для соответствующих тестовых выборок. Допустим, всем положительным прогнозам ваши сотрудники решили позвонить. Посчитайте на всех тестовых выборках выручку и усредните. Сколько денег вы в среднем заработаете? Также вычислите стандартное отклонение.\n",
    "\n",
    "Сколько из заработанных денег придётся отдать операторам вашего колл-центра?"
   ]
  },
  {
   "cell_type": "code",
   "execution_count": 48,
   "metadata": {},
   "outputs": [],
   "source": [
    "from sklearn.model_selection import cross_validate\n",
    "from sklearn.model_selection import StratifiedKFold"
   ]
  },
  {
   "cell_type": "code",
   "execution_count": 49,
   "metadata": {},
   "outputs": [],
   "source": [
    "df = pd.read_csv('bank-additional/bank-additional-full.csv', sep=';')\n",
    "\n",
    "X = df.drop(columns=['duration', 'y'])\n",
    "y = (df.y == 'yes')\n",
    "\n",
    "column_transformer = ColumnTransformer([\n",
    "    ('ohe', OneHotEncoder(handle_unknown='ignore'), categorical),\n",
    "    ('scaling', 'passthrough', numeric),\n",
    "    ('other',  'passthrough', other)\n",
    "])\n",
    "\n",
    "X_trans = column_transformer.fit_transform(X)\n",
    "\n",
    "skf = StratifiedKFold(n_splits=5, shuffle=True, random_state=500)\n",
    "skf.get_n_splits(X_trans, y)\n",
    "\n",
    "revenues = []\n",
    "\n",
    "for train_index, test_index in skf.split(X_trans, y):\n",
    "    X_train, X_test = X_trans[train_index], X_trans[test_index]\n",
    "    y_train, y_test = y[train_index], y[test_index]\n",
    "    \n",
    "    model = LR()\n",
    "    model.fit(X_train, y_train)\n",
    "    pred = model.predict(X_test)\n",
    "    revenues.append(10 * ((pred > 0) & (y_test > 0)).sum() - (pred > 0).sum())\n",
    "revenues = np.array(revenues)"
   ]
  },
  {
   "cell_type": "code",
   "execution_count": 50,
   "metadata": {},
   "outputs": [
    {
     "data": {
      "text/plain": [
       "array([1496, 1520, 1268, 1671, 1593], dtype=int64)"
      ]
     },
     "execution_count": 50,
     "metadata": {},
     "output_type": "execute_result"
    }
   ],
   "source": [
    "revenues"
   ]
  },
  {
   "cell_type": "code",
   "execution_count": 51,
   "metadata": {},
   "outputs": [
    {
     "data": {
      "text/plain": [
       "1509.6"
      ]
     },
     "execution_count": 51,
     "metadata": {},
     "output_type": "execute_result"
    }
   ],
   "source": [
    "revenues.mean()"
   ]
  },
  {
   "cell_type": "code",
   "execution_count": 52,
   "metadata": {},
   "outputs": [
    {
     "data": {
      "text/plain": [
       "135.40251105500224"
      ]
     },
     "execution_count": 52,
     "metadata": {},
     "output_type": "execute_result"
    }
   ],
   "source": [
    "revenues.std()"
   ]
  },
  {
   "cell_type": "markdown",
   "metadata": {},
   "source": [
    "Внесем некоторую долю случайности. Пусть теперь согласный на условия клиент будет приносить не 10 долларов, а случайную величину, равномерно распределенную в интервале $[0;20)$. Проделайте все те же самые действия. Для имитации реальной ситуации **НЕ** фиксируйте `random_seed` при подсчете выручки с клиента. Что получилось?"
   ]
  },
  {
   "cell_type": "code",
   "execution_count": 590,
   "metadata": {},
   "outputs": [],
   "source": [
    "df = pd.read_csv('bank-additional/bank-additional-full.csv', sep=';')\n",
    "\n",
    "X = df.drop(columns=['duration', 'y'])\n",
    "y = (df.y == 'yes')\n",
    "\n",
    "column_transformer = ColumnTransformer([\n",
    "    ('ohe', OneHotEncoder(handle_unknown='ignore'), categorical),\n",
    "    ('scaling', 'passthrough', numeric),\n",
    "    ('other',  'passthrough', other)\n",
    "])\n",
    "\n",
    "X_trans = column_transformer.fit_transform(X)\n",
    "\n",
    "skf = StratifiedKFold(n_splits=5, shuffle=True, random_state=500)\n",
    "skf.get_n_splits(X_trans, y)\n",
    "\n",
    "revenues = []\n",
    "\n",
    "for train_index, test_index in skf.split(X_trans, y):\n",
    "    X_train, X_test = X_trans[train_index], X_trans[test_index]\n",
    "    y_train, y_test = y[train_index], y[test_index]\n",
    "    \n",
    "    model = LR()\n",
    "    model.fit(X_train, y_train)\n",
    "    pred = model.predict(X_test)\n",
    "    income = np.random.uniform(low=0, high=20, size=((pred > 0) & (y_test > 0)).sum())\n",
    "    revenues.append(income.sum() - (pred > 0).sum())\n",
    "revenues = np.array(revenues)"
   ]
  },
  {
   "cell_type": "code",
   "execution_count": 591,
   "metadata": {},
   "outputs": [
    {
     "data": {
      "text/plain": [
       "array([1600.96935887, 1496.18801381, 1231.05764362, 1737.21486064,\n",
       "       1565.85372794])"
      ]
     },
     "execution_count": 591,
     "metadata": {},
     "output_type": "execute_result"
    }
   ],
   "source": [
    "revenues"
   ]
  },
  {
   "cell_type": "code",
   "execution_count": 592,
   "metadata": {},
   "outputs": [
    {
     "data": {
      "text/plain": [
       "1526.2567209733836"
      ]
     },
     "execution_count": 592,
     "metadata": {},
     "output_type": "execute_result"
    }
   ],
   "source": [
    "revenues.mean()"
   ]
  },
  {
   "cell_type": "code",
   "execution_count": 593,
   "metadata": {},
   "outputs": [
    {
     "data": {
      "text/plain": [
       "167.1525413109112"
      ]
     },
     "execution_count": 593,
     "metadata": {},
     "output_type": "execute_result"
    }
   ],
   "source": [
    "revenues.std()"
   ]
  },
  {
   "cell_type": "markdown",
   "metadata": {},
   "source": [
    "Настройте по кросс-валидации коэффициент регуляризации модели для максимизации прибыли (считайте как случайную величину выше). Удалось ли получить какой-то выигрыш? При каком коэффициенте регуляризациии прибыль максимальна? Постройте график зависимости ожидаемой прибыли от коэффициента, также укажите стандартные отклонения (вам поможет `plt.errorbar`)."
   ]
  },
  {
   "cell_type": "code",
   "execution_count": 55,
   "metadata": {},
   "outputs": [
    {
     "name": "stderr",
     "output_type": "stream",
     "text": [
      "100%|██████████████████████████████████████████████████████████████████████████████████| 15/15 [00:22<00:00,  1.50s/it]\n"
     ]
    },
    {
     "data": {
      "text/plain": [
       "8.483428982440717"
      ]
     },
     "execution_count": 55,
     "metadata": {},
     "output_type": "execute_result"
    }
   ],
   "source": [
    "best_rev = 0\n",
    "best_c = 0\n",
    "mean_revs = []\n",
    "std_revs = []\n",
    "diap = np.logspace(-1, 2, 15)\n",
    "\n",
    "for C in tqdm(diap):\n",
    "    skf = StratifiedKFold(n_splits=5, shuffle=True, random_state=500)\n",
    "    skf.get_n_splits(X_trans, y)\n",
    "\n",
    "    revenues = []\n",
    "\n",
    "    for train_index, test_index in skf.split(X_trans, y):\n",
    "        X_train, X_test = X_trans[train_index], X_trans[test_index]\n",
    "        y_train, y_test = y[train_index], y[test_index]\n",
    "\n",
    "        model = LR(C = C)\n",
    "        model.fit(X_train, y_train)\n",
    "        pred = model.predict(X_test)\n",
    "        income = np.random.uniform(low=0, high=20, size=((pred > 0) & (y_test > 0)).sum())\n",
    "        revenues.append(income.sum() - (pred > 0).sum())\n",
    "    revenues = np.array(revenues)\n",
    "    mean_revs.append(revenues.mean())\n",
    "    std_revs.append(revenues.std())\n",
    "    if revenues.mean() > best_rev:\n",
    "        best_rev = revenues.mean()\n",
    "        best_c = C\n",
    "best_c"
   ]
  },
  {
   "cell_type": "code",
   "execution_count": 633,
   "metadata": {},
   "outputs": [
    {
     "data": {
      "text/plain": [
       "1623.8078554349354"
      ]
     },
     "execution_count": 633,
     "metadata": {},
     "output_type": "execute_result"
    }
   ],
   "source": [
    "best_rev"
   ]
  },
  {
   "cell_type": "code",
   "execution_count": 634,
   "metadata": {},
   "outputs": [
    {
     "data": {
      "text/plain": [
       "37.27593720314938"
      ]
     },
     "execution_count": 634,
     "metadata": {},
     "output_type": "execute_result"
    }
   ],
   "source": [
    "best_c"
   ]
  },
  {
   "cell_type": "code",
   "execution_count": 57,
   "metadata": {},
   "outputs": [
    {
     "data": {
      "image/png": "[encoded data removed]",
      "text/plain": [
       "<Figure size 432x288 with 1 Axes>"
      ]
     },
     "metadata": {
      "needs_background": "light"
     },
     "output_type": "display_data"
    }
   ],
   "source": [
    "plt.errorbar(diap, mean_revs, yerr=std_revs)\n",
    "plt.xscale('log')\n",
    "plt.title('Зависимость ожидаемой прибыли от С')\n",
    "plt.xlabel('C')\n",
    "plt.ylabel('Ожидаемая прибыль')\n",
    "plt.show()"
   ]
  },
  {
   "cell_type": "markdown",
   "metadata": {},
   "source": [
    "Попробуйте запустить перебор несколько раз. Находится ли каждый раз один и тот же \"лучший\" коэффициент? Присутствует ли какая-то закономерность? Какие вы можете сделать из этого выводы?"
   ]
  },
  {
   "cell_type": "code",
   "execution_count": 58,
   "metadata": {},
   "outputs": [
    {
     "name": "stderr",
     "output_type": "stream",
     "text": [
      "100%|██████████████████████████████████████████████████████████████████████████████████| 15/15 [00:22<00:00,  1.49s/it]\n",
      "100%|██████████████████████████████████████████████████████████████████████████████████| 15/15 [00:22<00:00,  1.50s/it]\n",
      "100%|██████████████████████████████████████████████████████████████████████████████████| 15/15 [00:23<00:00,  1.56s/it]\n",
      "100%|██████████████████████████████████████████████████████████████████████████████████| 15/15 [00:22<00:00,  1.47s/it]\n",
      "100%|██████████████████████████████████████████████████████████████████████████████████| 15/15 [00:22<00:00,  1.48s/it]\n",
      "100%|██████████████████████████████████████████████████████████████████████████████████| 15/15 [00:22<00:00,  1.48s/it]\n",
      "100%|██████████████████████████████████████████████████████████████████████████████████| 15/15 [00:23<00:00,  1.58s/it]\n",
      "100%|██████████████████████████████████████████████████████████████████████████████████| 15/15 [00:22<00:00,  1.50s/it]\n",
      "100%|██████████████████████████████████████████████████████████████████████████████████| 15/15 [00:22<00:00,  1.48s/it]\n",
      "100%|██████████████████████████████████████████████████████████████████████████████████| 15/15 [00:22<00:00,  1.47s/it]\n"
     ]
    }
   ],
   "source": [
    "best_cs = []\n",
    "for i in range(10):\n",
    "    best_rev = 0\n",
    "    best_c = 0\n",
    "    mean_revs = []\n",
    "    std_revs = []\n",
    "    diap = np.logspace(-1, 2, 15)\n",
    "\n",
    "    for C in tqdm(diap):\n",
    "        skf = StratifiedKFold(n_splits=5, shuffle=True, random_state=500)\n",
    "        skf.get_n_splits(X_trans, y)\n",
    "\n",
    "        revenues = []\n",
    "\n",
    "        for train_index, test_index in skf.split(X_trans, y):\n",
    "            X_train, X_test = X_trans[train_index], X_trans[test_index]\n",
    "            y_train, y_test = y[train_index], y[test_index]\n",
    "\n",
    "            model = LR(C = C)\n",
    "            model.fit(X_train, y_train)\n",
    "            pred = model.predict(X_test)\n",
    "            income = np.random.uniform(low=0, high=20, size=((pred > 0) & (y_test > 0)).sum())\n",
    "            revenues.append(income.sum() - (pred > 0).sum())\n",
    "        revenues = np.array(revenues)\n",
    "        mean_revs.append(revenues.mean())\n",
    "        std_revs.append(revenues.std())\n",
    "        if revenues.mean() > best_rev:\n",
    "            best_rev = revenues.mean()\n",
    "            best_c = C\n",
    "    best_cs.append(best_c)"
   ]
  },
  {
   "cell_type": "code",
   "execution_count": 59,
   "metadata": {},
   "outputs": [
    {
     "data": {
      "text/plain": [
       "[100.0,\n",
       " 0.16378937069540642,\n",
       " 0.16378937069540642,\n",
       " 3.1622776601683795,\n",
       " 3.1622776601683795,\n",
       " 8.483428982440717,\n",
       " 8.483428982440717,\n",
       " 8.483428982440717,\n",
       " 37.27593720314938,\n",
       " 13.894954943731374]"
      ]
     },
     "execution_count": 59,
     "metadata": {},
     "output_type": "execute_result"
    }
   ],
   "source": [
    "best_cs"
   ]
  },
  {
   "cell_type": "markdown",
   "metadata": {},
   "source": [
    "__Задание 12 (1 балл).__ Выше мы уже описали примерную экономическую модель вашей задачи. Как вы считаете, что для вашего бизнеса важнее — хороший precision или recall модели? Почему?\n",
    "\n",
    "__Ответ:__ Кажется, что recall, потому что нам важно не потерять людей, которые готовы будут оформить вклад.\n",
    "\n"
   ]
  },
  {
   "cell_type": "markdown",
   "metadata": {},
   "source": [
    "Вспомним, что на самом деле логистическая регрессия предсказывает нам вероятности положительного класса для объекта. Возможно, путем настройки порога бинаризации этих вероятностей мы сможем получить какой-то выигрыш? Проверьте ваши рассуждения выше с помощью настройки порога бинаризации на кросс-валидации для максимизации прибыли. Воспользуйтесь сеткой от 0 до 1 с шагом 0.01. Напомним, что снижение порога дает нам более высокий recall и более низкий precision, и наоборот."
   ]
  },
  {
   "cell_type": "code",
   "execution_count": 61,
   "metadata": {},
   "outputs": [
    {
     "name": "stderr",
     "output_type": "stream",
     "text": [
      "100%|████████████████████████████████████████████████████████████████████████████████| 100/100 [02:31<00:00,  1.51s/it]\n"
     ]
    },
    {
     "data": {
      "text/plain": [
       "0.13"
      ]
     },
     "execution_count": 61,
     "metadata": {},
     "output_type": "execute_result"
    }
   ],
   "source": [
    "best_rev = 0\n",
    "best_tr = 0\n",
    "mean_revs = []\n",
    "std_revs = []\n",
    "diap = np.arange(0, 1, 0.01)\n",
    "\n",
    "for tr in tqdm(diap):\n",
    "    skf = StratifiedKFold(n_splits=5, shuffle=True, random_state=500)\n",
    "    skf.get_n_splits(X_trans, y)\n",
    "\n",
    "    revenues = []\n",
    "\n",
    "    for train_index, test_index in skf.split(X_trans, y):\n",
    "        X_train, X_test = X_trans[train_index], X_trans[test_index]\n",
    "        y_train, y_test = y[train_index], y[test_index]\n",
    "\n",
    "        model = LR(C = 37)\n",
    "        model.fit(X_train, y_train)\n",
    "        pred = model.predict_proba(X_test)[:,1]\n",
    "        income = np.random.uniform(low=0, high=20, size=((pred > tr) & (y_test > 0)).sum())\n",
    "        revenues.append(income.sum() - (pred > tr).sum())\n",
    "    revenues = np.array(revenues)\n",
    "    mean_revs.append(revenues.mean())\n",
    "    std_revs.append(revenues.std())\n",
    "    if revenues.mean() > best_rev:\n",
    "        best_rev = revenues.mean()\n",
    "        best_tr = tr\n",
    "best_tr"
   ]
  },
  {
   "cell_type": "markdown",
   "metadata": {},
   "source": [
    "Порог довольно маленький, т.е. я был прав."
   ]
  },
  {
   "cell_type": "markdown",
   "metadata": {},
   "source": [
    "Постройте график зависимости прибыли от порога бинаризации, также отметьте на нем стандартные отклонения. Выделите наилучший порог. \n",
    "\n",
    "\n",
    "__Вопрос:__ Замечаете ли вы какую-то закономерность? Для правильного ответа на этот вопрос попробуйте запустить несколько раз и задумайтесь, почему порог получается в какой-то конкретной области?\n",
    "\n",
    "Да, заметил, что лучший порог всегда где то между 0.1 и 0.2, это и логично, потому что в этом случае recall меньше, а он нам важнее."
   ]
  },
  {
   "cell_type": "code",
   "execution_count": 62,
   "metadata": {},
   "outputs": [
    {
     "data": {
      "image/png": "[encoded data removed]",
      "text/plain": [
       "<Figure size 432x288 with 1 Axes>"
      ]
     },
     "metadata": {
      "needs_background": "light"
     },
     "output_type": "display_data"
    }
   ],
   "source": [
    "plt.errorbar(diap, mean_revs, yerr=std_revs)\n",
    "plt.title('Зависимость прибыли от порога бинаризации')\n",
    "plt.xlabel('Порог бинаризации')\n",
    "plt.ylabel('Ожидаемая прибыль')\n",
    "plt.show()"
   ]
  },
  {
   "cell_type": "markdown",
   "metadata": {},
   "source": [
    "Каковы значения precision и recall на выбранном пороге? Оцените по кросс-валидации. Также вычислите стандартное отклонение."
   ]
  },
  {
   "cell_type": "code",
   "execution_count": 624,
   "metadata": {},
   "outputs": [],
   "source": [
    "from sklearn.metrics import precision_score\n",
    "from sklearn.metrics import recall_score"
   ]
  },
  {
   "cell_type": "code",
   "execution_count": 651,
   "metadata": {},
   "outputs": [],
   "source": [
    "skf = StratifiedKFold(n_splits=5, shuffle=True, random_state=500)\n",
    "skf.get_n_splits(X_trans, y)\n",
    "\n",
    "precs = []\n",
    "recs = []\n",
    "\n",
    "for train_index, test_index in skf.split(X_trans, y):\n",
    "    X_train, X_test = X_trans[train_index], X_trans[test_index]\n",
    "    y_train, y_test = y[train_index], y[test_index]\n",
    "    \n",
    "    model = LR(C=37)\n",
    "    model.fit(X_train, y_train)\n",
    "    pred = model.predict_proba(X_test)[:,1]\n",
    "    pred = pred > 0.14\n",
    "    precs.append(precision_score(y_test, pred))\n",
    "    recs.append(recall_score(y_test, pred))\n",
    "    "
   ]
  },
  {
   "cell_type": "code",
   "execution_count": 652,
   "metadata": {},
   "outputs": [
    {
     "name": "stdout",
     "output_type": "stream",
     "text": [
      "[0.35741445 0.32519864 0.3485342  0.33351987 0.26190476]\n",
      "[0.60775862 0.6174569  0.57650862 0.64224138 0.7112069 ]\n"
     ]
    }
   ],
   "source": [
    "precs = np.array(precs)\n",
    "recs = np.array(recs)\n",
    "print(precs)\n",
    "print(recs)"
   ]
  },
  {
   "cell_type": "code",
   "execution_count": 653,
   "metadata": {},
   "outputs": [
    {
     "name": "stdout",
     "output_type": "stream",
     "text": [
      "Mean precision: 0.3253143832273047\n",
      "Mean recall: 0.6310344827586206\n"
     ]
    }
   ],
   "source": [
    "print(f'Mean precision: {precs.mean()}')\n",
    "print(f'Mean recall: {recs.mean()}')"
   ]
  },
  {
   "cell_type": "code",
   "execution_count": 654,
   "metadata": {},
   "outputs": [
    {
     "name": "stdout",
     "output_type": "stream",
     "text": [
      "Std precision: 0.03363836380948111\n",
      "Std recall: 0.045282218806848934\n"
     ]
    }
   ],
   "source": [
    "print(f'Std precision: {precs.std()}')\n",
    "print(f'Std recall: {recs.std()}')"
   ]
  },
  {
   "cell_type": "markdown",
   "metadata": {},
   "source": [
    "Как вы, вероятно, уже поняли, ваша модель склоняется к более высокому recall. Попробуйте оценить качество модели с помощью `PR-AUC` в зоне recall $\\geq$ 0.5. Сделайте это следующим образом - выберите только те пороги, на которых достигается необходимый recall, затем интерпретируйте отсеченный в единичном квадрате прямоугольник как новый единичный квадрат и посчитайте площадь под отсеченной кривой. "
   ]
  },
  {
   "cell_type": "code",
   "execution_count": 838,
   "metadata": {},
   "outputs": [
    {
     "name": "stderr",
     "output_type": "stream",
     "text": [
      "100%|████████████████████████████████████████████████████████████████████████████████| 100/100 [02:40<00:00,  1.60s/it]\n"
     ]
    }
   ],
   "source": [
    "recalls = []\n",
    "precs = []\n",
    "\n",
    "for tr in tqdm(diap):\n",
    "    skf = StratifiedKFold(n_splits=5, shuffle=True, random_state=500)\n",
    "    skf.get_n_splits(X_trans, y)\n",
    "\n",
    "    mean_rec = 0\n",
    "    mean_prec = 0\n",
    "    for train_index, test_index in skf.split(X_trans, y):\n",
    "        X_train, X_test = X_trans[train_index], X_trans[test_index]\n",
    "        y_train, y_test = y[train_index], y[test_index]\n",
    "\n",
    "        model = LR(C = 37)\n",
    "        model.fit(X_train, y_train)\n",
    "        pred = model.predict_proba(X_test)[:,1]\n",
    "        mean_rec += recall_score(y_test, pred > tr) / 5\n",
    "        mean_prec += precision_score(y_test, pred > tr) / 5\n",
    "    \n",
    "    recalls.append(mean_rec)\n",
    "    precs.append(mean_prec)\n"
   ]
  },
  {
   "cell_type": "code",
   "execution_count": 839,
   "metadata": {},
   "outputs": [],
   "source": [
    "recalls = np.array(recalls)\n",
    "precs = np.array(precs)"
   ]
  },
  {
   "cell_type": "code",
   "execution_count": 842,
   "metadata": {},
   "outputs": [
    {
     "name": "stdout",
     "output_type": "stream",
     "text": [
      "PR AUC:  0.3897400894891916\n"
     ]
    }
   ],
   "source": [
    "mask = recalls > 0.5\n",
    "\n",
    "recalls = recalls[mask]\n",
    "precs = precs[mask]\n",
    "\n",
    "recalls = (recalls - recalls.min()) / (recalls.max() - recalls.min())\n",
    "precs = (precs - precs.min()) / (precs.max() - precs.min())\n",
    "print('PR AUC: ', auc(recalls, precs))"
   ]
  }
 ],
 "metadata": {
  "kernelspec": {
   "display_name": "Python 3",
   "language": "python",
   "name": "python3"
  },
  "language_info": {
   "codemirror_mode": {
    "name": "ipython",
    "version": 3
   },
   "file_extension": ".py",
   "mimetype": "text/x-python",
   "name": "python",
   "nbconvert_exporter": "python",
   "pygments_lexer": "ipython3",
   "version": "3.8.8"
  }
 },
 "nbformat": 4,
 "nbformat_minor": 4
}
