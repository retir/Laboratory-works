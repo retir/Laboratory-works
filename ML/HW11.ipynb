{
 "cells": [
  {
   "cell_type": "markdown",
   "id": "2a328238",
   "metadata": {
    "id": "2a328238"
   },
   "source": [
    "# Машинное обучение, ФКН ВШЭ\n",
    "\n",
    "# Практическое задание 13. Рекомендательные системы\n",
    "\n",
    "## Общая информация\n",
    "**Дата выдачи: 20.05.2022**\n",
    "\n",
    "**Мягкий дедлайн: 03.06.2022 23:59 MSK**\n",
    "\n",
    "**Жёсткий дедлайн: 08.06.2022 23:59 MSK**\n",
    "\n",
    "## Оценивание и штрафы\n",
    "\n",
    "Каждая из задач имеет определенную «стоимость» (указана в скобках около задачи). Максимально допустимая оценка за работу — **11** баллов.\n",
    "\n",
    "Сдавать задание после указанного срока сдачи нельзя. При выставлении неполного балла за задание в связи с наличием ошибок на усмотрение проверяющего предусмотрена возможность исправить работу на указанных в ответном письме условиях.\n",
    "\n",
    "Задание выполняется самостоятельно. «Похожие» решения считаются плагиатом и все задействованные студенты (в том числе те, у кого списали) не могут получить за него больше 0 баллов (подробнее о плагиате см. на странице курса). Если вы нашли решение какого-то из заданий (или его часть) в открытом источнике, необходимо указать ссылку на этот источник в отдельном блоке в конце вашей работы (скорее всего вы будете не единственным, кто это нашел, поэтому чтобы исключить подозрение в плагиате, необходима ссылка на источник).\n",
    "\n",
    "Неэффективная реализация кода может негативно отразиться на оценке.\n",
    "\n",
    "## Формат сдачи\n",
    "Задания сдаются через систему anytask. Посылка должна содержать:\n",
    "* Ноутбук homework-practice-13-Username.ipynb\n",
    "\n",
    "Username — ваша фамилия и имя на латинице именно в таком порядке"
   ]
  },
  {
   "cell_type": "markdown",
   "id": "ee35127e",
   "metadata": {
    "id": "ee35127e"
   },
   "source": [
    "## О задании\n",
    "\n",
    "В этой работе мы будем решать задачу рекомендаций музыки. Для этого мы реализуем метод коллаборативной фильтрации и модель со скрытыми переменными, сравним их между собой и попытаемся сделать выводы. Во всех заданиях разрешается переписывать код по своему усмотрению, предложенные шаблоны несут лишь рекомендательный характер. За дополнительные эксперименты с методами и их анализ можно получить бонусные баллы."
   ]
  },
  {
   "cell_type": "code",
   "execution_count": 4,
   "id": "75f6503b",
   "metadata": {
    "id": "75f6503b"
   },
   "outputs": [],
   "source": [
    "from sklearn.preprocessing import LabelEncoder\n",
    "\n",
    "import pandas as pd\n",
    "import numpy as np\n",
    "from tqdm.notebook import tqdm\n",
    "from typing import Callable, List\n",
    "\n",
    "import matplotlib.pyplot as plt\n",
    "import seaborn as sns\n",
    "import scipy.sparse as scs"
   ]
  },
  {
   "cell_type": "code",
   "execution_count": 5,
   "id": "q39kPlJ6jsQc",
   "metadata": {
    "colab": {
     "base_uri": "https://localhost:8080/",
     "height": 204
    },
    "id": "q39kPlJ6jsQc",
    "outputId": "67fc7d37-90b0-4c9a-fb3d-f75ad031ed81"
   },
   "outputs": [
    {
     "data": {
      "text/html": [
       "<div>\n",
       "<style scoped>\n",
       "    .dataframe tbody tr th:only-of-type {\n",
       "        vertical-align: middle;\n",
       "    }\n",
       "\n",
       "    .dataframe tbody tr th {\n",
       "        vertical-align: top;\n",
       "    }\n",
       "\n",
       "    .dataframe thead th {\n",
       "        text-align: right;\n",
       "    }\n",
       "</style>\n",
       "<table border=\"1\" class=\"dataframe\">\n",
       "  <thead>\n",
       "    <tr style=\"text-align: right;\">\n",
       "      <th></th>\n",
       "      <th>userId</th>\n",
       "      <th>trackId</th>\n",
       "    </tr>\n",
       "  </thead>\n",
       "  <tbody>\n",
       "    <tr>\n",
       "      <th>0</th>\n",
       "      <td>0</td>\n",
       "      <td>14</td>\n",
       "    </tr>\n",
       "    <tr>\n",
       "      <th>1</th>\n",
       "      <td>0</td>\n",
       "      <td>95</td>\n",
       "    </tr>\n",
       "    <tr>\n",
       "      <th>2</th>\n",
       "      <td>0</td>\n",
       "      <td>219</td>\n",
       "    </tr>\n",
       "    <tr>\n",
       "      <th>3</th>\n",
       "      <td>0</td>\n",
       "      <td>220</td>\n",
       "    </tr>\n",
       "    <tr>\n",
       "      <th>4</th>\n",
       "      <td>0</td>\n",
       "      <td>404</td>\n",
       "    </tr>\n",
       "  </tbody>\n",
       "</table>\n",
       "</div>"
      ],
      "text/plain": [
       "   userId  trackId\n",
       "0       0       14\n",
       "1       0       95\n",
       "2       0      219\n",
       "3       0      220\n",
       "4       0      404"
      ]
     },
     "execution_count": 5,
     "metadata": {},
     "output_type": "execute_result"
    }
   ],
   "source": [
    "ratings = pd.read_csv('music_dataset.csv')\n",
    "ratings.head()"
   ]
  },
  {
   "cell_type": "code",
   "execution_count": 6,
   "id": "PgGrUf6TSvHC",
   "metadata": {
    "colab": {
     "base_uri": "https://localhost:8080/",
     "height": 204
    },
    "id": "PgGrUf6TSvHC",
    "outputId": "2bdd725a-c737-4f08-f520-4fcd94dca36b"
   },
   "outputs": [
    {
     "data": {
      "text/html": [
       "<div>\n",
       "<style scoped>\n",
       "    .dataframe tbody tr th:only-of-type {\n",
       "        vertical-align: middle;\n",
       "    }\n",
       "\n",
       "    .dataframe tbody tr th {\n",
       "        vertical-align: top;\n",
       "    }\n",
       "\n",
       "    .dataframe thead th {\n",
       "        text-align: right;\n",
       "    }\n",
       "</style>\n",
       "<table border=\"1\" class=\"dataframe\">\n",
       "  <thead>\n",
       "    <tr style=\"text-align: right;\">\n",
       "      <th></th>\n",
       "      <th>id</th>\n",
       "      <th>name</th>\n",
       "      <th>artists</th>\n",
       "    </tr>\n",
       "  </thead>\n",
       "  <tbody>\n",
       "    <tr>\n",
       "      <th>0</th>\n",
       "      <td>0</td>\n",
       "      <td>What There Is</td>\n",
       "      <td>['a-ha']</td>\n",
       "    </tr>\n",
       "    <tr>\n",
       "      <th>1</th>\n",
       "      <td>1</td>\n",
       "      <td>I'll Play The Blues For You</td>\n",
       "      <td>['Albert King']</td>\n",
       "    </tr>\n",
       "    <tr>\n",
       "      <th>2</th>\n",
       "      <td>2</td>\n",
       "      <td>Breaking Up Somebody's Home</td>\n",
       "      <td>['Albert King']</td>\n",
       "    </tr>\n",
       "    <tr>\n",
       "      <th>3</th>\n",
       "      <td>3</td>\n",
       "      <td>Imma Be</td>\n",
       "      <td>['Black Eyed Peas']</td>\n",
       "    </tr>\n",
       "    <tr>\n",
       "      <th>4</th>\n",
       "      <td>4</td>\n",
       "      <td>Boom Boom Pow</td>\n",
       "      <td>['Black Eyed Peas']</td>\n",
       "    </tr>\n",
       "  </tbody>\n",
       "</table>\n",
       "</div>"
      ],
      "text/plain": [
       "   id                         name              artists\n",
       "0   0                What There Is             ['a-ha']\n",
       "1   1  I'll Play The Blues For You      ['Albert King']\n",
       "2   2  Breaking Up Somebody's Home      ['Albert King']\n",
       "3   3                      Imma Be  ['Black Eyed Peas']\n",
       "4   4                Boom Boom Pow  ['Black Eyed Peas']"
      ]
     },
     "execution_count": 6,
     "metadata": {},
     "output_type": "execute_result"
    }
   ],
   "source": [
    "tracks_info = pd.read_csv('tracks_info.csv')\n",
    "tracks_info.head()"
   ]
  },
  {
   "cell_type": "markdown",
   "id": "SSvgStZZIEdz",
   "metadata": {
    "id": "SSvgStZZIEdz"
   },
   "source": [
    "Для оценки качества рекомендаций мы будем использовать метрику $MAP@k$.\n",
    "\n",
    "$$\n",
    "MAP@k = \\frac{1}{N} \\sum_{u = 1}^N AP_u@k\n",
    "$$\n",
    "$$\n",
    "AP_u@k = \\frac{1}{\\min(k, n_u)} \\sum_{i=1}^k r_u(i) p_u@i\n",
    "$$\n",
    "$$p_u@k = \\dfrac{1}{k}\\sum_{j=1}^k r_u(j)$$\n",
    "\n",
    "\n",
    "*   $N$ - количество пользователей.\n",
    "*   $n_u$ - число релевантных треков пользователя $u$ на тестовом промежутке.\n",
    "*   $r_u(i)$ - бинарная величина: относится ли трек на позиции $i$ к релевантным."
   ]
  },
  {
   "cell_type": "markdown",
   "id": "UDTWQLoKS3nA",
   "metadata": {
    "id": "UDTWQLoKS3nA"
   },
   "source": [
    "**Задание 1 (1 балл).** Реализуйте метрику $MAP@k$."
   ]
  },
  {
   "cell_type": "code",
   "execution_count": 7,
   "id": "8YW8fMfnQY08",
   "metadata": {
    "id": "8YW8fMfnQY08",
    "scrolled": true
   },
   "outputs": [],
   "source": [
    "def mapk(relevant: List[List[int]], predicted: List[List[int]], k: int = 20):\n",
    "    preds = np.array(predicted)\n",
    "    preds = preds[:,:k]\n",
    "    mask = np.array([[x in relevant[i] for x in preds[i]] for i in range(len(preds))])\n",
    "    p = np.cumsum(mask.astype(int), axis=1) / np.arange(1, k + 1)\n",
    "    coef = np.clip(np.array([len(rel) for rel in relevant]), -1, k)\n",
    "    return np.mean(np.sum((p * mask), axis=1) / coef)"
   ]
  },
  {
   "cell_type": "code",
   "execution_count": 8,
   "id": "JbKyNPk8TaIG",
   "metadata": {
    "id": "JbKyNPk8TaIG"
   },
   "outputs": [],
   "source": [
    "relevant = [\n",
    "    [1, 7, 6, 2, 8],\n",
    "    [1, 5, 4, 8],\n",
    "    [8, 2, 5]\n",
    "]\n",
    "\n",
    "pred = [\n",
    "    [8, 1, 5, 0, 7, 2, 9, 4],\n",
    "    [0, 1, 8, 5, 3, 4, 7, 9],\n",
    "    [9, 2, 0, 6, 8, 5, 3, 7]\n",
    "]\n",
    "\n",
    "assert round(mapk(relevant, pred, k=5), 4) == 0.4331"
   ]
  },
  {
   "cell_type": "markdown",
   "id": "WFYR-X49HlMl",
   "metadata": {
    "id": "WFYR-X49HlMl"
   },
   "source": [
    "Разделим данные на тренировочные и тестовые так, чтобы в теcтовый датасет попали 50 последних треков каждого пользователя."
   ]
  },
  {
   "cell_type": "code",
   "execution_count": 9,
   "id": "TEzz_ym8Go_L",
   "metadata": {
    "id": "TEzz_ym8Go_L"
   },
   "outputs": [],
   "source": [
    "def train_test_split(ratings):\n",
    "    train_ratings, test_ratings = [], []\n",
    "    num_test_samples = 50\n",
    "\n",
    "    # getting train samples\n",
    "    for userId, user_data in tqdm(ratings.groupby('userId')):\n",
    "        train_ratings += [user_data[:-num_test_samples]]\n",
    "\n",
    "    train_ratings = pd.concat(train_ratings).reset_index(drop=True)\n",
    "    all_train_items = train_ratings['trackId'].unique()\n",
    "\n",
    "    # getting train samples\n",
    "    # we drop all tracks that are not presented it the training samples,\n",
    "    # because we won't be able to learn representations for them\n",
    "    for userId, user_data in tqdm(ratings.groupby('userId')):\n",
    "        test_items = user_data[-num_test_samples:]\n",
    "        test_items = test_items[np.isin(test_items['trackId'], all_train_items)]\n",
    "        test_ratings += [test_items]\n",
    "\n",
    "    test_ratings = pd.concat(test_ratings).reset_index(drop=True)\n",
    "\n",
    "    return train_ratings, test_ratings"
   ]
  },
  {
   "cell_type": "code",
   "execution_count": 10,
   "id": "vuyiM1Lk4L-e",
   "metadata": {
    "colab": {
     "base_uri": "https://localhost:8080/",
     "height": 81,
     "referenced_widgets": [
      "1b31eda686b54f7ca8c66aef18c987f3",
      "c8a26ff7a9504ca7b9982a1fdc958364",
      "55a177c209e6414d8daae0aae25ab569",
      "5696660af0a04fbbb0743796bdd5f9b3",
      "35c5904b82544e9cac71cf7b0b67cc1e",
      "eac1572340b3491b987713ddf4fef228",
      "bc2f4104184749dbb7dcd2b5c6235238",
      "2943eba3c235416b809e23186d5625ef",
      "2ded17a125a44376abbe87ef29f2aa17",
      "0b2d687ab70343a999f3a37dfe030a9c",
      "2571c66c254d4a6c9ae5a20812e41641",
      "b1c919ee0c85468a89413d98d9926b50",
      "09367b7a291f4c81a93f79ac3bf09e9b",
      "3339a154ce00450b8d07b45eda2e887c",
      "41b564f7d67b4422abcd5ac9925eb1f2",
      "bfd4906b7ffc4ade9650aa96d140860a",
      "57bc2e2902994e799d4378888bdb342a",
      "4631243cc4dd4d1a8e3ffe3a8da29cf7",
      "a0cfdce0ec8544c49332cc831f67e777",
      "c5b91a082e7d40879f66b6685fdfcfe0",
      "f0fbd1b9ea074c1b9969417c02b32348",
      "7935cc6e74c14372a82276f0a28e4559"
     ]
    },
    "id": "vuyiM1Lk4L-e",
    "outputId": "5e4220b9-9c9e-4dba-b85d-c12ebb3a2f7a"
   },
   "outputs": [
    {
     "data": {
      "application/vnd.jupyter.widget-view+json": {
       "model_id": "9a3e6a5d32fa441ea8b5d375a7b88958",
       "version_major": 2,
       "version_minor": 0
      },
      "text/plain": [
       "  0%|          | 0/241 [00:00<?, ?it/s]"
      ]
     },
     "metadata": {},
     "output_type": "display_data"
    },
    {
     "data": {
      "application/vnd.jupyter.widget-view+json": {
       "model_id": "ec5184661bfe44c8b0a840452d981124",
       "version_major": 2,
       "version_minor": 0
      },
      "text/plain": [
       "  0%|          | 0/241 [00:00<?, ?it/s]"
      ]
     },
     "metadata": {},
     "output_type": "display_data"
    }
   ],
   "source": [
    "train_ratings, test_ratings = train_test_split(ratings)"
   ]
  },
  {
   "cell_type": "markdown",
   "id": "P3ZVqBMjBqfe",
   "metadata": {
    "id": "P3ZVqBMjBqfe"
   },
   "source": [
    "Почистим табличку с информацией о треках и закодируем id треков так, чтобы они соответствовали их порядковому номеру."
   ]
  },
  {
   "cell_type": "code",
   "execution_count": 11,
   "id": "-SCTsxeYwCO-",
   "metadata": {
    "id": "-SCTsxeYwCO-"
   },
   "outputs": [],
   "source": [
    "redundant_rows = np.where(~np.isin(tracks_info['id'], train_ratings['trackId'].unique()))[0]\n",
    "tracks_info.drop(redundant_rows, inplace=True)\n",
    "tracks_info = tracks_info.reset_index(drop=True)"
   ]
  },
  {
   "cell_type": "code",
   "execution_count": 12,
   "id": "cVfC-rfU3J49",
   "metadata": {
    "id": "cVfC-rfU3J49"
   },
   "outputs": [],
   "source": [
    "def ids_encoder(ratings):\n",
    "    users = sorted(ratings['userId'].unique())\n",
    "    items = sorted(ratings['trackId'].unique())\n",
    "\n",
    "    # create users and items encoders\n",
    "    uencoder = LabelEncoder()\n",
    "    iencoder = LabelEncoder()\n",
    "\n",
    "    # fit users and items ids to the corresponding encoder\n",
    "    uencoder.fit(users)\n",
    "    iencoder.fit(items)\n",
    "\n",
    "    return uencoder, iencoder"
   ]
  },
  {
   "cell_type": "code",
   "execution_count": 13,
   "id": "xw2VDBz9v6LT",
   "metadata": {
    "id": "xw2VDBz9v6LT"
   },
   "outputs": [],
   "source": [
    "uencoder, iencoder = ids_encoder(train_ratings)\n",
    "train_ratings['trackId'] = iencoder.transform(train_ratings['trackId'].tolist())\n",
    "test_ratings['trackId'] = iencoder.transform(test_ratings['trackId'].tolist())\n",
    "tracks_info['id'] = iencoder.transform(tracks_info['id'].tolist())"
   ]
  },
  {
   "cell_type": "code",
   "execution_count": 14,
   "id": "GfjwnUWTuhRD",
   "metadata": {
    "colab": {
     "base_uri": "https://localhost:8080/",
     "height": 204
    },
    "id": "GfjwnUWTuhRD",
    "outputId": "a68791ba-ee61-4485-f6d6-d38bf7671393"
   },
   "outputs": [
    {
     "data": {
      "text/html": [
       "<div>\n",
       "<style scoped>\n",
       "    .dataframe tbody tr th:only-of-type {\n",
       "        vertical-align: middle;\n",
       "    }\n",
       "\n",
       "    .dataframe tbody tr th {\n",
       "        vertical-align: top;\n",
       "    }\n",
       "\n",
       "    .dataframe thead th {\n",
       "        text-align: right;\n",
       "    }\n",
       "</style>\n",
       "<table border=\"1\" class=\"dataframe\">\n",
       "  <thead>\n",
       "    <tr style=\"text-align: right;\">\n",
       "      <th></th>\n",
       "      <th>userId</th>\n",
       "      <th>trackId</th>\n",
       "    </tr>\n",
       "  </thead>\n",
       "  <tbody>\n",
       "    <tr>\n",
       "      <th>0</th>\n",
       "      <td>0</td>\n",
       "      <td>14</td>\n",
       "    </tr>\n",
       "    <tr>\n",
       "      <th>1</th>\n",
       "      <td>0</td>\n",
       "      <td>95</td>\n",
       "    </tr>\n",
       "    <tr>\n",
       "      <th>2</th>\n",
       "      <td>0</td>\n",
       "      <td>219</td>\n",
       "    </tr>\n",
       "    <tr>\n",
       "      <th>3</th>\n",
       "      <td>0</td>\n",
       "      <td>220</td>\n",
       "    </tr>\n",
       "    <tr>\n",
       "      <th>4</th>\n",
       "      <td>0</td>\n",
       "      <td>404</td>\n",
       "    </tr>\n",
       "  </tbody>\n",
       "</table>\n",
       "</div>"
      ],
      "text/plain": [
       "   userId  trackId\n",
       "0       0       14\n",
       "1       0       95\n",
       "2       0      219\n",
       "3       0      220\n",
       "4       0      404"
      ]
     },
     "execution_count": 14,
     "metadata": {},
     "output_type": "execute_result"
    }
   ],
   "source": [
    "train_ratings.head()"
   ]
  },
  {
   "cell_type": "code",
   "execution_count": 15,
   "id": "rtV91NkmuizE",
   "metadata": {
    "colab": {
     "base_uri": "https://localhost:8080/",
     "height": 204
    },
    "id": "rtV91NkmuizE",
    "outputId": "4de6e82c-4ab0-43ff-c70a-dcabe5c9bd74"
   },
   "outputs": [
    {
     "data": {
      "text/html": [
       "<div>\n",
       "<style scoped>\n",
       "    .dataframe tbody tr th:only-of-type {\n",
       "        vertical-align: middle;\n",
       "    }\n",
       "\n",
       "    .dataframe tbody tr th {\n",
       "        vertical-align: top;\n",
       "    }\n",
       "\n",
       "    .dataframe thead th {\n",
       "        text-align: right;\n",
       "    }\n",
       "</style>\n",
       "<table border=\"1\" class=\"dataframe\">\n",
       "  <thead>\n",
       "    <tr style=\"text-align: right;\">\n",
       "      <th></th>\n",
       "      <th>userId</th>\n",
       "      <th>trackId</th>\n",
       "    </tr>\n",
       "  </thead>\n",
       "  <tbody>\n",
       "    <tr>\n",
       "      <th>0</th>\n",
       "      <td>0</td>\n",
       "      <td>57582</td>\n",
       "    </tr>\n",
       "    <tr>\n",
       "      <th>1</th>\n",
       "      <td>0</td>\n",
       "      <td>57802</td>\n",
       "    </tr>\n",
       "    <tr>\n",
       "      <th>2</th>\n",
       "      <td>0</td>\n",
       "      <td>57957</td>\n",
       "    </tr>\n",
       "    <tr>\n",
       "      <th>3</th>\n",
       "      <td>0</td>\n",
       "      <td>58174</td>\n",
       "    </tr>\n",
       "    <tr>\n",
       "      <th>4</th>\n",
       "      <td>0</td>\n",
       "      <td>59168</td>\n",
       "    </tr>\n",
       "  </tbody>\n",
       "</table>\n",
       "</div>"
      ],
      "text/plain": [
       "   userId  trackId\n",
       "0       0    57582\n",
       "1       0    57802\n",
       "2       0    57957\n",
       "3       0    58174\n",
       "4       0    59168"
      ]
     },
     "execution_count": 15,
     "metadata": {},
     "output_type": "execute_result"
    }
   ],
   "source": [
    "test_ratings.head()"
   ]
  },
  {
   "cell_type": "markdown",
   "id": "COtKDquLRrVV",
   "metadata": {
    "id": "COtKDquLRrVV"
   },
   "source": [
    "Соберем все релевантные треки для каждого пользователя в список."
   ]
  },
  {
   "cell_type": "code",
   "execution_count": 16,
   "id": "UOCGl5rpPrDn",
   "metadata": {
    "id": "UOCGl5rpPrDn"
   },
   "outputs": [],
   "source": [
    "test_relevant = []\n",
    "test_users = []\n",
    "for user_id, user_data in test_ratings.groupby('userId'):\n",
    "    test_relevant += [user_data['trackId'].tolist()]\n",
    "    test_users.append(user_id)"
   ]
  },
  {
   "cell_type": "markdown",
   "id": "3UyBjs1SULH9",
   "metadata": {
    "id": "3UyBjs1SULH9"
   },
   "source": [
    "**Задание 2 (0.5 балла).** Реализуйте метод `get_test_recommendations` в классе `BaseModel`. Он принимает на вход параметр `k` и возвращает массив из `k` наиболее подходящих треков для каждого пользователя. Не забывайте удалять уже прослушанные треки из рекомендуемых."
   ]
  },
  {
   "cell_type": "code",
   "execution_count": 17,
   "id": "sXnUGtM3XOp7",
   "metadata": {
    "id": "sXnUGtM3XOp7"
   },
   "outputs": [],
   "source": [
    "class BaseModel:\n",
    "    def __init__(self, ratings: pd.DataFrame):\n",
    "        self.ratings = ratings\n",
    "        self.n_users = len(np.unique(self.ratings['userId']))\n",
    "        self.n_items = len(np.unique(self.ratings['trackId']))\n",
    "\n",
    "        self.R = np.zeros((self.n_users, self.n_items))\n",
    "        self.R[self.ratings['userId'], self.ratings['trackId']] = 1.\n",
    "        \n",
    "    def recommend(self, uid: int):\n",
    "        \"\"\"\n",
    "        param uid: int - user's id\n",
    "        return: [n_items] - vector of recommended items sorted by their scores in descending order\n",
    "        \"\"\"\n",
    "        raise NotImplementedError\n",
    "\n",
    "    def remove_train_items(self, preds: List[List[int]], k: int):\n",
    "        \"\"\"\n",
    "        param preds: [n_users, n_items] - recommended items for each user\n",
    "        param k: int\n",
    "        return: np.array [n_users, k] - recommended items without training examples\n",
    "        \"\"\"\n",
    "        new_preds = np.zeros((len(preds), k), dtype=int)\n",
    "        for user_id, user_data in self.ratings.groupby('userId'):\n",
    "            if user_id >= len(preds):\n",
    "                break\n",
    "            user_preds = preds[user_id]\n",
    "            new_preds[user_id] = user_preds[~np.in1d(user_preds, user_data['trackId'])][:k]\n",
    "\n",
    "        return new_preds\n",
    "\n",
    "    def get_test_recommendations(self, k: int):\n",
    "        test_preds = []\n",
    "        for user_id in range(self.n_users):\n",
    "            test_preds.append(self.recommend(user_id))\n",
    "        test_preds = self.remove_train_items(test_preds, k)\n",
    "        \n",
    "        return test_preds[test_users]"
   ]
  },
  {
   "cell_type": "markdown",
   "id": "jMdKX1DZ-o4V",
   "metadata": {
    "id": "jMdKX1DZ-o4V"
   },
   "source": [
    "## Часть 1. Коллаборативная фильтрация (User2User)"
   ]
  },
  {
   "cell_type": "markdown",
   "id": "t_ZLzg_0XxVf",
   "metadata": {
    "id": "t_ZLzg_0XxVf"
   },
   "source": [
    "Идея: чтобы выбрать треки, которые понравятся пользователю, можно набрать несколько похожих на него пользователей (соседей) и посмотреть, какие треки они слушают. После этого остается агрегировать треки этих пользователей и выбрать самые популярные. Соответственно, задача состоит из двух частей: выбора функции похожести двух пользователей и способа агрегации.\n",
    "\n",
    "В качестве функции похожести мы будем использовать две метрики:\n",
    "\n",
    "1. Корреляция Пирсона $$s(u, v) = \\frac{\\sum_{i \\in I_u \\cap I_v} r_{ui}r_{vi}}{\\sqrt{\\sum_{i \\in I_u} r_{ui} ^2}\\sqrt{\\sum_{i \\in I_v} r_{vi}^2}} $$\n",
    "\n",
    "2. Мера Жаккара\n",
    "\n",
    "$$ s(u, v) = \\frac{|I_u \\cap I_v|}{|I_u \\cup I_v|} $$\n",
    "\n",
    "\n",
    "Корреляция Пирсона немного видоизменена, чтобы подходить под нашу задачу.\n",
    "\n",
    "\n",
    "Во всех формулах \n",
    "* $I_u$ - множество треков, прослушанных пользователем $u$.\n",
    "* $r_{ui}$ - прослушал ли пользователь $u$ трек $i$ (0 или 1).\n",
    "\n",
    "Множество соседей определим как $$N(u) = \\{ v \\in U \\setminus \\{u\\} \\mid s(u, v) > \\alpha\\},$$ где $\\alpha \\, - $ гиперпараметр.\n",
    "\n",
    "\n",
    "\n",
    "Для агрегации мы будем пользоваться следующей формулой.\n",
    "$$\n",
    "\\hat{r}_{ui} = \\frac{\\sum_{v \\in N(u)} s(u, v) r_{vi}}{\\sum_{v \\in N(u)} |s(u, v)|}\n",
    "$$"
   ]
  },
  {
   "cell_type": "markdown",
   "id": "YJyD1LVTKK9A",
   "metadata": {
    "id": "YJyD1LVTKK9A"
   },
   "source": [
    "**Задание 3.1 (1 балл).** Реализуйте функцию подсчета корреляции Пирсона.\n",
    "\n",
    "**Задание 3.2 (0.5 балла).** Реализуйте функцию подсчета меры Жаккара.\n",
    "\n",
    "Функции принимают матрицу оценок и вектор оценок пользователя $u$ и возвращают вектор со значениями похожести пользователя $u$ на всех пользователей. Старайтесь писать оптимизированный код, за неэффективную реализацию оценка может быть снижена."
   ]
  },
  {
   "cell_type": "code",
   "execution_count": 18,
   "id": "rRvSRm_aWZMR",
   "metadata": {
    "id": "rRvSRm_aWZMR"
   },
   "outputs": [],
   "source": [
    "def pearson(ratings: np.array, user_vector: np.array) -> np.array:\n",
    "    num = ratings @ user_vector\n",
    "    denum = np.sqrt(np.sum(ratings, axis=1))\n",
    "\n",
    "    return num / denum / np.sqrt(np.sum(user_vector))\n",
    "    \n",
    "\n",
    "\n",
    "def jaccard(ratings: np.array, user_vector: np.array) -> np.array:\n",
    "    num = ratings @ user_vector\n",
    "    denum = ratings @ np.ones(len(user_vector)) + np.sum(user_vector) - num\n",
    "    \n",
    "    return num / denum"
   ]
  },
  {
   "cell_type": "markdown",
   "id": "WMLtM7ffNWdx",
   "metadata": {
    "id": "WMLtM7ffNWdx"
   },
   "source": [
    "**Задание 4 (1 балл).** Реализуйте методы `similarity` и `recommend` класса `User2User`. `recommend` возвращает индексы треков, отсортированные в порядке убывания предсказанных оценок.\n"
   ]
  },
  {
   "cell_type": "code",
   "execution_count": 19,
   "id": "5ZIz0G1RJbXl",
   "metadata": {
    "id": "5ZIz0G1RJbXl"
   },
   "outputs": [],
   "source": [
    "class User2User(BaseModel):\n",
    "    def __init__(self, ratings, similarity_func):\n",
    "        super().__init__(ratings)\n",
    "\n",
    "        assert similarity_func in [pearson, jaccard]\n",
    "\n",
    "        self.similarity_func = similarity_func\n",
    "        self.alpha = 0.02\n",
    "\n",
    "    def similarity(self, user_vector: np.array):\n",
    "        \"\"\"\n",
    "        user_vector: [n_items]\n",
    "        \"\"\"\n",
    "        distances = np.asarray(self.similarity_func(self.R, user_vector)).reshape(-1)\n",
    "        sorted_args = np.argsort(-distances)\n",
    "        tmp = distances[sorted_args]\n",
    "        mask = (tmp >= self.alpha)\n",
    "        if not mask[1]:      \n",
    "            mask[1] = True\n",
    "        sorted_args = sorted_args[mask]\n",
    "        return sorted_args[1:], distances[sorted_args][1:]\n",
    "\n",
    "    def recommend(self, uid: int):\n",
    "        closest_users, dist = self.similarity(self.R[uid])\n",
    "        neigh_raitings = self.R[closest_users, :]\n",
    "        predicts = dist.T @ neigh_raitings / np.sum(np.abs(dist))\n",
    "        \n",
    "        return np.argsort(-predicts)"
   ]
  },
  {
   "cell_type": "code",
   "execution_count": 20,
   "id": "f1971f18",
   "metadata": {},
   "outputs": [],
   "source": [
    "def pearson(ratings: np.array, user_vector: np.array) -> np.array:\n",
    "    num = ratings @ user_vector.reshape(-1, 1)\n",
    "    denum = np.sqrt(np.sum(ratings, axis=1)).reshape(-1, 1) \n",
    "\n",
    "    return num / denum / np.sqrt(np.sum(user_vector))\n",
    "    \n",
    "\n",
    "\n",
    "def jaccard(ratings: np.array, user_vector: np.array) -> np.array:\n",
    "    num = ratings @ user_vector.reshape(-1, 1)\n",
    "    denum = ratings.sum(axis=1).reshape(-1, 1) + np.sum(user_vector) - num\n",
    "    return num / denum"
   ]
  },
  {
   "cell_type": "code",
   "execution_count": 21,
   "id": "cdff7f8d",
   "metadata": {},
   "outputs": [
    {
     "data": {
      "application/vnd.jupyter.widget-view+json": {
       "model_id": "18e335b63eff4e17bcdb3e3c534c709e",
       "version_major": 2,
       "version_minor": 0
      },
      "text/plain": [
       "  0%|          | 0/235 [00:00<?, ?it/s]"
      ]
     },
     "metadata": {},
     "output_type": "display_data"
    },
    {
     "data": {
      "text/plain": [
       "0.0006997635933806147"
      ]
     },
     "execution_count": 21,
     "metadata": {},
     "output_type": "execute_result"
    }
   ],
   "source": [
    "model = User2User(train_ratings, pearson)\n",
    "preds = []\n",
    "for user in tqdm(test_users):\n",
    "    preds.append(model.recommend(user))\n",
    "preds = model.remove_train_items(preds, 10)\n",
    "mapk(test_relevant, preds, k=10)"
   ]
  },
  {
   "cell_type": "markdown",
   "id": "kqEwJiFOSs2r",
   "metadata": {
    "id": "kqEwJiFOSs2r"
   },
   "source": [
    "**Задание 5 (1 балл).** Постройте графики зависимости значений $MAP@k$ от разных $k$ для обоих функций похожести, сравните их между собой, а также с предсказаниями случайного алгоритма и сделайте выводы."
   ]
  },
  {
   "cell_type": "code",
   "execution_count": 105,
   "id": "tyswL-dlNpy7",
   "metadata": {
    "id": "tyswL-dlNpy7"
   },
   "outputs": [
    {
     "data": {
      "application/vnd.jupyter.widget-view+json": {
       "model_id": "12291a2bf4e843ba93668d65c454da04",
       "version_major": 2,
       "version_minor": 0
      },
      "text/plain": [
       "  0%|          | 0/10 [00:00<?, ?it/s]"
      ]
     },
     "metadata": {},
     "output_type": "display_data"
    }
   ],
   "source": [
    "pearson_scores = []\n",
    "jaccard_scoreds = []\n",
    "random_scores = []\n",
    "ks = np.arange(1, 51, 5)\n",
    "\n",
    "for k in tqdm(ks):\n",
    "    model = User2User(train_ratings, pearson)\n",
    "    preds = model.get_test_recommendations(k)\n",
    "    pearson_scores.append(mapk(test_relevant, preds, k=k))\n",
    "    \n",
    "    model = User2User(train_ratings, jaccard)\n",
    "    preds = model.get_test_recommendations(k)\n",
    "    jaccard_scoreds.append(mapk(test_relevant, preds, k=k))\n",
    "    \n",
    "    preds = []\n",
    "    for user in test_users:\n",
    "        random_args = np.arange(model.n_items)\n",
    "        np.random.shuffle(random_args)\n",
    "        preds.append(random_args)\n",
    "    preds = model.remove_train_items(preds, k)\n",
    "    random_scores.append(mapk(test_relevant, preds, k=k))\n",
    "    \n",
    "    \n",
    "    "
   ]
  },
  {
   "cell_type": "code",
   "execution_count": 106,
   "id": "78027273",
   "metadata": {},
   "outputs": [
    {
     "data": {
      "image/png": "[encoded data removed]",
      "text/plain": [
       "<Figure size 432x288 with 1 Axes>"
      ]
     },
     "metadata": {
      "needs_background": "light"
     },
     "output_type": "display_data"
    }
   ],
   "source": [
    "plt.plot(ks, pearson_scores, label='pearsin')\n",
    "plt.plot(ks, jaccard_scoreds, label='jaccard')\n",
    "plt.plot(ks, random_scores, label='random')\n",
    "plt.legend()\n",
    "plt.show()"
   ]
  },
  {
   "cell_type": "markdown",
   "id": "0Fy7v-b-WDQE",
   "metadata": {
    "id": "0Fy7v-b-WDQE"
   },
   "source": [
    "**Бонус (1.5 балла).** Как вы могли заметить, матрица оценок получается очень разреженной, но мы работаем с ней как с обычной, это не дело. Перепишите код так, чтобы все методы могли работать с разреженными матрицами и сравните скорость работы такого подхода с оригинальным."
   ]
  },
  {
   "cell_type": "code",
   "execution_count": 22,
   "id": "4jQiwrTbW_DL",
   "metadata": {
    "id": "4jQiwrTbW_DL"
   },
   "outputs": [],
   "source": [
    "from scipy.sparse import csr_matrix\n",
    "\n",
    "class User2UserSparse(User2User):\n",
    "    def __init__(self, ratings, similarity_func):\n",
    "        super().__init__(ratings, similarity_func)\n",
    "        self.R = csr_matrix(self.R)"
   ]
  },
  {
   "cell_type": "code",
   "execution_count": 24,
   "id": "c7f1734d",
   "metadata": {},
   "outputs": [
    {
     "data": {
      "application/vnd.jupyter.widget-view+json": {
       "model_id": "7c3ed4af485c4caca587bf1bf09a261e",
       "version_major": 2,
       "version_minor": 0
      },
      "text/plain": [
       "  0%|          | 0/235 [00:00<?, ?it/s]"
      ]
     },
     "metadata": {},
     "output_type": "display_data"
    },
    {
     "data": {
      "text/plain": [
       "0.0006997635933806147"
      ]
     },
     "execution_count": 24,
     "metadata": {},
     "output_type": "execute_result"
    }
   ],
   "source": [
    "model = User2UserSparse(train_ratings, pearson)\n",
    "preds = []\n",
    "for user in tqdm(test_users):\n",
    "    preds.append(model.recommend(user))\n",
    "preds = model.remove_train_items(preds, 10)\n",
    "mapk(test_relevant, preds, k=10)"
   ]
  },
  {
   "cell_type": "markdown",
   "id": "e2d3d450",
   "metadata": {},
   "source": [
    "Скорость работы, как и ожидалось, на порядки выше"
   ]
  },
  {
   "cell_type": "markdown",
   "id": "DmuMhWS4CEFe",
   "metadata": {
    "id": "DmuMhWS4CEFe"
   },
   "source": [
    "Мы можем посмотреть глазами, насколько хорошо модель рекомендует треки. Для этого сравним уже прослушанные треки с рекомендованными и релевантными для случайного пользователя. Хорошо ли у вас получилось?"
   ]
  },
  {
   "cell_type": "code",
   "execution_count": 25,
   "id": "QAHDWgHfkCQh",
   "metadata": {
    "id": "QAHDWgHfkCQh"
   },
   "outputs": [],
   "source": [
    "user_id = np.random.randint(0, model.n_users)"
   ]
  },
  {
   "cell_type": "code",
   "execution_count": 26,
   "id": "_d3tafMuko5O",
   "metadata": {
    "colab": {
     "base_uri": "https://localhost:8080/",
     "height": 531
    },
    "id": "_d3tafMuko5O",
    "outputId": "6c6c53ab-8329-4747-9015-9105a113d7ca"
   },
   "outputs": [
    {
     "name": "stdout",
     "output_type": "stream",
     "text": [
      "Already listened tracks:\n"
     ]
    },
    {
     "data": {
      "text/html": [
       "<div>\n",
       "<style scoped>\n",
       "    .dataframe tbody tr th:only-of-type {\n",
       "        vertical-align: middle;\n",
       "    }\n",
       "\n",
       "    .dataframe tbody tr th {\n",
       "        vertical-align: top;\n",
       "    }\n",
       "\n",
       "    .dataframe thead th {\n",
       "        text-align: right;\n",
       "    }\n",
       "</style>\n",
       "<table border=\"1\" class=\"dataframe\">\n",
       "  <thead>\n",
       "    <tr style=\"text-align: right;\">\n",
       "      <th></th>\n",
       "      <th>name</th>\n",
       "      <th>artists</th>\n",
       "    </tr>\n",
       "  </thead>\n",
       "  <tbody>\n",
       "    <tr>\n",
       "      <th>215</th>\n",
       "      <td>Lick It Up</td>\n",
       "      <td>['Kiss']</td>\n",
       "    </tr>\n",
       "    <tr>\n",
       "      <th>220</th>\n",
       "      <td>I Was Made For Lovin' You</td>\n",
       "      <td>['Kiss']</td>\n",
       "    </tr>\n",
       "    <tr>\n",
       "      <th>222</th>\n",
       "      <td>I Go To Sleep</td>\n",
       "      <td>['Sia']</td>\n",
       "    </tr>\n",
       "    <tr>\n",
       "      <th>379</th>\n",
       "      <td>Sway</td>\n",
       "      <td>['The Pussycat Dolls']</td>\n",
       "    </tr>\n",
       "    <tr>\n",
       "      <th>391</th>\n",
       "      <td>Autumn Serenade</td>\n",
       "      <td>['John Coltrane', 'Johnny Hartman']</td>\n",
       "    </tr>\n",
       "    <tr>\n",
       "      <th>518</th>\n",
       "      <td>Desafinado</td>\n",
       "      <td>['Stan Getz', 'Charlie Byrd']</td>\n",
       "    </tr>\n",
       "    <tr>\n",
       "      <th>541</th>\n",
       "      <td>Moonlight And Vodka</td>\n",
       "      <td>['Chris De Burgh']</td>\n",
       "    </tr>\n",
       "    <tr>\n",
       "      <th>898</th>\n",
       "      <td>Desnúdate Mujer</td>\n",
       "      <td>['David Bisbal']</td>\n",
       "    </tr>\n",
       "    <tr>\n",
       "      <th>1316</th>\n",
       "      <td>Tears In Heaven</td>\n",
       "      <td>['Eric Clapton']</td>\n",
       "    </tr>\n",
       "    <tr>\n",
       "      <th>1865</th>\n",
       "      <td>та4то</td>\n",
       "      <td>['Бумбокс']</td>\n",
       "    </tr>\n",
       "    <tr>\n",
       "      <th>2061</th>\n",
       "      <td>Гагарин, я вас любила</td>\n",
       "      <td>['Ундервуд']</td>\n",
       "    </tr>\n",
       "    <tr>\n",
       "      <th>2243</th>\n",
       "      <td>Я устал</td>\n",
       "      <td>['Quest Pistols Show']</td>\n",
       "    </tr>\n",
       "    <tr>\n",
       "      <th>2878</th>\n",
       "      <td>Don't Explain</td>\n",
       "      <td>['Herbie Hancock']</td>\n",
       "    </tr>\n",
       "    <tr>\n",
       "      <th>3092</th>\n",
       "      <td>A Song for You</td>\n",
       "      <td>['Michael Bublé', 'Chris Botti']</td>\n",
       "    </tr>\n",
       "    <tr>\n",
       "      <th>3344</th>\n",
       "      <td>Now And Forever</td>\n",
       "      <td>['Richard Marx']</td>\n",
       "    </tr>\n",
       "  </tbody>\n",
       "</table>\n",
       "</div>"
      ],
      "text/plain": [
       "                           name                              artists\n",
       "215                  Lick It Up                             ['Kiss']\n",
       "220   I Was Made For Lovin' You                             ['Kiss']\n",
       "222               I Go To Sleep                              ['Sia']\n",
       "379                        Sway               ['The Pussycat Dolls']\n",
       "391             Autumn Serenade  ['John Coltrane', 'Johnny Hartman']\n",
       "518                  Desafinado        ['Stan Getz', 'Charlie Byrd']\n",
       "541         Moonlight And Vodka                   ['Chris De Burgh']\n",
       "898             Desnúdate Mujer                     ['David Bisbal']\n",
       "1316            Tears In Heaven                     ['Eric Clapton']\n",
       "1865                      та4то                          ['Бумбокс']\n",
       "2061      Гагарин, я вас любила                         ['Ундервуд']\n",
       "2243                    Я устал               ['Quest Pistols Show']\n",
       "2878              Don't Explain                   ['Herbie Hancock']\n",
       "3092             A Song for You     ['Michael Bublé', 'Chris Botti']\n",
       "3344            Now And Forever                     ['Richard Marx']"
      ]
     },
     "execution_count": 26,
     "metadata": {},
     "output_type": "execute_result"
    }
   ],
   "source": [
    "listened_tracks = train_ratings[train_ratings.userId == user_id].trackId[:15]\n",
    "\n",
    "print('Already listened tracks:')\n",
    "\n",
    "tracks_info.loc[listened_tracks][['name', 'artists']]"
   ]
  },
  {
   "cell_type": "code",
   "execution_count": 27,
   "id": "t0jACzw6ko5P",
   "metadata": {
    "colab": {
     "base_uri": "https://localhost:8080/",
     "height": 563,
     "referenced_widgets": [
      "352dc0a1aa2049da8389d238673e0d74",
      "a1fff232a45c47b4a472b376f4bb786b",
      "cdda2f364c4b4873ba46321cd0980ab2",
      "56340e3947544c43afda403ff222f5a3",
      "05d9c5e3f43f4b7f8b85ed1e3d5a74a3",
      "359731880a5947499c9a5e4be6e91c89",
      "7fd233ee0bf54983acb61485fe779111",
      "927ea86a465d45ae873fc8ae164a9f72",
      "e5fdb05a8acb41368703134ed69d7875",
      "ec6478706bb140c08b20f2ba05a17205",
      "940629cc1c16475cbd2858e55f2f881f"
     ]
    },
    "id": "t0jACzw6ko5P",
    "outputId": "c04b5613-5f4d-4e7a-a502-22aebc7c0637"
   },
   "outputs": [
    {
     "name": "stdout",
     "output_type": "stream",
     "text": [
      "Predicted tracks:\n"
     ]
    },
    {
     "data": {
      "text/html": [
       "<div>\n",
       "<style scoped>\n",
       "    .dataframe tbody tr th:only-of-type {\n",
       "        vertical-align: middle;\n",
       "    }\n",
       "\n",
       "    .dataframe tbody tr th {\n",
       "        vertical-align: top;\n",
       "    }\n",
       "\n",
       "    .dataframe thead th {\n",
       "        text-align: right;\n",
       "    }\n",
       "</style>\n",
       "<table border=\"1\" class=\"dataframe\">\n",
       "  <thead>\n",
       "    <tr style=\"text-align: right;\">\n",
       "      <th></th>\n",
       "      <th>name</th>\n",
       "      <th>artists</th>\n",
       "    </tr>\n",
       "  </thead>\n",
       "  <tbody>\n",
       "    <tr>\n",
       "      <th>31358</th>\n",
       "      <td>Rockabye</td>\n",
       "      <td>['Clean Bandit', 'Sean Paul', 'Anne-Marie']</td>\n",
       "    </tr>\n",
       "    <tr>\n",
       "      <th>24500</th>\n",
       "      <td>Way Down We Go</td>\n",
       "      <td>['KALEO']</td>\n",
       "    </tr>\n",
       "    <tr>\n",
       "      <th>19452</th>\n",
       "      <td>Prayer in C</td>\n",
       "      <td>['Robin Schulz', 'Lilly Wood &amp; The Prick']</td>\n",
       "    </tr>\n",
       "    <tr>\n",
       "      <th>18459</th>\n",
       "      <td>Take Me To Church</td>\n",
       "      <td>['Hozier']</td>\n",
       "    </tr>\n",
       "    <tr>\n",
       "      <th>805</th>\n",
       "      <td>Zombie</td>\n",
       "      <td>['The Cranberries']</td>\n",
       "    </tr>\n",
       "    <tr>\n",
       "      <th>24995</th>\n",
       "      <td>Runnin' (Lose It All)</td>\n",
       "      <td>['Naughty Boy', 'Beyoncé', 'Arrow Benjamin']</td>\n",
       "    </tr>\n",
       "    <tr>\n",
       "      <th>20218</th>\n",
       "      <td>I'm Not The Only One</td>\n",
       "      <td>['Sam Smith']</td>\n",
       "    </tr>\n",
       "    <tr>\n",
       "      <th>22325</th>\n",
       "      <td>Dancin</td>\n",
       "      <td>['Aaron Smith', 'Krono', 'Luvli']</td>\n",
       "    </tr>\n",
       "    <tr>\n",
       "      <th>12253</th>\n",
       "      <td>Friends</td>\n",
       "      <td>['Aura Dione', 'Rock Mafia']</td>\n",
       "    </tr>\n",
       "    <tr>\n",
       "      <th>15877</th>\n",
       "      <td>Get Lucky</td>\n",
       "      <td>['Daft Punk', 'Pharrell Williams', 'Nile Rodge...</td>\n",
       "    </tr>\n",
       "    <tr>\n",
       "      <th>24474</th>\n",
       "      <td>Ocean Drive</td>\n",
       "      <td>['Duke Dumont']</td>\n",
       "    </tr>\n",
       "    <tr>\n",
       "      <th>27064</th>\n",
       "      <td>Feel</td>\n",
       "      <td>['Mahmut Orhan', 'Sena Sener']</td>\n",
       "    </tr>\n",
       "    <tr>\n",
       "      <th>11950</th>\n",
       "      <td>Somebody That I Used To Know</td>\n",
       "      <td>['Gotye', 'Kimbra']</td>\n",
       "    </tr>\n",
       "    <tr>\n",
       "      <th>30642</th>\n",
       "      <td>My Way</td>\n",
       "      <td>['Calvin Harris']</td>\n",
       "    </tr>\n",
       "    <tr>\n",
       "      <th>23021</th>\n",
       "      <td>Are You with Me</td>\n",
       "      <td>['Lost Frequencies']</td>\n",
       "    </tr>\n",
       "  </tbody>\n",
       "</table>\n",
       "</div>"
      ],
      "text/plain": [
       "                               name  \\\n",
       "31358                      Rockabye   \n",
       "24500                Way Down We Go   \n",
       "19452                   Prayer in C   \n",
       "18459             Take Me To Church   \n",
       "805                          Zombie   \n",
       "24995         Runnin' (Lose It All)   \n",
       "20218          I'm Not The Only One   \n",
       "22325                        Dancin   \n",
       "12253                       Friends   \n",
       "15877                     Get Lucky   \n",
       "24474                   Ocean Drive   \n",
       "27064                          Feel   \n",
       "11950  Somebody That I Used To Know   \n",
       "30642                        My Way   \n",
       "23021               Are You with Me   \n",
       "\n",
       "                                                 artists  \n",
       "31358        ['Clean Bandit', 'Sean Paul', 'Anne-Marie']  \n",
       "24500                                          ['KALEO']  \n",
       "19452         ['Robin Schulz', 'Lilly Wood & The Prick']  \n",
       "18459                                         ['Hozier']  \n",
       "805                                  ['The Cranberries']  \n",
       "24995       ['Naughty Boy', 'Beyoncé', 'Arrow Benjamin']  \n",
       "20218                                      ['Sam Smith']  \n",
       "22325                  ['Aaron Smith', 'Krono', 'Luvli']  \n",
       "12253                       ['Aura Dione', 'Rock Mafia']  \n",
       "15877  ['Daft Punk', 'Pharrell Williams', 'Nile Rodge...  \n",
       "24474                                    ['Duke Dumont']  \n",
       "27064                     ['Mahmut Orhan', 'Sena Sener']  \n",
       "11950                                ['Gotye', 'Kimbra']  \n",
       "30642                                  ['Calvin Harris']  \n",
       "23021                               ['Lost Frequencies']  "
      ]
     },
     "execution_count": 27,
     "metadata": {},
     "output_type": "execute_result"
    }
   ],
   "source": [
    "preds = model.get_test_recommendations(15)\n",
    "\n",
    "print('Predicted tracks:')\n",
    "\n",
    "tracks_info.loc[preds[user_id]][['name', 'artists']]"
   ]
  },
  {
   "cell_type": "code",
   "execution_count": 28,
   "id": "8_UZCIxrko5Q",
   "metadata": {
    "colab": {
     "base_uri": "https://localhost:8080/",
     "height": 531
    },
    "id": "8_UZCIxrko5Q",
    "outputId": "1442d3b3-a4a8-42a7-eef6-9ce6cef7aad5"
   },
   "outputs": [
    {
     "name": "stdout",
     "output_type": "stream",
     "text": [
      "Test-time tracks:\n"
     ]
    },
    {
     "data": {
      "text/html": [
       "<div>\n",
       "<style scoped>\n",
       "    .dataframe tbody tr th:only-of-type {\n",
       "        vertical-align: middle;\n",
       "    }\n",
       "\n",
       "    .dataframe tbody tr th {\n",
       "        vertical-align: top;\n",
       "    }\n",
       "\n",
       "    .dataframe thead th {\n",
       "        text-align: right;\n",
       "    }\n",
       "</style>\n",
       "<table border=\"1\" class=\"dataframe\">\n",
       "  <thead>\n",
       "    <tr style=\"text-align: right;\">\n",
       "      <th></th>\n",
       "      <th>name</th>\n",
       "      <th>artists</th>\n",
       "    </tr>\n",
       "  </thead>\n",
       "  <tbody>\n",
       "    <tr>\n",
       "      <th>19178</th>\n",
       "      <td>До рассвета</td>\n",
       "      <td>['Arsenium', 'Сати Казанова']</td>\n",
       "    </tr>\n",
       "    <tr>\n",
       "      <th>19379</th>\n",
       "      <td>Улыбайся</td>\n",
       "      <td>['IOWA']</td>\n",
       "    </tr>\n",
       "    <tr>\n",
       "      <th>19725</th>\n",
       "      <td>Time in a Bottle</td>\n",
       "      <td>['Jim Croce']</td>\n",
       "    </tr>\n",
       "    <tr>\n",
       "      <th>19820</th>\n",
       "      <td>Time In A Bottle</td>\n",
       "      <td>['Jim Croce']</td>\n",
       "    </tr>\n",
       "    <tr>\n",
       "      <th>20448</th>\n",
       "      <td>Je T'aime</td>\n",
       "      <td>['Lara Fabian']</td>\n",
       "    </tr>\n",
       "    <tr>\n",
       "      <th>20827</th>\n",
       "      <td>Ooh Ahh (My Life Be Like)</td>\n",
       "      <td>['Grits', 'TobyMac']</td>\n",
       "    </tr>\n",
       "    <tr>\n",
       "      <th>20979</th>\n",
       "      <td>Маршрутка</td>\n",
       "      <td>['IOWA']</td>\n",
       "    </tr>\n",
       "    <tr>\n",
       "      <th>21081</th>\n",
       "      <td>Лифт</td>\n",
       "      <td>['PIZZA']</td>\n",
       "    </tr>\n",
       "    <tr>\n",
       "      <th>21628</th>\n",
       "      <td>Одно и то же</td>\n",
       "      <td>['IOWA']</td>\n",
       "    </tr>\n",
       "    <tr>\n",
       "      <th>22068</th>\n",
       "      <td>Лишь небо знает</td>\n",
       "      <td>['Доминик Джокер']</td>\n",
       "    </tr>\n",
       "    <tr>\n",
       "      <th>22160</th>\n",
       "      <td>Я буду всегда с тобой (feat. Анжелика Варум)</td>\n",
       "      <td>['Леонид Агутин']</td>\n",
       "    </tr>\n",
       "    <tr>\n",
       "      <th>22792</th>\n",
       "      <td>Люби меня долго</td>\n",
       "      <td>['Ирина Дубцова']</td>\n",
       "    </tr>\n",
       "    <tr>\n",
       "      <th>22804</th>\n",
       "      <td>Женщина, я не танцую</td>\n",
       "      <td>['A-dessa']</td>\n",
       "    </tr>\n",
       "    <tr>\n",
       "      <th>23503</th>\n",
       "      <td>Мама</td>\n",
       "      <td>['Burito']</td>\n",
       "    </tr>\n",
       "    <tr>\n",
       "      <th>28223</th>\n",
       "      <td>Sweat (A La La La La Long)</td>\n",
       "      <td>['Izzy Bizu']</td>\n",
       "    </tr>\n",
       "  </tbody>\n",
       "</table>\n",
       "</div>"
      ],
      "text/plain": [
       "                                               name  \\\n",
       "19178                                   До рассвета   \n",
       "19379                                      Улыбайся   \n",
       "19725                              Time in a Bottle   \n",
       "19820                              Time In A Bottle   \n",
       "20448                                     Je T'aime   \n",
       "20827                     Ooh Ahh (My Life Be Like)   \n",
       "20979                                     Маршрутка   \n",
       "21081                                          Лифт   \n",
       "21628                                  Одно и то же   \n",
       "22068                               Лишь небо знает   \n",
       "22160  Я буду всегда с тобой (feat. Анжелика Варум)   \n",
       "22792                               Люби меня долго   \n",
       "22804                          Женщина, я не танцую   \n",
       "23503                                          Мама   \n",
       "28223                    Sweat (A La La La La Long)   \n",
       "\n",
       "                             artists  \n",
       "19178  ['Arsenium', 'Сати Казанова']  \n",
       "19379                       ['IOWA']  \n",
       "19725                  ['Jim Croce']  \n",
       "19820                  ['Jim Croce']  \n",
       "20448                ['Lara Fabian']  \n",
       "20827           ['Grits', 'TobyMac']  \n",
       "20979                       ['IOWA']  \n",
       "21081                      ['PIZZA']  \n",
       "21628                       ['IOWA']  \n",
       "22068             ['Доминик Джокер']  \n",
       "22160              ['Леонид Агутин']  \n",
       "22792              ['Ирина Дубцова']  \n",
       "22804                    ['A-dessa']  \n",
       "23503                     ['Burito']  \n",
       "28223                  ['Izzy Bizu']  "
      ]
     },
     "execution_count": 28,
     "metadata": {},
     "output_type": "execute_result"
    }
   ],
   "source": [
    "test_tracks = test_ratings[test_ratings.userId == user_id].trackId[:15]\n",
    "\n",
    "print('Test-time tracks:')\n",
    "\n",
    "tracks_info.loc[test_tracks][['name', 'artists']]"
   ]
  },
  {
   "cell_type": "markdown",
   "id": "3laWojtltEz1",
   "metadata": {
    "id": "3laWojtltEz1"
   },
   "source": [
    "### Часть 2. Модель со скрытыми переменными"
   ]
  },
  {
   "cell_type": "markdown",
   "id": "W63eIwPEYuYG",
   "metadata": {
    "id": "W63eIwPEYuYG"
   },
   "source": [
    "В этой части мы пощупаем метод рекомендаций со скрытыми переменными.\n",
    "Идея: будем предсказывать оценки по формуле\n",
    "$$\n",
    "\\hat{r}_{ui} = \\langle p_u, q_u \\rangle,\n",
    "$$\n",
    "$p_u \\in \\mathbb{R}^d$ и $q_i \\in \\mathbb{R}^d$ - латентные векторы пользователя $u$ и объекта $i$ соответственно. \n",
    "\n",
    "Оптимизировать мы будем MSE между истинной оценкой пользователя и предсказанной с регуляризацией\n",
    "$$\n",
    "L = \\sum_{(u, i) \\in R} (\\hat{r}_{ui} - r_{ui})^2 + \\lambda \\left(\\sum_{u \\in U} \\|p_u\\|^2 + \\sum_{i \\in I} \\|q_i\\|^2\\right)\n",
    "$$"
   ]
  },
  {
   "cell_type": "markdown",
   "id": "jrZjfGb0iLk6",
   "metadata": {
    "id": "jrZjfGb0iLk6"
   },
   "source": [
    "**Задание 6 (1.5 балла).** На лекции рассматривались два подхода к оптимизации параметров. Можно это делать обычным стохастческим градинтным спуском, а можно по очереди обновлять матрицы $P, Q$, и тогда получится метод Alternating Least Squares (ALS). Выведите формулы обновления параметров для обоих методов."
   ]
  },
  {
   "cell_type": "markdown",
   "id": "knT2htHnkTPT",
   "metadata": {
    "id": "knT2htHnkTPT"
   },
   "source": [
    "**LFM:**\n",
    "\n",
    "Посчитаем производную по $p_k:$\n",
    "\n",
    "$\\frac{\\partial}{\\partial p_k} = \\sum_{(u, i)} [u=k] 2(<p_u, q_i> - r_{ui})q_i + 2\\lambda p_k$\n",
    "\n",
    "В матричном виде: $\\frac{\\partial}{\\partial P} = 2(PQ^TQ - RQ + \\lambda P)$, где $Q \\in \\mathbb{R}^{(m, d)}, P \\in \\mathbb{R}^{(n, d)}$\n",
    "\n",
    "Посчитаем производную по $q_k:$\n",
    "\n",
    "$\\frac{\\partial}{\\partial q_k} = \\sum_{(u, i)} [i=k] 2(<p_u, q_i> - r_{ui})r_u + 2\\lambda q_k$\n",
    "\n",
    "В матричном виде: $\\frac{\\partial}{\\partial Q} = 2(QP^TP - R^TP + \\lambda Q)$\n",
    "\n",
    "Итого:\n",
    "\n",
    "$P_{n+1} = P_n - \\eta \\frac{\\partial}{\\partial P}(P_n, Q_n)\\\\\n",
    "Q_{n+1} = Q_n - \\eta \\frac{\\partial}{\\partial Q}(P_n, Q_n)$\n",
    "\n",
    "\\\\\n",
    "**ALS:**\n",
    "\n",
    "Приравняем производные к нулю.\n",
    "\n",
    "$2(PQ^TQ - RQ + \\lambda P) = 0 \\Rightarrow P(Q^TQ + \\lambda I) = RQ \\Rightarrow P_{n + 1} = RQ_n(Q_n^TQ_n + \\lambda I)^{-1}$\n",
    "\n",
    "$2(QP^TP - R^TP + \\lambda Q) = 0 \\Rightarrow Q(P^TP + \\lambda I) = R^TP \\Rightarrow Q_{n+1} = R^TP_{n+1}(P_{n+1}^TP_{n+1} + \\lambda I)^{-1}$ \n",
    " \n",
    "\n"
   ]
  },
  {
   "cell_type": "markdown",
   "id": "T5PXIItDkiDc",
   "metadata": {
    "id": "T5PXIItDkiDc"
   },
   "source": [
    "**Задание 7 (2 балла).** Реализуйте методы оптимизации параметров для обоих алгоритмов."
   ]
  },
  {
   "cell_type": "code",
   "execution_count": 139,
   "id": "vTui-yTptFIo",
   "metadata": {
    "id": "vTui-yTptFIo"
   },
   "outputs": [],
   "source": [
    "class HiddenVars(BaseModel):\n",
    "    def __init__(self, ratings, dim=128, mode='sgd', lamb=0.01, lr=3e-4):\n",
    "        super().__init__(ratings)\n",
    "        self.dim = dim\n",
    "        \n",
    "        assert mode in ['sgd', 'als']\n",
    "        self.mode = mode\n",
    "\n",
    "        self.P = np.random.normal(size=(self.n_users, dim))\n",
    "        self.Q = np.random.normal(size=(self.n_items, dim))\n",
    "        self.P = self.P / np.linalg.norm(self.P) # если не нормировать ининциализацию, то норма улетает в помойку (в sgd так точно)\n",
    "        self.Q = self.Q / np.linalg.norm(self.Q) \n",
    "\n",
    "        self.lr = lr\n",
    "        self.lamb = lamb\n",
    "\n",
    "    def fit(self, num_iters=5):\n",
    "        for epoch in range(num_iters):\n",
    "\n",
    "            if self.mode == 'sgd':\n",
    "                delta_p = 2 * (self.P @ (self.Q.T @ self.Q) - self.R @ self.Q + self.lamb * self.P)\n",
    "                delta_q = 2 * (self.Q @ (self.P.T @ self.P) - self.R.T @ self.P + self.lamb * self.Q)\n",
    "                self.P -= self.lr * delta_p\n",
    "                self.Q -= self.lr * delta_q\n",
    "\n",
    "            elif self.mode == 'als':\n",
    "                self.P = self.R @ self.Q @ np.linalg.inv(self.Q.T @ self.Q + self.lamb * np.eye(self.Q.shape[1]))\n",
    "                self.Q = self.R.T @ self.P @ np.linalg.inv(self.P.T @ self.P + self.lamb * np.eye(self.P.shape[1]))\n",
    "\n",
    "    def recommend(self, uid):\n",
    "        pred_rating = self.P[uid] @ self.Q.T\n",
    "\n",
    "        return np.argsort(pred_rating)[::-1]"
   ]
  },
  {
   "cell_type": "code",
   "execution_count": 140,
   "id": "e395f6fc",
   "metadata": {},
   "outputs": [],
   "source": [
    "model = HiddenVars(train_ratings, mode='sgd')\n",
    "model.fit()\n",
    "preds = model.get_test_recommendations(k)\n",
    "score = mapk(test_relevant, preds, k=k)"
   ]
  },
  {
   "cell_type": "code",
   "execution_count": 141,
   "id": "2175422f",
   "metadata": {},
   "outputs": [
    {
     "data": {
      "text/plain": [
       "0.00016757152012667547"
      ]
     },
     "execution_count": 141,
     "metadata": {},
     "output_type": "execute_result"
    }
   ],
   "source": [
    "score"
   ]
  },
  {
   "cell_type": "markdown",
   "id": "N0P3-ZcYuY3t",
   "metadata": {
    "id": "N0P3-ZcYuY3t"
   },
   "source": [
    "**Задание 8 (1 балл).** Для обоих алгоритмов подберите оптимальные значения размерности скрытого пространства $d$ и размера предсказания $k$. Как изменяется качество предсказаний с числом итераций обучения? Постройте соответствующие графики, сравните со случайным подхом и User2User, сделайте выводы. Какой алгоритм вам кажется более подходящим для данной задачи и почему?\n",
    "\n",
    "P.S. Хотя бы один из методов обучения должен приводить к лучшим результатам в сравнении с User2User подходом.\n",
    "\n",
    "P.P.S. Методу LFM свойственно переобучаться, поэтому при подборе параметров полезно смотреть на значения ошибки и оптимизируемой метрики на тренировочном датасете. Вы также можете менять начальную инициализацию и прочие параметры, за исключением архитектуры, на ваш вкус."
   ]
  },
  {
   "cell_type": "code",
   "execution_count": 45,
   "id": "eedb6f53",
   "metadata": {},
   "outputs": [],
   "source": [
    "import optuna\n",
    "\n",
    "optuna.logging.set_verbosity(optuna.logging.INFO)"
   ]
  },
  {
   "cell_type": "code",
   "execution_count": 142,
   "id": "abbdd010",
   "metadata": {},
   "outputs": [
    {
     "name": "stderr",
     "output_type": "stream",
     "text": [
      "\u001b[32m[I 2022-06-06 23:30:08,458]\u001b[0m A new study created in memory with name: no-name-85b325cf-28df-4da5-98af-438a6d265ac0\u001b[0m\n",
      "C:\\Users\\Denis\\anaconda3\\lib\\site-packages\\optuna\\study\\study.py:393: FutureWarning: `n_jobs` argument has been deprecated in v2.7.0. This feature will be removed in v4.0.0. See https://github.com/optuna/optuna/releases/tag/v2.7.0.\n",
      "  warnings.warn(\n",
      "\u001b[32m[I 2022-06-06 23:30:20,869]\u001b[0m Trial 2 finished with value: 0.0 and parameters: {'d': 40, 'k': 2, 'num_iters': 19, 'lambd': 0.6691819525709201, 'lr': 0.001147507376280707}. Best is trial 2 with value: 0.0.\u001b[0m\n",
      "\u001b[32m[I 2022-06-06 23:30:23,405]\u001b[0m Trial 1 finished with value: 0.0015436917298619424 and parameters: {'d': 49, 'k': 12, 'num_iters': 28, 'lambd': 13.568094065988829, 'lr': 0.000870060885136589}. Best is trial 1 with value: 0.0015436917298619424.\u001b[0m\n",
      "\u001b[32m[I 2022-06-06 23:30:25,337]\u001b[0m Trial 0 finished with value: 0.0 and parameters: {'d': 78, 'k': 2, 'num_iters': 27, 'lambd': 1.7288541140658586, 'lr': 0.00013522986198111282}. Best is trial 1 with value: 0.0015436917298619424.\u001b[0m\n",
      "\u001b[32m[I 2022-06-06 23:30:29,858]\u001b[0m Trial 3 finished with value: 0.0007353309187427493 and parameters: {'d': 312, 'k': 20, 'num_iters': 11, 'lambd': 0.2028367080467734, 'lr': 0.0024226372909178758}. Best is trial 1 with value: 0.0015436917298619424.\u001b[0m\n",
      "\u001b[32m[I 2022-06-06 23:30:31,585]\u001b[0m Trial 5 finished with value: 0.00023112903242670713 and parameters: {'d': 35, 'k': 21, 'num_iters': 7, 'lambd': 0.1432235778280354, 'lr': 0.00011793646532390978}. Best is trial 1 with value: 0.0015436917298619424.\u001b[0m\n",
      "\u001b[32m[I 2022-06-06 23:30:35,422]\u001b[0m Trial 4 finished with value: 0.0004794614369082454 and parameters: {'d': 108, 'k': 14, 'num_iters': 15, 'lambd': 35.34707707843453, 'lr': 0.0010597440882431064}. Best is trial 1 with value: 0.0015436917298619424.\u001b[0m\n",
      "\u001b[32m[I 2022-06-06 23:30:50,959]\u001b[0m Trial 6 finished with value: 0.0 and parameters: {'d': 199, 'k': 5, 'num_iters': 16, 'lambd': 0.006904239019992072, 'lr': 1.817904400232649e-05}. Best is trial 1 with value: 0.0015436917298619424.\u001b[0m\n",
      "\u001b[32m[I 2022-06-06 23:30:55,813]\u001b[0m Trial 9 finished with value: 0.0 and parameters: {'d': 108, 'k': 6, 'num_iters': 16, 'lambd': 0.001848397221739094, 'lr': 0.00015333028982792663}. Best is trial 1 with value: 0.0015436917298619424.\u001b[0m\n",
      "\u001b[32m[I 2022-06-06 23:30:58,923]\u001b[0m Trial 7 finished with value: 0.00047281323877068556 and parameters: {'d': 279, 'k': 3, 'num_iters': 13, 'lambd': 16.73051301847483, 'lr': 6.539897243131928e-05}. Best is trial 1 with value: 0.0015436917298619424.\u001b[0m\n",
      "\u001b[32m[I 2022-06-06 23:31:08,411]\u001b[0m Trial 8 finished with value: 0.0004792457538117768 and parameters: {'d': 355, 'k': 27, 'num_iters': 14, 'lambd': 57.444678961598136, 'lr': 0.004185619309640972}. Best is trial 1 with value: 0.0015436917298619424.\u001b[0m\n",
      "\u001b[32m[I 2022-06-06 23:31:15,801]\u001b[0m Trial 12 finished with value: 0.0005170563415102168 and parameters: {'d': 137, 'k': 26, 'num_iters': 6, 'lambd': 1.2703185726611617, 'lr': 0.006057420059902383}. Best is trial 1 with value: 0.0015436917298619424.\u001b[0m\n",
      "\u001b[32m[I 2022-06-06 23:31:26,551]\u001b[0m Trial 10 finished with value: 0.000252167060677699 and parameters: {'d': 363, 'k': 9, 'num_iters': 11, 'lambd': 3.0361138096956948, 'lr': 0.00041877339267315473}. Best is trial 1 with value: 0.0015436917298619424.\u001b[0m\n",
      "\u001b[32m[I 2022-06-06 23:31:41,561]\u001b[0m Trial 11 finished with value: 0.0 and parameters: {'d': 411, 'k': 3, 'num_iters': 13, 'lambd': 13.802815689812002, 'lr': 0.008815398054497868}. Best is trial 1 with value: 0.0015436917298619424.\u001b[0m\n",
      "\u001b[32m[I 2022-06-06 23:33:05,857]\u001b[0m Trial 13 finished with value: 0.0006008884732288987 and parameters: {'d': 511, 'k': 14, 'num_iters': 30, 'lambd': 3.884287005541306, 'lr': 0.0005821149071446348}. Best is trial 1 with value: 0.0015436917298619424.\u001b[0m\n",
      "\u001b[32m[I 2022-06-06 23:33:06,482]\u001b[0m Trial 14 finished with value: 0.0004174093383819828 and parameters: {'d': 470, 'k': 14, 'num_iters': 30, 'lambd': 0.07762576624846496, 'lr': 0.0010595649682384092}. Best is trial 1 with value: 0.0015436917298619424.\u001b[0m\n",
      "\u001b[32m[I 2022-06-06 23:33:18,000]\u001b[0m Trial 15 finished with value: 0.0003569982027428836 and parameters: {'d': 507, 'k': 16, 'num_iters': 30, 'lambd': 0.07838809981086167, 'lr': 0.002039741698876876}. Best is trial 1 with value: 0.0015436917298619424.\u001b[0m\n",
      "\u001b[32m[I 2022-06-06 23:33:18,359]\u001b[0m Trial 17 finished with value: 5.549866626212058e-05 and parameters: {'d': 221, 'k': 20, 'num_iters': 1, 'lambd': 0.04988843683892746, 'lr': 0.0019666774022527992}. Best is trial 1 with value: 0.0015436917298619424.\u001b[0m\n",
      "\u001b[32m[I 2022-06-06 23:33:19,128]\u001b[0m Trial 18 finished with value: 5.3191489361702134e-05 and parameters: {'d': 235, 'k': 20, 'num_iters': 1, 'lambd': 0.024499771214208457, 'lr': 0.0022832132859546216}. Best is trial 1 with value: 0.0015436917298619424.\u001b[0m\n",
      "\u001b[32m[I 2022-06-06 23:33:23,476]\u001b[0m Trial 16 finished with value: 0.0005265298383649447 and parameters: {'d': 498, 'k': 16, 'num_iters': 29, 'lambd': 0.09767700049131274, 'lr': 0.001775926359409514}. Best is trial 1 with value: 0.0015436917298619424.\u001b[0m\n",
      "\u001b[32m[I 2022-06-06 23:33:59,490]\u001b[0m Trial 19 finished with value: 0.0004937147700423222 and parameters: {'d': 203, 'k': 21, 'num_iters': 22, 'lambd': 0.01663226170968988, 'lr': 0.0029617385957405023}. Best is trial 1 with value: 0.0015436917298619424.\u001b[0m\n",
      "\u001b[32m[I 2022-06-06 23:34:05,158]\u001b[0m Trial 20 finished with value: 0.0005250188577583467 and parameters: {'d': 292, 'k': 22, 'num_iters': 22, 'lambd': 0.01460380158430984, 'lr': 0.0025853240753938274}. Best is trial 1 with value: 0.0015436917298619424.\u001b[0m\n",
      "\u001b[32m[I 2022-06-06 23:34:06,712]\u001b[0m Trial 21 finished with value: 0.0010307328605200945 and parameters: {'d': 300, 'k': 10, 'num_iters': 23, 'lambd': 0.4061081954590325, 'lr': 0.00039298347738752677}. Best is trial 1 with value: 0.0015436917298619424.\u001b[0m\n",
      "\u001b[32m[I 2022-06-06 23:34:10,074]\u001b[0m Trial 22 finished with value: 0.0013191489361702128 and parameters: {'d': 300, 'k': 10, 'num_iters': 22, 'lambd': 0.5239394034710504, 'lr': 0.0002755655723692293}. Best is trial 1 with value: 0.0015436917298619424.\u001b[0m\n",
      "\u001b[32m[I 2022-06-06 23:34:55,250]\u001b[0m Trial 23 finished with value: 0.00030596096360119567 and parameters: {'d': 302, 'k': 11, 'num_iters': 23, 'lambd': 0.3363744724438248, 'lr': 0.0002759686384224776}. Best is trial 1 with value: 0.0015436917298619424.\u001b[0m\n",
      "\u001b[32m[I 2022-06-06 23:35:08,723]\u001b[0m Trial 25 finished with value: 0.00020972644376899698 and parameters: {'d': 328, 'k': 10, 'num_iters': 25, 'lambd': 0.320279401097633, 'lr': 0.00026743575715247755}. Best is trial 1 with value: 0.0015436917298619424.\u001b[0m\n",
      "\u001b[32m[I 2022-06-06 23:35:12,111]\u001b[0m Trial 26 finished with value: 0.00016717325227963526 and parameters: {'d': 341, 'k': 10, 'num_iters': 25, 'lambd': 0.4669933254598997, 'lr': 0.0003076159880709047}. Best is trial 1 with value: 0.0015436917298619424.\u001b[0m\n",
      "\u001b[32m[I 2022-06-06 23:35:17,612]\u001b[0m Trial 24 finished with value: 0.00040898345153664306 and parameters: {'d': 428, 'k': 10, 'num_iters': 25, 'lambd': 5.899713838511831, 'lr': 0.0004790771214210082}. Best is trial 1 with value: 0.0015436917298619424.\u001b[0m\n",
      "\u001b[32m[I 2022-06-06 23:35:32,459]\u001b[0m Trial 27 finished with value: 0.0003085106382978723 and parameters: {'d': 166, 'k': 10, 'num_iters': 25, 'lambd': 6.3138815114415925, 'lr': 0.0002617634137175628}. Best is trial 1 with value: 0.0015436917298619424.\u001b[0m\n",
      "\u001b[32m[I 2022-06-06 23:36:04,197]\u001b[0m Trial 30 finished with value: 8.865248226950354e-05 and parameters: {'d': 251, 'k': 8, 'num_iters': 20, 'lambd': 10.536203854465132, 'lr': 4.3474444358563336e-05}. Best is trial 1 with value: 0.0015436917298619424.\u001b[0m\n",
      "\u001b[32m[I 2022-06-06 23:36:09,017]\u001b[0m Trial 29 finished with value: 0.0005065856129685916 and parameters: {'d': 409, 'k': 7, 'num_iters': 19, 'lambd': 6.7881481381758055, 'lr': 0.0005842724808721325}. Best is trial 1 with value: 0.0015436917298619424.\u001b[0m\n",
      "\u001b[32m[I 2022-06-06 23:36:13,318]\u001b[0m Trial 31 finished with value: 0.0 and parameters: {'d': 241, 'k': 6, 'num_iters': 19, 'lambd': 1.3762194030062473, 'lr': 7.701868314737238e-05}. Best is trial 1 with value: 0.0015436917298619424.\u001b[0m\n",
      "\u001b[32m[I 2022-06-06 23:36:19,666]\u001b[0m Trial 28 finished with value: 0.00010638297872340427 and parameters: {'d': 403, 'k': 8, 'num_iters': 26, 'lambd': 4.797083945700801, 'lr': 4.767064141619656e-05}. Best is trial 1 with value: 0.0015436917298619424.\u001b[0m\n"
     ]
    },
    {
     "name": "stderr",
     "output_type": "stream",
     "text": [
      "\u001b[32m[I 2022-06-06 23:36:49,533]\u001b[0m Trial 34 finished with value: 7.354872603099554e-05 and parameters: {'d': 321, 'k': 18, 'num_iters': 8, 'lambd': 0.2010744548391399, 'lr': 0.00017060961137137497}. Best is trial 1 with value: 0.0015436917298619424.\u001b[0m\n",
      "\u001b[32m[I 2022-06-06 23:37:21,212]\u001b[0m Trial 32 finished with value: 0.0006737588652482269 and parameters: {'d': 391, 'k': 6, 'num_iters': 27, 'lambd': 1.33148382890885, 'lr': 0.0006808966521990821}. Best is trial 1 with value: 0.0015436917298619424.\u001b[0m\n",
      "\u001b[32m[I 2022-06-06 23:37:25,653]\u001b[0m Trial 33 finished with value: 0.00017520668093499517 and parameters: {'d': 387, 'k': 13, 'num_iters': 27, 'lambd': 1.2743203196150925, 'lr': 0.00012281379648537192}. Best is trial 1 with value: 0.0015436917298619424.\u001b[0m\n",
      "\u001b[32m[I 2022-06-06 23:37:27,247]\u001b[0m Trial 35 finished with value: 0.0006063676276442234 and parameters: {'d': 307, 'k': 12, 'num_iters': 28, 'lambd': 0.18296756309034992, 'lr': 0.000980590483592407}. Best is trial 1 with value: 0.0015436917298619424.\u001b[0m\n",
      "\u001b[32m[I 2022-06-06 23:37:42,935]\u001b[0m Trial 38 finished with value: 0.0008583811775301137 and parameters: {'d': 74, 'k': 12, 'num_iters': 10, 'lambd': 0.656081729486191, 'lr': 0.001102591675491153}. Best is trial 1 with value: 0.0015436917298619424.\u001b[0m\n",
      "\u001b[32m[I 2022-06-06 23:37:44,533]\u001b[0m Trial 39 finished with value: 0.0007318891855412048 and parameters: {'d': 73, 'k': 24, 'num_iters': 10, 'lambd': 94.89102754805131, 'lr': 0.0012844434810077969}. Best is trial 1 with value: 0.0015436917298619424.\u001b[0m\n",
      "\u001b[32m[I 2022-06-06 23:37:55,670]\u001b[0m Trial 36 finished with value: 0.0003291783079017121 and parameters: {'d': 378, 'k': 12, 'num_iters': 28, 'lambd': 1.0870385447413053, 'lr': 0.0011441471437958178}. Best is trial 1 with value: 0.0015436917298619424.\u001b[0m\n",
      "\u001b[32m[I 2022-06-06 23:37:57,222]\u001b[0m Trial 40 finished with value: 0.00851063829787234 and parameters: {'d': 57, 'k': 1, 'num_iters': 17, 'lambd': 0.6520278037397946, 'lr': 0.0008458063395663305}. Best is trial 40 with value: 0.00851063829787234.\u001b[0m\n",
      "\u001b[32m[I 2022-06-06 23:38:00,506]\u001b[0m Trial 41 finished with value: 0.0 and parameters: {'d': 67, 'k': 12, 'num_iters': 23, 'lambd': 29.846789633642544, 'lr': 0.00019782182538830852}. Best is trial 40 with value: 0.00851063829787234.\u001b[0m\n",
      "\u001b[32m[I 2022-06-06 23:38:01,528]\u001b[0m Trial 37 finished with value: 0.0004049998464892081 and parameters: {'d': 261, 'k': 12, 'num_iters': 28, 'lambd': 0.6538916379606747, 'lr': 0.0009931449307661474}. Best is trial 40 with value: 0.00851063829787234.\u001b[0m\n",
      "\u001b[32m[I 2022-06-06 23:38:05,338]\u001b[0m Trial 42 finished with value: 0.00013133701076963486 and parameters: {'d': 62, 'k': 18, 'num_iters': 17, 'lambd': 0.6159084224360238, 'lr': 0.00018756982464061733}. Best is trial 40 with value: 0.00851063829787234.\u001b[0m\n",
      "\u001b[32m[I 2022-06-06 23:38:05,697]\u001b[0m Trial 43 finished with value: 0.00851063829787234 and parameters: {'d': 40, 'k': 1, 'num_iters': 18, 'lambd': 22.26533362247275, 'lr': 0.0007402399165029587}. Best is trial 40 with value: 0.00851063829787234.\u001b[0m\n",
      "\u001b[32m[I 2022-06-06 23:38:08,286]\u001b[0m Trial 44 finished with value: 0.0031914893617021275 and parameters: {'d': 38, 'k': 2, 'num_iters': 18, 'lambd': 0.7829865119882292, 'lr': 0.000866432708852966}. Best is trial 40 with value: 0.00851063829787234.\u001b[0m\n",
      "\u001b[32m[I 2022-06-06 23:38:09,525]\u001b[0m Trial 45 finished with value: 0.00851063829787234 and parameters: {'d': 32, 'k': 1, 'num_iters': 17, 'lambd': 2.497205777725379, 'lr': 0.0007297729945125098}. Best is trial 40 with value: 0.00851063829787234.\u001b[0m\n",
      "\u001b[32m[I 2022-06-06 23:38:19,976]\u001b[0m Trial 46 finished with value: 0.00425531914893617 and parameters: {'d': 104, 'k': 1, 'num_iters': 18, 'lambd': 2.2322171791054672, 'lr': 0.0007399615042654566}. Best is trial 40 with value: 0.00851063829787234.\u001b[0m\n",
      "\u001b[32m[I 2022-06-06 23:38:20,146]\u001b[0m Trial 49 finished with value: 0.0 and parameters: {'d': 40, 'k': 1, 'num_iters': 17, 'lambd': 2.787206568335173, 'lr': 0.0007642833724373468}. Best is trial 40 with value: 0.00851063829787234.\u001b[0m\n",
      "\u001b[32m[I 2022-06-06 23:38:20,271]\u001b[0m Trial 47 finished with value: 0.0 and parameters: {'d': 109, 'k': 1, 'num_iters': 17, 'lambd': 27.44743939626595, 'lr': 0.00039622903838717804}. Best is trial 40 with value: 0.00851063829787234.\u001b[0m\n",
      "\u001b[32m[I 2022-06-06 23:38:22,421]\u001b[0m Trial 48 finished with value: 0.00425531914893617 and parameters: {'d': 105, 'k': 1, 'num_iters': 17, 'lambd': 2.6691298285424017, 'lr': 0.0007258640663125823}. Best is trial 40 with value: 0.00851063829787234.\u001b[0m\n",
      "\u001b[32m[I 2022-06-06 23:38:33,597]\u001b[0m Trial 52 finished with value: 0.0005319148936170213 and parameters: {'d': 95, 'k': 4, 'num_iters': 14, 'lambd': 1.9688692343148084, 'lr': 0.0015197358569374007}. Best is trial 40 with value: 0.00851063829787234.\u001b[0m\n",
      "\u001b[32m[I 2022-06-06 23:38:34,038]\u001b[0m Trial 51 finished with value: 0.0018912529550827422 and parameters: {'d': 111, 'k': 3, 'num_iters': 15, 'lambd': 2.5098120743485266, 'lr': 0.001501243343465974}. Best is trial 40 with value: 0.00851063829787234.\u001b[0m\n",
      "\u001b[32m[I 2022-06-06 23:38:34,126]\u001b[0m Trial 50 finished with value: 0.00425531914893617 and parameters: {'d': 102, 'k': 1, 'num_iters': 17, 'lambd': 2.8512222115938917, 'lr': 0.0007309586118399241}. Best is trial 40 with value: 0.00851063829787234.\u001b[0m\n",
      "\u001b[32m[I 2022-06-06 23:38:34,830]\u001b[0m Trial 53 finished with value: 0.003546099290780142 and parameters: {'d': 99, 'k': 4, 'num_iters': 14, 'lambd': 2.5532257179201014, 'lr': 0.0016453873880036317}. Best is trial 40 with value: 0.00851063829787234.\u001b[0m\n",
      "\u001b[32m[I 2022-06-06 23:38:53,541]\u001b[0m Trial 54 finished with value: 0.0014184397163120566 and parameters: {'d': 146, 'k': 3, 'num_iters': 15, 'lambd': 2.6377906725598113, 'lr': 0.0007414000800578154}. Best is trial 40 with value: 0.00851063829787234.\u001b[0m\n",
      "\u001b[32m[I 2022-06-06 23:38:55,214]\u001b[0m Trial 55 finished with value: 0.005319148936170213 and parameters: {'d': 139, 'k': 2, 'num_iters': 20, 'lambd': 11.650575302126885, 'lr': 0.0007302125350891495}. Best is trial 40 with value: 0.00851063829787234.\u001b[0m\n",
      "\u001b[32m[I 2022-06-06 23:38:55,477]\u001b[0m Trial 56 finished with value: 0.0015957446808510637 and parameters: {'d': 149, 'k': 4, 'num_iters': 20, 'lambd': 10.477906912373715, 'lr': 0.0005544839824769416}. Best is trial 40 with value: 0.00851063829787234.\u001b[0m\n",
      "\u001b[32m[I 2022-06-06 23:38:55,876]\u001b[0m Trial 57 finished with value: 0.0 and parameters: {'d': 139, 'k': 1, 'num_iters': 20, 'lambd': 8.957292534723697, 'lr': 0.0006070298504994547}. Best is trial 40 with value: 0.00851063829787234.\u001b[0m\n",
      "\u001b[32m[I 2022-06-06 23:39:06,267]\u001b[0m Trial 61 finished with value: 0.0 and parameters: {'d': 57, 'k': 2, 'num_iters': 12, 'lambd': 19.365499446340852, 'lr': 0.0032648747757184388}. Best is trial 40 with value: 0.00851063829787234.\u001b[0m\n",
      "\u001b[32m[I 2022-06-06 23:39:07,163]\u001b[0m Trial 60 finished with value: 0.0 and parameters: {'d': 53, 'k': 2, 'num_iters': 20, 'lambd': 19.19579500513108, 'lr': 0.004132433992398922}. Best is trial 40 with value: 0.00851063829787234.\u001b[0m\n",
      "\u001b[32m[I 2022-06-06 23:39:07,204]\u001b[0m Trial 59 finished with value: 0.0010638297872340426 and parameters: {'d': 51, 'k': 4, 'num_iters': 20, 'lambd': 11.252001260532523, 'lr': 0.000506006608040332}. Best is trial 40 with value: 0.00851063829787234.\u001b[0m\n",
      "\u001b[32m[I 2022-06-06 23:39:11,521]\u001b[0m Trial 58 finished with value: 0.0 and parameters: {'d': 135, 'k': 1, 'num_iters': 20, 'lambd': 10.065415610124445, 'lr': 0.0034898686170637414}. Best is trial 40 with value: 0.00851063829787234.\u001b[0m\n",
      "\u001b[32m[I 2022-06-06 23:39:26,296]\u001b[0m Trial 64 finished with value: 0.0 and parameters: {'d': 122, 'k': 1, 'num_iters': 16, 'lambd': 52.00447638510203, 'lr': 0.00036901901528906846}. Best is trial 40 with value: 0.00851063829787234.\u001b[0m\n",
      "\u001b[32m[I 2022-06-06 23:39:27,316]\u001b[0m Trial 65 finished with value: 0.00021276595744680854 and parameters: {'d': 89, 'k': 5, 'num_iters': 16, 'lambd': 3.8895919015595206, 'lr': 0.00043264426353240275}. Best is trial 40 with value: 0.00851063829787234.\u001b[0m\n",
      "\u001b[32m[I 2022-06-06 23:39:27,473]\u001b[0m Trial 62 finished with value: 0.0010638297872340426 and parameters: {'d': 182, 'k': 2, 'num_iters': 16, 'lambd': 17.528943798493188, 'lr': 1.8937868101933066e-05}. Best is trial 40 with value: 0.00851063829787234.\u001b[0m\n"
     ]
    },
    {
     "name": "stderr",
     "output_type": "stream",
     "text": [
      "\u001b[32m[I 2022-06-06 23:39:27,929]\u001b[0m Trial 63 finished with value: 0.0 and parameters: {'d': 178, 'k': 5, 'num_iters': 16, 'lambd': 55.430501710540796, 'lr': 0.00035210781112935704}. Best is trial 40 with value: 0.00851063829787234.\u001b[0m\n",
      "\u001b[32m[I 2022-06-06 23:39:38,869]\u001b[0m Trial 66 finished with value: 0.0024113475177304964 and parameters: {'d': 32, 'k': 5, 'num_iters': 18, 'lambd': 3.888042562356483, 'lr': 0.0013545186021774608}. Best is trial 40 with value: 0.00851063829787234.\u001b[0m\n",
      "\u001b[32m[I 2022-06-06 23:39:42,417]\u001b[0m Trial 68 finished with value: 0.002127659574468085 and parameters: {'d': 85, 'k': 3, 'num_iters': 18, 'lambd': 3.9397083166433227, 'lr': 0.0007527271570081514}. Best is trial 40 with value: 0.00851063829787234.\u001b[0m\n",
      "\u001b[32m[I 2022-06-06 23:39:42,588]\u001b[0m Trial 69 finished with value: 0.009456264775413711 and parameters: {'d': 85, 'k': 3, 'num_iters': 18, 'lambd': 3.7501331528715, 'lr': 0.0008570695892425918}. Best is trial 69 with value: 0.009456264775413711.\u001b[0m\n",
      "\u001b[32m[I 2022-06-06 23:39:48,383]\u001b[0m Trial 67 finished with value: 0.0 and parameters: {'d': 170, 'k': 3, 'num_iters': 18, 'lambd': 0.0011301103302003082, 'lr': 0.0007147181405151739}. Best is trial 69 with value: 0.009456264775413711.\u001b[0m\n",
      "\u001b[32m[I 2022-06-06 23:39:55,769]\u001b[0m Trial 70 finished with value: 0.002364066193853428 and parameters: {'d': 87, 'k': 3, 'num_iters': 18, 'lambd': 1.9166814881542378, 'lr': 0.0008045825920117537}. Best is trial 69 with value: 0.009456264775413711.\u001b[0m\n",
      "\u001b[32m[I 2022-06-06 23:40:01,014]\u001b[0m Trial 71 finished with value: 0.007446808510638298 and parameters: {'d': 118, 'k': 2, 'num_iters': 21, 'lambd': 0.984986827306182, 'lr': 0.0008277095515320283}. Best is trial 69 with value: 0.009456264775413711.\u001b[0m\n",
      "\u001b[32m[I 2022-06-06 23:40:01,403]\u001b[0m Trial 72 finished with value: 0.000509167838271787 and parameters: {'d': 119, 'k': 29, 'num_iters': 21, 'lambd': 0.0010947683701662083, 'lr': 0.0020642617994520475}. Best is trial 69 with value: 0.009456264775413711.\u001b[0m\n",
      "\u001b[32m[I 2022-06-06 23:40:05,690]\u001b[0m Trial 73 finished with value: 0.00010131712259371833 and parameters: {'d': 121, 'k': 7, 'num_iters': 21, 'lambd': 0.894080208720764, 'lr': 0.0020539352708893685}. Best is trial 69 with value: 0.009456264775413711.\u001b[0m\n",
      "\u001b[32m[I 2022-06-06 23:40:06,949]\u001b[0m Trial 74 finished with value: 0.0 and parameters: {'d': 73, 'k': 1, 'num_iters': 13, 'lambd': 5.689045438842547, 'lr': 0.0005217142100631669}. Best is trial 69 with value: 0.009456264775413711.\u001b[0m\n",
      "\u001b[32m[I 2022-06-06 23:40:14,623]\u001b[0m Trial 76 finished with value: 0.005319148936170213 and parameters: {'d': 66, 'k': 2, 'num_iters': 21, 'lambd': 0.9755381759938914, 'lr': 0.0009819315461536706}. Best is trial 69 with value: 0.009456264775413711.\u001b[0m\n",
      "\u001b[32m[I 2022-06-06 23:40:15,934]\u001b[0m Trial 75 finished with value: 0.0 and parameters: {'d': 117, 'k': 2, 'num_iters': 21, 'lambd': 1.0656124247937349, 'lr': 0.00203473727290263}. Best is trial 69 with value: 0.009456264775413711.\u001b[0m\n",
      "\u001b[32m[I 2022-06-06 23:40:16,911]\u001b[0m Trial 78 finished with value: 0.002127659574468085 and parameters: {'d': 51, 'k': 2, 'num_iters': 19, 'lambd': 1.6796442180372, 'lr': 0.0009476239898507401}. Best is trial 69 with value: 0.009456264775413711.\u001b[0m\n",
      "\u001b[32m[I 2022-06-06 23:40:17,181]\u001b[0m Trial 77 finished with value: 0.0031914893617021275 and parameters: {'d': 78, 'k': 2, 'num_iters': 19, 'lambd': 7.090632130935246, 'lr': 0.0009322550601886182}. Best is trial 69 with value: 0.009456264775413711.\u001b[0m\n",
      "\u001b[32m[I 2022-06-06 23:40:25,031]\u001b[0m Trial 79 finished with value: 0.007446808510638298 and parameters: {'d': 50, 'k': 2, 'num_iters': 21, 'lambd': 0.2820266566666308, 'lr': 0.0009415878032332894}. Best is trial 69 with value: 0.009456264775413711.\u001b[0m\n",
      "\u001b[32m[I 2022-06-06 23:40:26,224]\u001b[0m Trial 80 finished with value: 0.004166666666666666 and parameters: {'d': 48, 'k': 4, 'num_iters': 24, 'lambd': 0.24107478313213704, 'lr': 0.0009528933349381717}. Best is trial 69 with value: 0.009456264775413711.\u001b[0m\n",
      "\u001b[32m[I 2022-06-06 23:40:26,873]\u001b[0m Trial 82 finished with value: 0.0005319148936170213 and parameters: {'d': 44, 'k': 4, 'num_iters': 23, 'lambd': 0.2904857467675553, 'lr': 0.001353379720839979}. Best is trial 69 with value: 0.009456264775413711.\u001b[0m\n",
      "\u001b[32m[I 2022-06-06 23:40:28,447]\u001b[0m Trial 81 finished with value: 0.0010638297872340426 and parameters: {'d': 65, 'k': 4, 'num_iters': 24, 'lambd': 0.40115014091302753, 'lr': 0.0013109492917382799}. Best is trial 69 with value: 0.009456264775413711.\u001b[0m\n",
      "\u001b[32m[I 2022-06-06 23:40:37,061]\u001b[0m Trial 83 finished with value: 0.0 and parameters: {'d': 43, 'k': 6, 'num_iters': 24, 'lambd': 0.1273562879818545, 'lr': 0.00250619941547586}. Best is trial 69 with value: 0.009456264775413711.\u001b[0m\n",
      "\u001b[32m[I 2022-06-06 23:40:38,311]\u001b[0m Trial 84 finished with value: 0.0010047281323877068 and parameters: {'d': 63, 'k': 6, 'num_iters': 22, 'lambd': 0.44272735482312386, 'lr': 0.001175010842442649}. Best is trial 69 with value: 0.009456264775413711.\u001b[0m\n",
      "\u001b[32m[I 2022-06-06 23:40:38,759]\u001b[0m Trial 85 finished with value: 0.0007092198581560283 and parameters: {'d': 63, 'k': 3, 'num_iters': 22, 'lambd': 0.1287469349504525, 'lr': 0.0011989023182430837}. Best is trial 69 with value: 0.009456264775413711.\u001b[0m\n",
      "\u001b[32m[I 2022-06-06 23:40:41,574]\u001b[0m Trial 86 finished with value: 0.002127659574468085 and parameters: {'d': 82, 'k': 2, 'num_iters': 22, 'lambd': 0.14606283781052914, 'lr': 0.0011229913759424116}. Best is trial 69 with value: 0.009456264775413711.\u001b[0m\n",
      "\u001b[32m[I 2022-06-06 23:40:51,114]\u001b[0m Trial 87 finished with value: 0.0026004728132387705 and parameters: {'d': 86, 'k': 3, 'num_iters': 21, 'lambd': 1.7337332766684295, 'lr': 0.0006358806476696672}. Best is trial 69 with value: 0.009456264775413711.\u001b[0m\n",
      "\u001b[32m[I 2022-06-06 23:40:51,974]\u001b[0m Trial 88 finished with value: 0.0 and parameters: {'d': 82, 'k': 3, 'num_iters': 21, 'lambd': 1.0484345541980271, 'lr': 0.0006410250148360997}. Best is trial 69 with value: 0.009456264775413711.\u001b[0m\n",
      "\u001b[32m[I 2022-06-06 23:40:52,155]\u001b[0m Trial 89 finished with value: 0.0031914893617021275 and parameters: {'d': 83, 'k': 2, 'num_iters': 21, 'lambd': 40.81850516276735, 'lr': 0.0006190014195876079}. Best is trial 69 with value: 0.009456264775413711.\u001b[0m\n",
      "\u001b[32m[I 2022-06-06 23:40:54,789]\u001b[0m Trial 90 finished with value: 0.0 and parameters: {'d': 96, 'k': 1, 'num_iters': 17, 'lambd': 0.8381385191095234, 'lr': 0.0006184099454583468}. Best is trial 69 with value: 0.009456264775413711.\u001b[0m\n",
      "\u001b[32m[I 2022-06-06 23:41:08,822]\u001b[0m Trial 92 finished with value: 0.0 and parameters: {'d': 96, 'k': 1, 'num_iters': 17, 'lambd': 14.371699101124571, 'lr': 0.00046670429386357304}. Best is trial 69 with value: 0.009456264775413711.\u001b[0m\n",
      "\u001b[32m[I 2022-06-06 23:41:09,759]\u001b[0m Trial 91 finished with value: 0.00425531914893617 and parameters: {'d': 153, 'k': 1, 'num_iters': 17, 'lambd': 0.8260422645112051, 'lr': 0.0004684565980338315}. Best is trial 69 with value: 0.009456264775413711.\u001b[0m\n",
      "\u001b[32m[I 2022-06-06 23:41:10,617]\u001b[0m Trial 93 finished with value: 0.00851063829787234 and parameters: {'d': 155, 'k': 1, 'num_iters': 17, 'lambd': 0.8285909857587058, 'lr': 0.0004637708743243092}. Best is trial 69 with value: 0.009456264775413711.\u001b[0m\n",
      "\u001b[32m[I 2022-06-06 23:41:12,267]\u001b[0m Trial 94 finished with value: 0.0 and parameters: {'d': 156, 'k': 1, 'num_iters': 17, 'lambd': 4.722415285468195, 'lr': 0.000457598150273205}. Best is trial 69 with value: 0.009456264775413711.\u001b[0m\n",
      "\u001b[32m[I 2022-06-06 23:41:19,802]\u001b[0m Trial 95 finished with value: 0.0028936170212765953 and parameters: {'d': 35, 'k': 5, 'num_iters': 19, 'lambd': 3.348098851960665, 'lr': 0.0008816631553773725}. Best is trial 69 with value: 0.009456264775413711.\u001b[0m\n",
      "\u001b[32m[I 2022-06-06 23:41:20,801]\u001b[0m Trial 96 finished with value: 0.0009929078014184398 and parameters: {'d': 32, 'k': 5, 'num_iters': 19, 'lambd': 0.004156947298158432, 'lr': 0.0008589775900144671}. Best is trial 69 with value: 0.009456264775413711.\u001b[0m\n",
      "\u001b[32m[I 2022-06-06 23:41:26,935]\u001b[0m Trial 97 finished with value: 0.0014184397163120566 and parameters: {'d': 131, 'k': 3, 'num_iters': 19, 'lambd': 1.4130888148448362, 'lr': 0.0003103653031003838}. Best is trial 69 with value: 0.009456264775413711.\u001b[0m\n"
     ]
    },
    {
     "name": "stderr",
     "output_type": "stream",
     "text": [
      "\u001b[32m[I 2022-06-06 23:41:27,895]\u001b[0m Trial 98 finished with value: 0.0 and parameters: {'d': 130, 'k': 2, 'num_iters': 19, 'lambd': 0.5677221521337793, 'lr': 0.0002903194875355859}. Best is trial 69 with value: 0.009456264775413711.\u001b[0m\n",
      "\u001b[32m[I 2022-06-06 23:41:33,920]\u001b[0m Trial 99 finished with value: 0.0 and parameters: {'d': 196, 'k': 2, 'num_iters': 19, 'lambd': 1.5260563140468097, 'lr': 0.00032474651261990204}. Best is trial 69 with value: 0.009456264775413711.\u001b[0m\n"
     ]
    },
    {
     "data": {
      "text/plain": [
       "0.009456264775413711"
      ]
     },
     "execution_count": 142,
     "metadata": {},
     "output_type": "execute_result"
    }
   ],
   "source": [
    "def objective_sgd(trial):\n",
    "    d = trial.suggest_int('d', 32, 512, log=False)\n",
    "    k = trial.suggest_int('k', 1, 30, log=False)\n",
    "    num_iters = trial.suggest_int('num_iters', 1, 30, log=False)\n",
    "    lambd = trial.suggest_float('lambd', 1e-3, 100, log=True)\n",
    "    lr = trial.suggest_float('lr', 1e-5, 1e-2, log=True)\n",
    "\n",
    "    model = HiddenVars(train_ratings, dim=d, mode='sgd', lamb=lambd, lr=lr)\n",
    "    model.fit(num_iters=num_iters)\n",
    "    preds = model.get_test_recommendations(k)\n",
    "    score = mapk(test_relevant, preds, k=k)\n",
    "\n",
    "    return score\n",
    "\n",
    "\n",
    "study = optuna.create_study(direction='maximize')\n",
    "study.optimize(objective_sgd, n_trials=100, n_jobs=-1)\n",
    "best_trial = study.best_trial\n",
    "study.best_value"
   ]
  },
  {
   "cell_type": "code",
   "execution_count": 143,
   "id": "9234642e",
   "metadata": {},
   "outputs": [
    {
     "data": {
      "text/plain": [
       "{'d': 85,\n",
       " 'k': 3,\n",
       " 'num_iters': 18,\n",
       " 'lambd': 3.7501331528715,\n",
       " 'lr': 0.0008570695892425918}"
      ]
     },
     "execution_count": 143,
     "metadata": {},
     "output_type": "execute_result"
    }
   ],
   "source": [
    "study.best_params"
   ]
  },
  {
   "cell_type": "code",
   "execution_count": 144,
   "id": "682fd768",
   "metadata": {},
   "outputs": [
    {
     "name": "stderr",
     "output_type": "stream",
     "text": [
      "\u001b[32m[I 2022-06-06 23:43:26,655]\u001b[0m A new study created in memory with name: no-name-eaf215f7-0634-4188-8496-79722a2bbb9e\u001b[0m\n",
      "C:\\Users\\Denis\\anaconda3\\lib\\site-packages\\optuna\\study\\study.py:393: FutureWarning: `n_jobs` argument has been deprecated in v2.7.0. This feature will be removed in v4.0.0. See https://github.com/optuna/optuna/releases/tag/v2.7.0.\n",
      "  warnings.warn(\n",
      "\u001b[32m[I 2022-06-06 23:43:53,946]\u001b[0m Trial 2 finished with value: 0.0016769860032271378 and parameters: {'d': 436, 'k': 9, 'num_iters': 10, 'lambd': 0.0014603470405238862, 'lr': 0.001900858573196799}. Best is trial 2 with value: 0.0016769860032271378.\u001b[0m\n",
      "\u001b[32m[I 2022-06-06 23:43:55,090]\u001b[0m Trial 3 finished with value: 0.0004913267058657129 and parameters: {'d': 207, 'k': 18, 'num_iters': 15, 'lambd': 0.009066866207326146, 'lr': 0.0017189458041118148}. Best is trial 2 with value: 0.0016769860032271378.\u001b[0m\n",
      "\u001b[32m[I 2022-06-06 23:43:56,471]\u001b[0m Trial 0 finished with value: 0.0014337108608794371 and parameters: {'d': 381, 'k': 13, 'num_iters': 14, 'lambd': 16.21539318600016, 'lr': 0.0038685757043722515}. Best is trial 2 with value: 0.0016769860032271378.\u001b[0m\n",
      "\u001b[32m[I 2022-06-06 23:43:57,967]\u001b[0m Trial 1 finished with value: 0.0 and parameters: {'d': 345, 'k': 3, 'num_iters': 15, 'lambd': 0.010531437847592716, 'lr': 0.0003817196206863041}. Best is trial 2 with value: 0.0016769860032271378.\u001b[0m\n",
      "\u001b[32m[I 2022-06-06 23:44:14,925]\u001b[0m Trial 4 finished with value: 0.0014371475648071394 and parameters: {'d': 235, 'k': 15, 'num_iters': 8, 'lambd': 12.67552562781471, 'lr': 0.00016844273953038635}. Best is trial 2 with value: 0.0016769860032271378.\u001b[0m\n",
      "\u001b[32m[I 2022-06-06 23:44:22,983]\u001b[0m Trial 6 finished with value: 0.0008212707846441189 and parameters: {'d': 482, 'k': 17, 'num_iters': 7, 'lambd': 0.007063842620829145, 'lr': 1.7372629070663564e-05}. Best is trial 2 with value: 0.0016769860032271378.\u001b[0m\n",
      "\u001b[32m[I 2022-06-06 23:44:23,293]\u001b[0m Trial 5 finished with value: 0.0026595744680851063 and parameters: {'d': 267, 'k': 4, 'num_iters': 14, 'lambd': 1.8546372030488099, 'lr': 0.0053998927175651894}. Best is trial 5 with value: 0.0026595744680851063.\u001b[0m\n",
      "\u001b[32m[I 2022-06-06 23:44:26,844]\u001b[0m Trial 7 finished with value: 0.0010160938352427712 and parameters: {'d': 470, 'k': 16, 'num_iters': 9, 'lambd': 0.005109853783586502, 'lr': 0.001921092538492146}. Best is trial 5 with value: 0.0026595744680851063.\u001b[0m\n",
      "\u001b[32m[I 2022-06-06 23:44:35,473]\u001b[0m Trial 10 finished with value: 0.0006853784065647945 and parameters: {'d': 67, 'k': 30, 'num_iters': 1, 'lambd': 0.06776102207019864, 'lr': 0.00015250229920222327}. Best is trial 5 with value: 0.0026595744680851063.\u001b[0m\n",
      "\u001b[32m[I 2022-06-06 23:44:44,669]\u001b[0m Trial 11 finished with value: 0.0017398622472272226 and parameters: {'d': 355, 'k': 13, 'num_iters': 6, 'lambd': 1.6142410280202357, 'lr': 1.5848242529182536e-05}. Best is trial 5 with value: 0.0026595744680851063.\u001b[0m\n",
      "\u001b[32m[I 2022-06-06 23:44:46,271]\u001b[0m Trial 12 finished with value: 0.00017021276595744682 and parameters: {'d': 93, 'k': 5, 'num_iters': 8, 'lambd': 23.91819681000574, 'lr': 0.0003987113952546898}. Best is trial 5 with value: 0.0026595744680851063.\u001b[0m\n",
      "\u001b[32m[I 2022-06-06 23:44:47,587]\u001b[0m Trial 9 finished with value: 0.00032147775496039777 and parameters: {'d': 212, 'k': 30, 'num_iters': 25, 'lambd': 0.2071744280068945, 'lr': 0.0009861675250368068}. Best is trial 5 with value: 0.0026595744680851063.\u001b[0m\n",
      "\u001b[32m[I 2022-06-06 23:44:47,755]\u001b[0m Trial 8 finished with value: 0.00032351805433112425 and parameters: {'d': 334, 'k': 24, 'num_iters': 29, 'lambd': 0.0017669274314070173, 'lr': 0.0004307773671302015}. Best is trial 5 with value: 0.0026595744680851063.\u001b[0m\n",
      "\u001b[32m[I 2022-06-06 23:45:09,253]\u001b[0m Trial 13 finished with value: 0.0028368794326241132 and parameters: {'d': 138, 'k': 3, 'num_iters': 27, 'lambd': 0.5514429686021687, 'lr': 0.007363900356823214}. Best is trial 13 with value: 0.0028368794326241132.\u001b[0m\n",
      "\u001b[32m[I 2022-06-06 23:45:18,318]\u001b[0m Trial 16 finished with value: 0.00425531914893617 and parameters: {'d': 279, 'k': 1, 'num_iters': 20, 'lambd': 2.048124816226127, 'lr': 1.0277590800867592e-05}. Best is trial 16 with value: 0.00425531914893617.\u001b[0m\n",
      "\u001b[32m[I 2022-06-06 23:45:19,348]\u001b[0m Trial 15 finished with value: 0.0013113003348867401 and parameters: {'d': 318, 'k': 23, 'num_iters': 22, 'lambd': 1.9295875166393146, 'lr': 1.5001696213848814e-05}. Best is trial 16 with value: 0.00425531914893617.\u001b[0m\n",
      "\u001b[32m[I 2022-06-06 23:45:19,960]\u001b[0m Trial 14 finished with value: 0.0013375314867347242 and parameters: {'d': 317, 'k': 24, 'num_iters': 26, 'lambd': 1.5312698557896687, 'lr': 1.1842840796491903e-05}. Best is trial 16 with value: 0.00425531914893617.\u001b[0m\n",
      "\u001b[32m[I 2022-06-06 23:45:23,199]\u001b[0m Trial 17 finished with value: 0.0 and parameters: {'d': 153, 'k': 1, 'num_iters': 21, 'lambd': 2.0271555890634625, 'lr': 0.009153494279895345}. Best is trial 16 with value: 0.00425531914893617.\u001b[0m\n",
      "\u001b[32m[I 2022-06-06 23:45:31,812]\u001b[0m Trial 18 finished with value: 0.0 and parameters: {'d': 132, 'k': 1, 'num_iters': 22, 'lambd': 1.7007103579931313, 'lr': 0.009283778598908783}. Best is trial 16 with value: 0.00425531914893617.\u001b[0m\n",
      "\u001b[32m[I 2022-06-06 23:45:32,388]\u001b[0m Trial 19 finished with value: 0.0 and parameters: {'d': 131, 'k': 1, 'num_iters': 20, 'lambd': 0.34403901516783186, 'lr': 6.462018242472858e-05}. Best is trial 16 with value: 0.00425531914893617.\u001b[0m\n",
      "\u001b[32m[I 2022-06-06 23:45:32,599]\u001b[0m Trial 20 finished with value: 0.0 and parameters: {'d': 134, 'k': 1, 'num_iters': 19, 'lambd': 81.78445687834487, 'lr': 5.4124396464335685e-05}. Best is trial 16 with value: 0.00425531914893617.\u001b[0m\n",
      "\u001b[32m[I 2022-06-06 23:45:33,687]\u001b[0m Trial 21 finished with value: 0.00017730496453900708 and parameters: {'d': 122, 'k': 8, 'num_iters': 20, 'lambd': 81.13479271249508, 'lr': 5.278346327878948e-05}. Best is trial 16 with value: 0.00425531914893617.\u001b[0m\n",
      "\u001b[32m[I 2022-06-06 23:45:46,087]\u001b[0m Trial 22 finished with value: 0.00017730496453900708 and parameters: {'d': 41, 'k': 8, 'num_iters': 19, 'lambd': 65.82217160412293, 'lr': 4.57551967837578e-05}. Best is trial 16 with value: 0.00425531914893617.\u001b[0m\n",
      "\u001b[32m[I 2022-06-06 23:46:02,222]\u001b[0m Trial 23 finished with value: 0.00017730496453900708 and parameters: {'d': 170, 'k': 8, 'num_iters': 30, 'lambd': 66.80176369886827, 'lr': 3.760385919408704e-05}. Best is trial 16 with value: 0.00425531914893617.\u001b[0m\n",
      "\u001b[32m[I 2022-06-06 23:46:06,843]\u001b[0m Trial 24 finished with value: 0.0013171225937183384 and parameters: {'d': 273, 'k': 7, 'num_iters': 29, 'lambd': 0.40827757519313057, 'lr': 0.0051370105492100655}. Best is trial 16 with value: 0.00425531914893617.\u001b[0m\n",
      "\u001b[32m[I 2022-06-06 23:46:08,241]\u001b[0m Trial 25 finished with value: 0.0012259371833839919 and parameters: {'d': 265, 'k': 7, 'num_iters': 30, 'lambd': 0.3215814610005447, 'lr': 0.0041756578379844676}. Best is trial 16 with value: 0.00425531914893617.\u001b[0m\n",
      "\u001b[32m[I 2022-06-06 23:46:19,514]\u001b[0m Trial 26 finished with value: 0.002184397163120567 and parameters: {'d': 276, 'k': 5, 'num_iters': 30, 'lambd': 0.3900555051672743, 'lr': 0.004561655538357774}. Best is trial 16 with value: 0.00425531914893617.\u001b[0m\n",
      "\u001b[32m[I 2022-06-06 23:46:22,709]\u001b[0m Trial 27 finished with value: 0.0021560283687943266 and parameters: {'d': 277, 'k': 5, 'num_iters': 12, 'lambd': 0.3467394705830984, 'lr': 0.0045991828241620115}. Best is trial 16 with value: 0.00425531914893617.\u001b[0m\n",
      "\u001b[32m[I 2022-06-06 23:46:31,410]\u001b[0m Trial 29 finished with value: 0.0024822695035460994 and parameters: {'d': 277, 'k': 4, 'num_iters': 13, 'lambd': 5.608819787400078, 'lr': 0.0007900950031907482}. Best is trial 16 with value: 0.00425531914893617.\u001b[0m\n",
      "\u001b[32m[I 2022-06-06 23:46:40,993]\u001b[0m Trial 28 finished with value: 0.002368794326241135 and parameters: {'d': 272, 'k': 5, 'num_iters': 26, 'lambd': 4.984560567327648, 'lr': 0.0036541950629340315}. Best is trial 16 with value: 0.00425531914893617.\u001b[0m\n",
      "\u001b[32m[I 2022-06-06 23:46:51,148]\u001b[0m Trial 30 finished with value: 0.0024822695035460994 and parameters: {'d': 396, 'k': 4, 'num_iters': 12, 'lambd': 5.023420671944753, 'lr': 0.0009893088693541574}. Best is trial 16 with value: 0.00425531914893617.\u001b[0m\n",
      "\u001b[32m[I 2022-06-06 23:47:04,963]\u001b[0m Trial 31 finished with value: 0.0014978047956771359 and parameters: {'d': 398, 'k': 11, 'num_iters': 17, 'lambd': 4.950058021128687, 'lr': 0.0009774615121086055}. Best is trial 16 with value: 0.00425531914893617.\u001b[0m\n"
     ]
    },
    {
     "name": "stderr",
     "output_type": "stream",
     "text": [
      "\u001b[32m[I 2022-06-06 23:47:13,741]\u001b[0m Trial 32 finished with value: 0.0012776842757500398 and parameters: {'d': 400, 'k': 11, 'num_iters': 17, 'lambd': 0.05936835382878526, 'lr': 0.0025527219655236424}. Best is trial 16 with value: 0.00425531914893617.\u001b[0m\n",
      "\u001b[32m[I 2022-06-06 23:47:21,910]\u001b[0m Trial 33 finished with value: 0.0019745209300335025 and parameters: {'d': 415, 'k': 11, 'num_iters': 17, 'lambd': 0.07756593185826516, 'lr': 0.00017054622227594292}. Best is trial 16 with value: 0.00425531914893617.\u001b[0m\n",
      "\u001b[32m[I 2022-06-06 23:47:24,622]\u001b[0m Trial 35 finished with value: 0.0018912529550827422 and parameters: {'d': 195, 'k': 3, 'num_iters': 13, 'lambd': 0.10686076301541039, 'lr': 0.00019444715179003588}. Best is trial 16 with value: 0.00425531914893617.\u001b[0m\n",
      "\u001b[32m[I 2022-06-06 23:47:27,489]\u001b[0m Trial 34 finished with value: 0.0011911181446964815 and parameters: {'d': 429, 'k': 11, 'num_iters': 17, 'lambd': 0.08512627903280456, 'lr': 0.0009475823047374143}. Best is trial 16 with value: 0.00425531914893617.\u001b[0m\n",
      "\u001b[32m[I 2022-06-06 23:47:30,222]\u001b[0m Trial 36 finished with value: 0.002364066193853428 and parameters: {'d': 184, 'k': 3, 'num_iters': 11, 'lambd': 0.9799936539798124, 'lr': 0.00020705430080454436}. Best is trial 16 with value: 0.00425531914893617.\u001b[0m\n",
      "\u001b[32m[I 2022-06-06 23:47:47,874]\u001b[0m Trial 37 finished with value: 0.0028368794326241132 and parameters: {'d': 368, 'k': 3, 'num_iters': 11, 'lambd': 0.9567312199083854, 'lr': 0.007500050233653103}. Best is trial 16 with value: 0.00425531914893617.\u001b[0m\n",
      "\u001b[32m[I 2022-06-06 23:47:50,785]\u001b[0m Trial 38 finished with value: 0.003073286052009457 and parameters: {'d': 367, 'k': 3, 'num_iters': 11, 'lambd': 0.8251955664894794, 'lr': 0.006798415970599686}. Best is trial 16 with value: 0.00425531914893617.\u001b[0m\n",
      "\u001b[32m[I 2022-06-06 23:47:57,697]\u001b[0m Trial 39 finished with value: 0.002127659574468085 and parameters: {'d': 232, 'k': 2, 'num_iters': 24, 'lambd': 0.7757863641606899, 'lr': 0.007066587238513738}. Best is trial 16 with value: 0.00425531914893617.\u001b[0m\n",
      "\u001b[32m[I 2022-06-06 23:47:57,955]\u001b[0m Trial 40 finished with value: 0.0028368794326241137 and parameters: {'d': 364, 'k': 3, 'num_iters': 15, 'lambd': 9.978747153537853, 'lr': 0.006974991616806432}. Best is trial 16 with value: 0.00425531914893617.\u001b[0m\n",
      "\u001b[32m[I 2022-06-06 23:48:09,307]\u001b[0m Trial 42 finished with value: 0.002127659574468085 and parameters: {'d': 361, 'k': 2, 'num_iters': 4, 'lambd': 0.8481881332611522, 'lr': 0.007296150110029964}. Best is trial 16 with value: 0.00425531914893617.\u001b[0m\n",
      "\u001b[32m[I 2022-06-06 23:48:15,415]\u001b[0m Trial 43 finished with value: 0.00011820330969267139 and parameters: {'d': 363, 'k': 6, 'num_iters': 3, 'lambd': 12.928464748345844, 'lr': 0.003071685909729037}. Best is trial 16 with value: 0.00425531914893617.\u001b[0m\n",
      "\u001b[32m[I 2022-06-06 23:48:24,246]\u001b[0m Trial 41 finished with value: 0.0044917257683215125 and parameters: {'d': 360, 'k': 3, 'num_iters': 24, 'lambd': 0.8090825499961483, 'lr': 0.0076732204760661775}. Best is trial 41 with value: 0.0044917257683215125.\u001b[0m\n",
      "\u001b[32m[I 2022-06-06 23:48:25,461]\u001b[0m Trial 44 finished with value: 0.00011820330969267139 and parameters: {'d': 510, 'k': 6, 'num_iters': 5, 'lambd': 19.689564877727808, 'lr': 0.006874856591863285}. Best is trial 41 with value: 0.0044917257683215125.\u001b[0m\n",
      "\u001b[32m[I 2022-06-06 23:48:41,470]\u001b[0m Trial 45 finished with value: 0.0015366430260047284 and parameters: {'d': 452, 'k': 6, 'num_iters': 10, 'lambd': 9.710318121689266, 'lr': 0.0026649739735851094}. Best is trial 41 with value: 0.0044917257683215125.\u001b[0m\n",
      "\u001b[32m[I 2022-06-06 23:48:53,673]\u001b[0m Trial 46 finished with value: 0.0014184397163120566 and parameters: {'d': 449, 'k': 3, 'num_iters': 15, 'lambd': 0.02688112929061452, 'lr': 0.0016122013470017014}. Best is trial 41 with value: 0.0044917257683215125.\u001b[0m\n",
      "\u001b[32m[I 2022-06-06 23:48:56,124]\u001b[0m Trial 48 finished with value: 0.0007092198581560283 and parameters: {'d': 449, 'k': 3, 'num_iters': 9, 'lambd': 0.16518696476186948, 'lr': 0.0016429034995105191}. Best is trial 41 with value: 0.0044917257683215125.\u001b[0m\n",
      "\u001b[32m[I 2022-06-06 23:49:01,397]\u001b[0m Trial 47 finished with value: 0.0011429040332933357 and parameters: {'d': 465, 'k': 19, 'num_iters': 15, 'lambd': 0.164230421382204, 'lr': 0.001878723074805947}. Best is trial 41 with value: 0.0044917257683215125.\u001b[0m\n",
      "\u001b[32m[I 2022-06-06 23:49:07,178]\u001b[0m Trial 49 finished with value: 0.0033096926713947986 and parameters: {'d': 312, 'k': 3, 'num_iters': 15, 'lambd': 0.0354229289199257, 'lr': 0.0015817087896906632}. Best is trial 41 with value: 0.0044917257683215125.\u001b[0m\n",
      "\u001b[32m[I 2022-06-06 23:49:14,424]\u001b[0m Trial 50 finished with value: 0.000202412058515082 and parameters: {'d': 307, 'k': 19, 'num_iters': 9, 'lambd': 0.1964511902361628, 'lr': 9.598609196033615e-05}. Best is trial 41 with value: 0.0044917257683215125.\u001b[0m\n",
      "\u001b[32m[I 2022-06-06 23:49:21,637]\u001b[0m Trial 51 finished with value: 0.0017886224623813276 and parameters: {'d': 325, 'k': 9, 'num_iters': 14, 'lambd': 2.9408965774330267, 'lr': 2.9476005630507928e-05}. Best is trial 41 with value: 0.0044917257683215125.\u001b[0m\n",
      "\u001b[32m[I 2022-06-06 23:49:27,943]\u001b[0m Trial 52 finished with value: 0.0017886224623813276 and parameters: {'d': 329, 'k': 9, 'num_iters': 14, 'lambd': 3.182254120508077, 'lr': 9.274271836464047e-05}. Best is trial 41 with value: 0.0044917257683215125.\u001b[0m\n",
      "\u001b[32m[I 2022-06-06 23:49:44,433]\u001b[0m Trial 53 finished with value: 0.0013884723642809409 and parameters: {'d': 332, 'k': 20, 'num_iters': 23, 'lambd': 3.036800154502421, 'lr': 0.0006832206047265371}. Best is trial 41 with value: 0.0044917257683215125.\u001b[0m\n",
      "\u001b[32m[I 2022-06-06 23:49:52,364]\u001b[0m Trial 54 finished with value: 0.00425531914893617 and parameters: {'d': 301, 'k': 2, 'num_iters': 23, 'lambd': 0.5910469574628663, 'lr': 0.009897182328503434}. Best is trial 41 with value: 0.0044917257683215125.\u001b[0m\n",
      "\u001b[32m[I 2022-06-06 23:50:05,753]\u001b[0m Trial 55 finished with value: 0.005319148936170213 and parameters: {'d': 298, 'k': 2, 'num_iters': 27, 'lambd': 0.018522302574988214, 'lr': 0.00968517306132681}. Best is trial 55 with value: 0.005319148936170213.\u001b[0m\n",
      "\u001b[32m[I 2022-06-06 23:50:10,125]\u001b[0m Trial 56 finished with value: 0.00425531914893617 and parameters: {'d': 345, 'k': 2, 'num_iters': 24, 'lambd': 0.00292518909029567, 'lr': 0.005747231122255708}. Best is trial 55 with value: 0.005319148936170213.\u001b[0m\n",
      "\u001b[32m[I 2022-06-06 23:50:17,814]\u001b[0m Trial 57 finished with value: 0.0031914893617021275 and parameters: {'d': 375, 'k': 2, 'num_iters': 16, 'lambd': 0.0034909252551153496, 'lr': 0.009049019938430358}. Best is trial 55 with value: 0.005319148936170213.\u001b[0m\n",
      "\u001b[32m[I 2022-06-06 23:50:23,433]\u001b[0m Trial 58 finished with value: 0.009574468085106383 and parameters: {'d': 304, 'k': 2, 'num_iters': 19, 'lambd': 0.0029057909432738645, 'lr': 0.009735329433863993}. Best is trial 58 with value: 0.009574468085106383.\u001b[0m\n",
      "\u001b[32m[I 2022-06-06 23:50:44,652]\u001b[0m Trial 59 finished with value: 0.0031914893617021275 and parameters: {'d': 308, 'k': 2, 'num_iters': 28, 'lambd': 0.004056945687928514, 'lr': 0.009261685871733625}. Best is trial 58 with value: 0.009574468085106383.\u001b[0m\n",
      "\u001b[32m[I 2022-06-06 23:50:47,361]\u001b[0m Trial 60 finished with value: 0.0 and parameters: {'d': 300, 'k': 1, 'num_iters': 27, 'lambd': 0.0022290737697134616, 'lr': 0.005515831142482583}. Best is trial 58 with value: 0.009574468085106383.\u001b[0m\n",
      "\u001b[32m[I 2022-06-06 23:50:55,966]\u001b[0m Trial 61 finished with value: 0.00851063829787234 and parameters: {'d': 303, 'k': 1, 'num_iters': 27, 'lambd': 0.015883348492633148, 'lr': 0.009862884730707563}. Best is trial 58 with value: 0.009574468085106383.\u001b[0m\n",
      "\u001b[32m[I 2022-06-06 23:51:01,787]\u001b[0m Trial 62 finished with value: 0.0 and parameters: {'d': 301, 'k': 1, 'num_iters': 28, 'lambd': 0.00134107615127269, 'lr': 0.009610840590520612}. Best is trial 58 with value: 0.009574468085106383.\u001b[0m\n",
      "\u001b[32m[I 2022-06-06 23:51:17,520]\u001b[0m Trial 63 finished with value: 0.00851063829787234 and parameters: {'d': 293, 'k': 1, 'num_iters': 24, 'lambd': 0.0019671108420381608, 'lr': 0.005310497080363558}. Best is trial 58 with value: 0.009574468085106383.\u001b[0m\n",
      "\u001b[32m[I 2022-06-06 23:51:19,765]\u001b[0m Trial 64 finished with value: 0.0005686676724620263 and parameters: {'d': 294, 'k': 27, 'num_iters': 24, 'lambd': 0.01746883678096103, 'lr': 0.003706621137412745}. Best is trial 58 with value: 0.009574468085106383.\u001b[0m\n"
     ]
    },
    {
     "name": "stderr",
     "output_type": "stream",
     "text": [
      "\u001b[32m[I 2022-06-06 23:51:23,669]\u001b[0m Trial 65 finished with value: 0.0 and parameters: {'d': 249, 'k': 1, 'num_iters': 24, 'lambd': 0.010613742441477355, 'lr': 0.005361538154114762}. Best is trial 58 with value: 0.009574468085106383.\u001b[0m\n",
      "\u001b[32m[I 2022-06-06 23:51:28,006]\u001b[0m Trial 66 finished with value: 0.0033687943262411344 and parameters: {'d': 245, 'k': 4, 'num_iters': 24, 'lambd': 0.016217067251011425, 'lr': 0.005614570175183053}. Best is trial 58 with value: 0.009574468085106383.\u001b[0m\n",
      "\u001b[32m[I 2022-06-06 23:51:45,996]\u001b[0m Trial 67 finished with value: 0.0013297872340425532 and parameters: {'d': 248, 'k': 4, 'num_iters': 24, 'lambd': 0.01251183528557017, 'lr': 0.003611017099149946}. Best is trial 58 with value: 0.009574468085106383.\u001b[0m\n",
      "\u001b[32m[I 2022-06-06 23:51:51,605]\u001b[0m Trial 68 finished with value: 0.00026595744680851064 and parameters: {'d': 245, 'k': 4, 'num_iters': 25, 'lambd': 0.00870912350120277, 'lr': 0.005543675702773148}. Best is trial 58 with value: 0.009574468085106383.\u001b[0m\n",
      "\u001b[32m[I 2022-06-06 23:51:56,070]\u001b[0m Trial 69 finished with value: 0.001950354609929078 and parameters: {'d': 339, 'k': 4, 'num_iters': 21, 'lambd': 0.006941640306987234, 'lr': 0.005600143158515269}. Best is trial 58 with value: 0.009574468085106383.\u001b[0m\n",
      "\u001b[32m[I 2022-06-06 23:52:00,968]\u001b[0m Trial 70 finished with value: 0.0011770043532961464 and parameters: {'d': 343, 'k': 14, 'num_iters': 22, 'lambd': 0.005475387779403778, 'lr': 0.0002935695897540078}. Best is trial 58 with value: 0.009574468085106383.\u001b[0m\n",
      "\u001b[32m[I 2022-06-06 23:52:12,284]\u001b[0m Trial 71 finished with value: 0.0010638297872340426 and parameters: {'d': 222, 'k': 5, 'num_iters': 22, 'lambd': 0.0011942400415456652, 'lr': 0.009909847538002664}. Best is trial 58 with value: 0.009574468085106383.\u001b[0m\n",
      "\u001b[32m[I 2022-06-06 23:52:23,231]\u001b[0m Trial 73 finished with value: 0.0 and parameters: {'d': 217, 'k': 1, 'num_iters': 22, 'lambd': 0.0018230255535179975, 'lr': 0.008393687618289907}. Best is trial 58 with value: 0.009574468085106383.\u001b[0m\n",
      "\u001b[32m[I 2022-06-06 23:52:23,682]\u001b[0m Trial 72 finished with value: 0.001021276595744681 and parameters: {'d': 345, 'k': 5, 'num_iters': 21, 'lambd': 0.004765324342254258, 'lr': 0.00957303028038143}. Best is trial 58 with value: 0.009574468085106383.\u001b[0m\n",
      "\u001b[32m[I 2022-06-06 23:52:31,852]\u001b[0m Trial 74 finished with value: 0.0031914893617021275 and parameters: {'d': 284, 'k': 2, 'num_iters': 26, 'lambd': 0.0010322696021884225, 'lr': 0.008475763260180229}. Best is trial 58 with value: 0.009574468085106383.\u001b[0m\n",
      "\u001b[32m[I 2022-06-06 23:52:45,440]\u001b[0m Trial 75 finished with value: 0.0 and parameters: {'d': 293, 'k': 2, 'num_iters': 26, 'lambd': 0.002319447447524707, 'lr': 1.0095261000467516e-05}. Best is trial 58 with value: 0.009574468085106383.\u001b[0m\n",
      "\u001b[32m[I 2022-06-06 23:52:55,730]\u001b[0m Trial 76 finished with value: 0.005319148936170213 and parameters: {'d': 284, 'k': 2, 'num_iters': 26, 'lambd': 0.002832726997253276, 'lr': 0.00237224051894579}. Best is trial 58 with value: 0.009574468085106383.\u001b[0m\n",
      "\u001b[32m[I 2022-06-06 23:52:57,201]\u001b[0m Trial 77 finished with value: 0.007446808510638298 and parameters: {'d': 289, 'k': 2, 'num_iters': 26, 'lambd': 0.00300203917139744, 'lr': 0.0047113121950084205}. Best is trial 58 with value: 0.009574468085106383.\u001b[0m\n",
      "\u001b[32m[I 2022-06-06 23:52:59,092]\u001b[0m Trial 78 finished with value: 0.0 and parameters: {'d': 291, 'k': 2, 'num_iters': 19, 'lambd': 0.00305682495642363, 'lr': 0.004131771728603873}. Best is trial 58 with value: 0.009574468085106383.\u001b[0m\n",
      "\u001b[32m[I 2022-06-06 23:53:08,386]\u001b[0m Trial 79 finished with value: 0.0 and parameters: {'d': 265, 'k': 2, 'num_iters': 19, 'lambd': 0.002768401242661415, 'lr': 2.7193939152742606e-05}. Best is trial 58 with value: 0.009574468085106383.\u001b[0m\n",
      "\u001b[32m[I 2022-06-06 23:53:27,651]\u001b[0m Trial 80 finished with value: 0.0010638297872340426 and parameters: {'d': 259, 'k': 2, 'num_iters': 27, 'lambd': 0.002399266163339785, 'lr': 0.004444495540769133}. Best is trial 58 with value: 0.009574468085106383.\u001b[0m\n",
      "\u001b[32m[I 2022-06-06 23:53:29,416]\u001b[0m Trial 81 finished with value: 0.0 and parameters: {'d': 256, 'k': 1, 'num_iters': 27, 'lambd': 0.0030154364864231524, 'lr': 0.0023701911793172037}. Best is trial 58 with value: 0.009574468085106383.\u001b[0m\n",
      "\u001b[32m[I 2022-06-06 23:53:31,722]\u001b[0m Trial 82 finished with value: 0.0009480387899840786 and parameters: {'d': 264, 'k': 7, 'num_iters': 27, 'lambd': 0.002787356825952825, 'lr': 0.0032024628792537793}. Best is trial 58 with value: 0.009574468085106383.\u001b[0m\n",
      "\u001b[32m[I 2022-06-06 23:53:41,265]\u001b[0m Trial 83 finished with value: 0.0002600472813238771 and parameters: {'d': 259, 'k': 6, 'num_iters': 27, 'lambd': 0.0018084535617882706, 'lr': 0.0022499266555583396}. Best is trial 58 with value: 0.009574468085106383.\u001b[0m\n",
      "\u001b[32m[I 2022-06-06 23:54:10,630]\u001b[0m Trial 84 finished with value: 0.01276595744680851 and parameters: {'d': 344, 'k': 1, 'num_iters': 25, 'lambd': 0.0016773573675433282, 'lr': 0.0025491442212157147}. Best is trial 84 with value: 0.01276595744680851.\u001b[0m\n",
      "\u001b[32m[I 2022-06-06 23:54:12,593]\u001b[0m Trial 85 finished with value: 0.0016572586481401071 and parameters: {'d': 320, 'k': 7, 'num_iters': 25, 'lambd': 0.006518318352474099, 'lr': 0.006110866663599827}. Best is trial 84 with value: 0.01276595744680851.\u001b[0m\n",
      "\u001b[32m[I 2022-06-06 23:54:15,743]\u001b[0m Trial 86 finished with value: 0.01276595744680851 and parameters: {'d': 317, 'k': 1, 'num_iters': 25, 'lambd': 0.0017349108315184232, 'lr': 0.006540898621638782}. Best is trial 84 with value: 0.01276595744680851.\u001b[0m\n",
      "\u001b[32m[I 2022-06-06 23:54:24,724]\u001b[0m Trial 87 finished with value: 0.003368794326241134 and parameters: {'d': 317, 'k': 4, 'num_iters': 25, 'lambd': 0.005678209223615674, 'lr': 0.006325957431959612}. Best is trial 84 with value: 0.01276595744680851.\u001b[0m\n",
      "\u001b[32m[I 2022-06-06 23:54:47,885]\u001b[0m Trial 88 finished with value: 0.0 and parameters: {'d': 322, 'k': 1, 'num_iters': 25, 'lambd': 0.006650073937011497, 'lr': 0.0013180218255853704}. Best is trial 84 with value: 0.01276595744680851.\u001b[0m\n",
      "\u001b[32m[I 2022-06-06 23:54:49,205]\u001b[0m Trial 89 finished with value: 0.00425531914893617 and parameters: {'d': 281, 'k': 1, 'num_iters': 25, 'lambd': 1.2631283355130154, 'lr': 0.002919068115588388}. Best is trial 84 with value: 0.01276595744680851.\u001b[0m\n",
      "\u001b[32m[I 2022-06-06 23:54:57,684]\u001b[0m Trial 90 finished with value: 0.00425531914893617 and parameters: {'d': 284, 'k': 1, 'num_iters': 29, 'lambd': 0.0015122932737398618, 'lr': 0.0029182331032905945}. Best is trial 84 with value: 0.01276595744680851.\u001b[0m\n",
      "\u001b[32m[I 2022-06-06 23:55:13,499]\u001b[0m Trial 91 finished with value: 0.00851063829787234 and parameters: {'d': 385, 'k': 1, 'num_iters': 28, 'lambd': 0.0014610470871622941, 'lr': 0.0012093911675683578}. Best is trial 84 with value: 0.01276595744680851.\u001b[0m\n",
      "\u001b[32m[I 2022-06-06 23:55:40,478]\u001b[0m Trial 93 finished with value: 0.002600472813238771 and parameters: {'d': 352, 'k': 3, 'num_iters': 29, 'lambd': 0.0014144604127720275, 'lr': 0.004736001641075964}. Best is trial 84 with value: 0.01276595744680851.\u001b[0m\n",
      "\u001b[32m[I 2022-06-06 23:55:41,147]\u001b[0m Trial 92 finished with value: 0.0007092198581560283 and parameters: {'d': 387, 'k': 3, 'num_iters': 29, 'lambd': 0.004598871128681692, 'lr': 0.002901119405811223}. Best is trial 84 with value: 0.01276595744680851.\u001b[0m\n",
      "\u001b[32m[I 2022-06-06 23:55:47,334]\u001b[0m Trial 94 finished with value: 0.0028368794326241132 and parameters: {'d': 351, 'k': 3, 'num_iters': 29, 'lambd': 0.0015267543148835242, 'lr': 0.004527222105901253}. Best is trial 84 with value: 0.01276595744680851.\u001b[0m\n",
      "\u001b[32m[I 2022-06-06 23:56:02,355]\u001b[0m Trial 95 finished with value: 0.0018912529550827422 and parameters: {'d': 380, 'k': 3, 'num_iters': 28, 'lambd': 0.0042112076740537146, 'lr': 0.007778531650894945}. Best is trial 84 with value: 0.01276595744680851.\u001b[0m\n",
      "\u001b[32m[I 2022-06-06 23:56:28,206]\u001b[0m Trial 96 finished with value: 0.0 and parameters: {'d': 356, 'k': 3, 'num_iters': 28, 'lambd': 0.004226104396419721, 'lr': 0.00797037054883942}. Best is trial 84 with value: 0.01276595744680851.\u001b[0m\n",
      "\u001b[32m[I 2022-06-06 23:56:29,497]\u001b[0m Trial 97 finished with value: 0.0007092198581560283 and parameters: {'d': 353, 'k': 3, 'num_iters': 28, 'lambd': 0.0018554846244541305, 'lr': 0.007816404483053646}. Best is trial 84 with value: 0.01276595744680851.\u001b[0m\n"
     ]
    },
    {
     "name": "stderr",
     "output_type": "stream",
     "text": [
      "\u001b[32m[I 2022-06-06 23:56:32,847]\u001b[0m Trial 98 finished with value: 0.00425531914893617 and parameters: {'d': 414, 'k': 1, 'num_iters': 26, 'lambd': 0.00396591934174155, 'lr': 0.007910870399082847}. Best is trial 84 with value: 0.01276595744680851.\u001b[0m\n",
      "\u001b[32m[I 2022-06-06 23:56:34,229]\u001b[0m Trial 99 finished with value: 0.0008865248226950353 and parameters: {'d': 309, 'k': 4, 'num_iters': 26, 'lambd': 0.002005072299391703, 'lr': 0.002102964132649604}. Best is trial 84 with value: 0.01276595744680851.\u001b[0m\n"
     ]
    },
    {
     "name": "stdout",
     "output_type": "stream",
     "text": [
      "Wall time: 13min 7s\n"
     ]
    },
    {
     "data": {
      "text/plain": [
       "0.01276595744680851"
      ]
     },
     "execution_count": 144,
     "metadata": {},
     "output_type": "execute_result"
    }
   ],
   "source": [
    "%%time\n",
    "def objective_als(trial):\n",
    "    d = trial.suggest_int('d', 32, 512, log=False)\n",
    "    k = trial.suggest_int('k', 1, 30, log=False)\n",
    "    num_iters = trial.suggest_int('num_iters', 1, 30, log=False)\n",
    "    lambd = trial.suggest_float('lambd', 1e-3, 100, log=True)\n",
    "    lr = trial.suggest_float('lr', 1e-5, 1e-2, log=True)\n",
    "\n",
    "    model = HiddenVars(train_ratings, dim=d, mode='als', lamb=lambd, lr=lr)\n",
    "    model.fit(num_iters=num_iters)\n",
    "    preds = model.get_test_recommendations(k)\n",
    "    score = mapk(test_relevant, preds, k=k)\n",
    "\n",
    "    return score\n",
    "\n",
    "\n",
    "study = optuna.create_study(direction='maximize')\n",
    "study.optimize(objective_als, n_trials=100, n_jobs=-1)\n",
    "best_trial = study.best_trial\n",
    "study.best_value"
   ]
  },
  {
   "cell_type": "code",
   "execution_count": 145,
   "id": "e67c1b9f",
   "metadata": {},
   "outputs": [
    {
     "data": {
      "text/plain": [
       "{'d': 344,\n",
       " 'k': 1,\n",
       " 'num_iters': 25,\n",
       " 'lambd': 0.0016773573675433282,\n",
       " 'lr': 0.0025491442212157147}"
      ]
     },
     "execution_count": 145,
     "metadata": {},
     "output_type": "execute_result"
    }
   ],
   "source": [
    "study.best_params"
   ]
  },
  {
   "cell_type": "code",
   "execution_count": 146,
   "id": "3f1b61e3",
   "metadata": {},
   "outputs": [],
   "source": [
    "k_max = 50\n",
    "\n",
    "model = User2User(train_ratings, pearson)\n",
    "preds_pears = model.get_test_recommendations(k_max)\n",
    "\n",
    "model = User2User(train_ratings, jaccard)\n",
    "preds_jaccard = model.get_test_recommendations(k_max)\n",
    "\n",
    "preds_random = []\n",
    "for user in test_users:\n",
    "    random_args = np.arange(model.n_items)\n",
    "    np.random.shuffle(random_args)\n",
    "    preds_random.append(random_args)\n",
    "preds_random = model.remove_train_items(preds_random, k_max)\n",
    "\n",
    "model = HiddenVars(train_ratings, mode='sgd', dim=85, lamb=3.75, lr=8.57e-4)\n",
    "model.fit(num_iters=18)\n",
    "preds_sgd = model.get_test_recommendations(k_max)\n",
    "\n",
    "model = HiddenVars(train_ratings, mode='als', dim=344, lamb=0.001677, lr=0.002549)\n",
    "model.fit(num_iters=25)\n",
    "preds_als = model.get_test_recommendations(k_max)   "
   ]
  },
  {
   "cell_type": "code",
   "execution_count": 147,
   "id": "6ab4bf6b",
   "metadata": {},
   "outputs": [
    {
     "name": "stderr",
     "output_type": "stream",
     "text": [
      "<ipython-input-7-1a7ee434a826>:8: RuntimeWarning: invalid value encountered in true_divide\n",
      "  return np.mean(np.sum((p * mask), axis=1) / coef)\n"
     ]
    },
    {
     "data": {
      "image/png": "[encoded data removed]",
      "text/plain": [
       "<Figure size 432x288 with 1 Axes>"
      ]
     },
     "metadata": {
      "needs_background": "light"
     },
     "output_type": "display_data"
    }
   ],
   "source": [
    "preds_all = [preds_pears, preds_jaccard, preds_random, preds_sgd, preds_als]\n",
    "names = ['pearson', 'jaccard', 'random', 'sgd', 'als']\n",
    "\n",
    "for name, preds in zip(names, preds_all):\n",
    "    scores = []\n",
    "    for k in range(k_max):\n",
    "        scores.append(mapk(test_relevant, preds, k=k))\n",
    "    plt.plot(range(1, k_max + 1), scores, label=name)\n",
    "plt.title('Зависимость MAP@k от k')\n",
    "plt.ylabel('MAP@k')\n",
    "plt.xlabel('k')\n",
    "plt.legend()\n",
    "plt.show()"
   ]
  },
  {
   "cell_type": "code",
   "execution_count": 151,
   "id": "1d5fa494",
   "metadata": {},
   "outputs": [
    {
     "data": {
      "application/vnd.jupyter.widget-view+json": {
       "model_id": "fd5b99648a0942d6afd436f724152461",
       "version_major": 2,
       "version_minor": 0
      },
      "text/plain": [
       "  0%|          | 0/9 [00:00<?, ?it/s]"
      ]
     },
     "metadata": {},
     "output_type": "display_data"
    }
   ],
   "source": [
    "scores_sgd = []\n",
    "scores_als = []\n",
    "n_iters = np.arange(3, 20, 2)\n",
    "for n_iter in tqdm(n_iters):\n",
    "    model = HiddenVars(train_ratings, mode='sgd', dim=85, lamb=3.75, lr=8.57e-4)\n",
    "    model.fit(num_iters=n_iter)\n",
    "    preds = model.get_test_recommendations(3)\n",
    "    scores_sgd.append(mapk(test_relevant, preds, k=3))\n",
    "    \n",
    "    model = HiddenVars(train_ratings, mode='als', dim=344, lamb=0.001677, lr=0.002549)\n",
    "    model.fit(num_iters=n_iter)\n",
    "    preds = model.get_test_recommendations(1)\n",
    "    scores_als.append(mapk(test_relevant, preds, k=3))"
   ]
  },
  {
   "cell_type": "code",
   "execution_count": 153,
   "id": "23391537",
   "metadata": {},
   "outputs": [
    {
     "data": {
      "image/png": "[encoded data removed]",
      "text/plain": [
       "<Figure size 432x288 with 1 Axes>"
      ]
     },
     "metadata": {
      "needs_background": "light"
     },
     "output_type": "display_data"
    }
   ],
   "source": [
    "plt.plot(n_iters, scores_sgd, label='sgd')\n",
    "plt.plot(n_iters, scores_als, label='als')\n",
    "plt.title('Зависимость MAP@k от числа обучающих итераций')\n",
    "plt.ylabel('MAP@k')\n",
    "plt.xlabel('Число итераций')\n",
    "plt.legend()\n",
    "plt.show()"
   ]
  },
  {
   "cell_type": "markdown",
   "id": "68c4feb0",
   "metadata": {},
   "source": [
    "Я бы выбрал для этой задчи sgd, т.к. его  площадь под графиком (в зависимости от k) больше чем у остальных, т.е. он имеет лучшую предсказывающую способность (особенно на небольших k)."
   ]
  },
  {
   "cell_type": "markdown",
   "id": "Gx4EMj0HwVlR",
   "metadata": {
    "id": "Gx4EMj0HwVlR"
   },
   "source": [
    "Если у вас получилось достаточно хорошее качество, то при оптимизации параметров марицы $Q$ похожим трекам стали соответствовать похожие векторы. Поэтому мы можем для любого трека найти наиболее близкие к нему в латентном пространстве и проверить степерь обученности модели вручную."
   ]
  },
  {
   "cell_type": "code",
   "execution_count": 154,
   "id": "VFYy92Ls-53S",
   "metadata": {
    "id": "VFYy92Ls-53S"
   },
   "outputs": [],
   "source": [
    "example_trackId = tracks_info[tracks_info.name == 'Выхода нет'].iloc[0].id\n",
    "\n",
    "preds = model.Q @ model.Q[example_trackId]\n",
    "preds = preds / np.sqrt((model.Q**2).sum(axis=1) + 1e-8)\n",
    "\n",
    "track_idxs = preds.argsort()[::-1][:20]"
   ]
  },
  {
   "cell_type": "code",
   "execution_count": 155,
   "id": "DzewG5rw5SQo",
   "metadata": {
    "colab": {
     "base_uri": "https://localhost:8080/",
     "height": 669
    },
    "id": "DzewG5rw5SQo",
    "outputId": "b49d9730-dab4-451a-943f-b26f2e4f4a23"
   },
   "outputs": [
    {
     "data": {
      "text/html": [
       "<div>\n",
       "<style scoped>\n",
       "    .dataframe tbody tr th:only-of-type {\n",
       "        vertical-align: middle;\n",
       "    }\n",
       "\n",
       "    .dataframe tbody tr th {\n",
       "        vertical-align: top;\n",
       "    }\n",
       "\n",
       "    .dataframe thead th {\n",
       "        text-align: right;\n",
       "    }\n",
       "</style>\n",
       "<table border=\"1\" class=\"dataframe\">\n",
       "  <thead>\n",
       "    <tr style=\"text-align: right;\">\n",
       "      <th></th>\n",
       "      <th>name</th>\n",
       "      <th>artists</th>\n",
       "      <th>similarity</th>\n",
       "    </tr>\n",
       "  </thead>\n",
       "  <tbody>\n",
       "    <tr>\n",
       "      <th>5512</th>\n",
       "      <td>Выхода нет</td>\n",
       "      <td>['Сплин']</td>\n",
       "      <td>1.000000</td>\n",
       "    </tr>\n",
       "    <tr>\n",
       "      <th>50864</th>\n",
       "      <td>Давай разлуке запретим</td>\n",
       "      <td>['Стас Михайлов', 'Тамара Гвердцители']</td>\n",
       "      <td>0.541690</td>\n",
       "    </tr>\n",
       "    <tr>\n",
       "      <th>49066</th>\n",
       "      <td>Я люблю тебя до Луны</td>\n",
       "      <td>['Ирина Дубцова']</td>\n",
       "      <td>0.541690</td>\n",
       "    </tr>\n",
       "    <tr>\n",
       "      <th>26186</th>\n",
       "      <td>морячок</td>\n",
       "      <td>['Ночные Снайперы']</td>\n",
       "      <td>0.539538</td>\n",
       "    </tr>\n",
       "    <tr>\n",
       "      <th>5515</th>\n",
       "      <td>Романс</td>\n",
       "      <td>['Сплин']</td>\n",
       "      <td>0.531752</td>\n",
       "    </tr>\n",
       "    <tr>\n",
       "      <th>42454</th>\n",
       "      <td>Сумасшедшая</td>\n",
       "      <td>['Ани Лорак']</td>\n",
       "      <td>0.527350</td>\n",
       "    </tr>\n",
       "    <tr>\n",
       "      <th>49245</th>\n",
       "      <td>Toukassé</td>\n",
       "      <td>['Shanguy']</td>\n",
       "      <td>0.518094</td>\n",
       "    </tr>\n",
       "    <tr>\n",
       "      <th>51087</th>\n",
       "      <td>Любовь найдёт</td>\n",
       "      <td>['Юлия Савичева']</td>\n",
       "      <td>0.517549</td>\n",
       "    </tr>\n",
       "    <tr>\n",
       "      <th>36985</th>\n",
       "      <td>Pumped Up</td>\n",
       "      <td>['Klingande']</td>\n",
       "      <td>0.508543</td>\n",
       "    </tr>\n",
       "    <tr>\n",
       "      <th>6412</th>\n",
       "      <td>White Flag</td>\n",
       "      <td>['Dido']</td>\n",
       "      <td>0.491133</td>\n",
       "    </tr>\n",
       "    <tr>\n",
       "      <th>11786</th>\n",
       "      <td>Let's Stay Together</td>\n",
       "      <td>['Seal']</td>\n",
       "      <td>0.490456</td>\n",
       "    </tr>\n",
       "    <tr>\n",
       "      <th>50817</th>\n",
       "      <td>GOMF</td>\n",
       "      <td>['DVBBS', 'BRIDGE']</td>\n",
       "      <td>0.490456</td>\n",
       "    </tr>\n",
       "    <tr>\n",
       "      <th>50784</th>\n",
       "      <td>Я буду твоя</td>\n",
       "      <td>['Таисия Повалий']</td>\n",
       "      <td>0.490456</td>\n",
       "    </tr>\n",
       "    <tr>\n",
       "      <th>18215</th>\n",
       "      <td>Changes</td>\n",
       "      <td>['Faul &amp; Wad', 'PNAU']</td>\n",
       "      <td>0.490456</td>\n",
       "    </tr>\n",
       "    <tr>\n",
       "      <th>48066</th>\n",
       "      <td>Jaded</td>\n",
       "      <td>['Savannah Locke']</td>\n",
       "      <td>0.490456</td>\n",
       "    </tr>\n",
       "    <tr>\n",
       "      <th>49660</th>\n",
       "      <td>Hello</td>\n",
       "      <td>[\"Youssou N'Dour\", 'Mohombi']</td>\n",
       "      <td>0.490456</td>\n",
       "    </tr>\n",
       "    <tr>\n",
       "      <th>28125</th>\n",
       "      <td>The Ocean</td>\n",
       "      <td>['Mike Perry', 'Shy Martin']</td>\n",
       "      <td>0.490456</td>\n",
       "    </tr>\n",
       "    <tr>\n",
       "      <th>49782</th>\n",
       "      <td>I Love It</td>\n",
       "      <td>['RØSHE']</td>\n",
       "      <td>0.490456</td>\n",
       "    </tr>\n",
       "    <tr>\n",
       "      <th>23759</th>\n",
       "      <td>Wicked Games</td>\n",
       "      <td>['Parra For Cuva', 'Anna Naklab']</td>\n",
       "      <td>0.490456</td>\n",
       "    </tr>\n",
       "    <tr>\n",
       "      <th>23611</th>\n",
       "      <td>Drag</td>\n",
       "      <td>['Day Wave']</td>\n",
       "      <td>0.490456</td>\n",
       "    </tr>\n",
       "  </tbody>\n",
       "</table>\n",
       "</div>"
      ],
      "text/plain": [
       "                         name                                  artists  \\\n",
       "5512               Выхода нет                                ['Сплин']   \n",
       "50864  Давай разлуке запретим  ['Стас Михайлов', 'Тамара Гвердцители']   \n",
       "49066    Я люблю тебя до Луны                        ['Ирина Дубцова']   \n",
       "26186                 морячок                      ['Ночные Снайперы']   \n",
       "5515                   Романс                                ['Сплин']   \n",
       "42454             Сумасшедшая                            ['Ани Лорак']   \n",
       "49245                Toukassé                              ['Shanguy']   \n",
       "51087           Любовь найдёт                        ['Юлия Савичева']   \n",
       "36985               Pumped Up                            ['Klingande']   \n",
       "6412               White Flag                                 ['Dido']   \n",
       "11786     Let's Stay Together                                 ['Seal']   \n",
       "50817                    GOMF                      ['DVBBS', 'BRIDGE']   \n",
       "50784             Я буду твоя                       ['Таисия Повалий']   \n",
       "18215                 Changes                   ['Faul & Wad', 'PNAU']   \n",
       "48066                   Jaded                       ['Savannah Locke']   \n",
       "49660                   Hello            [\"Youssou N'Dour\", 'Mohombi']   \n",
       "28125               The Ocean             ['Mike Perry', 'Shy Martin']   \n",
       "49782               I Love It                                ['RØSHE']   \n",
       "23759            Wicked Games        ['Parra For Cuva', 'Anna Naklab']   \n",
       "23611                    Drag                             ['Day Wave']   \n",
       "\n",
       "       similarity  \n",
       "5512     1.000000  \n",
       "50864    0.541690  \n",
       "49066    0.541690  \n",
       "26186    0.539538  \n",
       "5515     0.531752  \n",
       "42454    0.527350  \n",
       "49245    0.518094  \n",
       "51087    0.517549  \n",
       "36985    0.508543  \n",
       "6412     0.491133  \n",
       "11786    0.490456  \n",
       "50817    0.490456  \n",
       "50784    0.490456  \n",
       "18215    0.490456  \n",
       "48066    0.490456  \n",
       "49660    0.490456  \n",
       "28125    0.490456  \n",
       "49782    0.490456  \n",
       "23759    0.490456  \n",
       "23611    0.490456  "
      ]
     },
     "execution_count": 155,
     "metadata": {},
     "output_type": "execute_result"
    }
   ],
   "source": [
    "similar_tracks = tracks_info.loc[track_idxs][['name', 'artists']]\n",
    "similar_tracks['similarity'] = preds[track_idxs] / np.linalg.norm(model.Q[example_trackId])\n",
    "similar_tracks"
   ]
  },
  {
   "cell_type": "code",
   "execution_count": null,
   "id": "eb421f69",
   "metadata": {},
   "outputs": [],
   "source": []
  }
 ],
 "metadata": {
  "colab": {
   "collapsed_sections": [],
   "name": "Копия блокнота \"recommendations_hw_solved.ipynb\"",
   "provenance": []
  },
  "kernelspec": {
   "display_name": "Python 3",
   "language": "python",
   "name": "python3"
  },
  "language_info": {
   "codemirror_mode": {
    "name": "ipython",
    "version": 3
   },
   "file_extension": ".py",
   "mimetype": "text/x-python",
   "name": "python",
   "nbconvert_exporter": "python",
   "pygments_lexer": "ipython3",
   "version": "3.8.8"
  },
  "widgets": {
   "application/vnd.jupyter.widget-state+json": {
    "09367b7a291f4c81a93f79ac3bf09e9b": {
     "model_module": "@jupyter-widgets/controls",
     "model_module_version": "1.5.0",
     "model_name": "HTMLModel",
     "state": {
      "_dom_classes": [],
      "_model_module": "@jupyter-widgets/controls",
      "_model_module_version": "1.5.0",
      "_model_name": "HTMLModel",
      "_view_count": null,
      "_view_module": "@jupyter-widgets/controls",
      "_view_module_version": "1.5.0",
      "_view_name": "HTMLView",
      "description": "",
      "description_tooltip": null,
      "layout": "IPY_MODEL_57bc2e2902994e799d4378888bdb342a",
      "placeholder": "​",
      "style": "IPY_MODEL_4631243cc4dd4d1a8e3ffe3a8da29cf7",
      "value": "100%"
     }
    },
    "0b2d687ab70343a999f3a37dfe030a9c": {
     "model_module": "@jupyter-widgets/base",
     "model_module_version": "1.2.0",
     "model_name": "LayoutModel",
     "state": {
      "_model_module": "@jupyter-widgets/base",
      "_model_module_version": "1.2.0",
      "_model_name": "LayoutModel",
      "_view_count": null,
      "_view_module": "@jupyter-widgets/base",
      "_view_module_version": "1.2.0",
      "_view_name": "LayoutView",
      "align_content": null,
      "align_items": null,
      "align_self": null,
      "border": null,
      "bottom": null,
      "display": null,
      "flex": null,
      "flex_flow": null,
      "grid_area": null,
      "grid_auto_columns": null,
      "grid_auto_flow": null,
      "grid_auto_rows": null,
      "grid_column": null,
      "grid_gap": null,
      "grid_row": null,
      "grid_template_areas": null,
      "grid_template_columns": null,
      "grid_template_rows": null,
      "height": null,
      "justify_content": null,
      "justify_items": null,
      "left": null,
      "margin": null,
      "max_height": null,
      "max_width": null,
      "min_height": null,
      "min_width": null,
      "object_fit": null,
      "object_position": null,
      "order": null,
      "overflow": null,
      "overflow_x": null,
      "overflow_y": null,
      "padding": null,
      "right": null,
      "top": null,
      "visibility": null,
      "width": null
     }
    },
    "1b31eda686b54f7ca8c66aef18c987f3": {
     "model_module": "@jupyter-widgets/controls",
     "model_module_version": "1.5.0",
     "model_name": "HBoxModel",
     "state": {
      "_dom_classes": [],
      "_model_module": "@jupyter-widgets/controls",
      "_model_module_version": "1.5.0",
      "_model_name": "HBoxModel",
      "_view_count": null,
      "_view_module": "@jupyter-widgets/controls",
      "_view_module_version": "1.5.0",
      "_view_name": "HBoxView",
      "box_style": "",
      "children": [
       "IPY_MODEL_c8a26ff7a9504ca7b9982a1fdc958364",
       "IPY_MODEL_55a177c209e6414d8daae0aae25ab569",
       "IPY_MODEL_5696660af0a04fbbb0743796bdd5f9b3"
      ],
      "layout": "IPY_MODEL_35c5904b82544e9cac71cf7b0b67cc1e"
     }
    },
    "2571c66c254d4a6c9ae5a20812e41641": {
     "model_module": "@jupyter-widgets/controls",
     "model_module_version": "1.5.0",
     "model_name": "DescriptionStyleModel",
     "state": {
      "_model_module": "@jupyter-widgets/controls",
      "_model_module_version": "1.5.0",
      "_model_name": "DescriptionStyleModel",
      "_view_count": null,
      "_view_module": "@jupyter-widgets/base",
      "_view_module_version": "1.2.0",
      "_view_name": "StyleView",
      "description_width": ""
     }
    },
    "2943eba3c235416b809e23186d5625ef": {
     "model_module": "@jupyter-widgets/base",
     "model_module_version": "1.2.0",
     "model_name": "LayoutModel",
     "state": {
      "_model_module": "@jupyter-widgets/base",
      "_model_module_version": "1.2.0",
      "_model_name": "LayoutModel",
      "_view_count": null,
      "_view_module": "@jupyter-widgets/base",
      "_view_module_version": "1.2.0",
      "_view_name": "LayoutView",
      "align_content": null,
      "align_items": null,
      "align_self": null,
      "border": null,
      "bottom": null,
      "display": null,
      "flex": null,
      "flex_flow": null,
      "grid_area": null,
      "grid_auto_columns": null,
      "grid_auto_flow": null,
      "grid_auto_rows": null,
      "grid_column": null,
      "grid_gap": null,
      "grid_row": null,
      "grid_template_areas": null,
      "grid_template_columns": null,
      "grid_template_rows": null,
      "height": null,
      "justify_content": null,
      "justify_items": null,
      "left": null,
      "margin": null,
      "max_height": null,
      "max_width": null,
      "min_height": null,
      "min_width": null,
      "object_fit": null,
      "object_position": null,
      "order": null,
      "overflow": null,
      "overflow_x": null,
      "overflow_y": null,
      "padding": null,
      "right": null,
      "top": null,
      "visibility": null,
      "width": null
     }
    },
    "2ded17a125a44376abbe87ef29f2aa17": {
     "model_module": "@jupyter-widgets/controls",
     "model_module_version": "1.5.0",
     "model_name": "ProgressStyleModel",
     "state": {
      "_model_module": "@jupyter-widgets/controls",
      "_model_module_version": "1.5.0",
      "_model_name": "ProgressStyleModel",
      "_view_count": null,
      "_view_module": "@jupyter-widgets/base",
      "_view_module_version": "1.2.0",
      "_view_name": "StyleView",
      "bar_color": null,
      "description_width": ""
     }
    },
    "3339a154ce00450b8d07b45eda2e887c": {
     "model_module": "@jupyter-widgets/controls",
     "model_module_version": "1.5.0",
     "model_name": "FloatProgressModel",
     "state": {
      "_dom_classes": [],
      "_model_module": "@jupyter-widgets/controls",
      "_model_module_version": "1.5.0",
      "_model_name": "FloatProgressModel",
      "_view_count": null,
      "_view_module": "@jupyter-widgets/controls",
      "_view_module_version": "1.5.0",
      "_view_name": "ProgressView",
      "bar_style": "success",
      "description": "",
      "description_tooltip": null,
      "layout": "IPY_MODEL_a0cfdce0ec8544c49332cc831f67e777",
      "max": 241,
      "min": 0,
      "orientation": "horizontal",
      "style": "IPY_MODEL_c5b91a082e7d40879f66b6685fdfcfe0",
      "value": 241
     }
    },
    "35c5904b82544e9cac71cf7b0b67cc1e": {
     "model_module": "@jupyter-widgets/base",
     "model_module_version": "1.2.0",
     "model_name": "LayoutModel",
     "state": {
      "_model_module": "@jupyter-widgets/base",
      "_model_module_version": "1.2.0",
      "_model_name": "LayoutModel",
      "_view_count": null,
      "_view_module": "@jupyter-widgets/base",
      "_view_module_version": "1.2.0",
      "_view_name": "LayoutView",
      "align_content": null,
      "align_items": null,
      "align_self": null,
      "border": null,
      "bottom": null,
      "display": null,
      "flex": null,
      "flex_flow": null,
      "grid_area": null,
      "grid_auto_columns": null,
      "grid_auto_flow": null,
      "grid_auto_rows": null,
      "grid_column": null,
      "grid_gap": null,
      "grid_row": null,
      "grid_template_areas": null,
      "grid_template_columns": null,
      "grid_template_rows": null,
      "height": null,
      "justify_content": null,
      "justify_items": null,
      "left": null,
      "margin": null,
      "max_height": null,
      "max_width": null,
      "min_height": null,
      "min_width": null,
      "object_fit": null,
      "object_position": null,
      "order": null,
      "overflow": null,
      "overflow_x": null,
      "overflow_y": null,
      "padding": null,
      "right": null,
      "top": null,
      "visibility": null,
      "width": null
     }
    },
    "41b564f7d67b4422abcd5ac9925eb1f2": {
     "model_module": "@jupyter-widgets/controls",
     "model_module_version": "1.5.0",
     "model_name": "HTMLModel",
     "state": {
      "_dom_classes": [],
      "_model_module": "@jupyter-widgets/controls",
      "_model_module_version": "1.5.0",
      "_model_name": "HTMLModel",
      "_view_count": null,
      "_view_module": "@jupyter-widgets/controls",
      "_view_module_version": "1.5.0",
      "_view_name": "HTMLView",
      "description": "",
      "description_tooltip": null,
      "layout": "IPY_MODEL_f0fbd1b9ea074c1b9969417c02b32348",
      "placeholder": "​",
      "style": "IPY_MODEL_7935cc6e74c14372a82276f0a28e4559",
      "value": " 241/241 [00:01&lt;00:00, 158.21it/s]"
     }
    },
    "4631243cc4dd4d1a8e3ffe3a8da29cf7": {
     "model_module": "@jupyter-widgets/controls",
     "model_module_version": "1.5.0",
     "model_name": "DescriptionStyleModel",
     "state": {
      "_model_module": "@jupyter-widgets/controls",
      "_model_module_version": "1.5.0",
      "_model_name": "DescriptionStyleModel",
      "_view_count": null,
      "_view_module": "@jupyter-widgets/base",
      "_view_module_version": "1.2.0",
      "_view_name": "StyleView",
      "description_width": ""
     }
    },
    "55a177c209e6414d8daae0aae25ab569": {
     "model_module": "@jupyter-widgets/controls",
     "model_module_version": "1.5.0",
     "model_name": "FloatProgressModel",
     "state": {
      "_dom_classes": [],
      "_model_module": "@jupyter-widgets/controls",
      "_model_module_version": "1.5.0",
      "_model_name": "FloatProgressModel",
      "_view_count": null,
      "_view_module": "@jupyter-widgets/controls",
      "_view_module_version": "1.5.0",
      "_view_name": "ProgressView",
      "bar_style": "success",
      "description": "",
      "description_tooltip": null,
      "layout": "IPY_MODEL_2943eba3c235416b809e23186d5625ef",
      "max": 241,
      "min": 0,
      "orientation": "horizontal",
      "style": "IPY_MODEL_2ded17a125a44376abbe87ef29f2aa17",
      "value": 241
     }
    },
    "5696660af0a04fbbb0743796bdd5f9b3": {
     "model_module": "@jupyter-widgets/controls",
     "model_module_version": "1.5.0",
     "model_name": "HTMLModel",
     "state": {
      "_dom_classes": [],
      "_model_module": "@jupyter-widgets/controls",
      "_model_module_version": "1.5.0",
      "_model_name": "HTMLModel",
      "_view_count": null,
      "_view_module": "@jupyter-widgets/controls",
      "_view_module_version": "1.5.0",
      "_view_name": "HTMLView",
      "description": "",
      "description_tooltip": null,
      "layout": "IPY_MODEL_0b2d687ab70343a999f3a37dfe030a9c",
      "placeholder": "​",
      "style": "IPY_MODEL_2571c66c254d4a6c9ae5a20812e41641",
      "value": " 241/241 [00:00&lt;00:00, 515.87it/s]"
     }
    },
    "57bc2e2902994e799d4378888bdb342a": {
     "model_module": "@jupyter-widgets/base",
     "model_module_version": "1.2.0",
     "model_name": "LayoutModel",
     "state": {
      "_model_module": "@jupyter-widgets/base",
      "_model_module_version": "1.2.0",
      "_model_name": "LayoutModel",
      "_view_count": null,
      "_view_module": "@jupyter-widgets/base",
      "_view_module_version": "1.2.0",
      "_view_name": "LayoutView",
      "align_content": null,
      "align_items": null,
      "align_self": null,
      "border": null,
      "bottom": null,
      "display": null,
      "flex": null,
      "flex_flow": null,
      "grid_area": null,
      "grid_auto_columns": null,
      "grid_auto_flow": null,
      "grid_auto_rows": null,
      "grid_column": null,
      "grid_gap": null,
      "grid_row": null,
      "grid_template_areas": null,
      "grid_template_columns": null,
      "grid_template_rows": null,
      "height": null,
      "justify_content": null,
      "justify_items": null,
      "left": null,
      "margin": null,
      "max_height": null,
      "max_width": null,
      "min_height": null,
      "min_width": null,
      "object_fit": null,
      "object_position": null,
      "order": null,
      "overflow": null,
      "overflow_x": null,
      "overflow_y": null,
      "padding": null,
      "right": null,
      "top": null,
      "visibility": null,
      "width": null
     }
    },
    "7935cc6e74c14372a82276f0a28e4559": {
     "model_module": "@jupyter-widgets/controls",
     "model_module_version": "1.5.0",
     "model_name": "DescriptionStyleModel",
     "state": {
      "_model_module": "@jupyter-widgets/controls",
      "_model_module_version": "1.5.0",
      "_model_name": "DescriptionStyleModel",
      "_view_count": null,
      "_view_module": "@jupyter-widgets/base",
      "_view_module_version": "1.2.0",
      "_view_name": "StyleView",
      "description_width": ""
     }
    },
    "a0cfdce0ec8544c49332cc831f67e777": {
     "model_module": "@jupyter-widgets/base",
     "model_module_version": "1.2.0",
     "model_name": "LayoutModel",
     "state": {
      "_model_module": "@jupyter-widgets/base",
      "_model_module_version": "1.2.0",
      "_model_name": "LayoutModel",
      "_view_count": null,
      "_view_module": "@jupyter-widgets/base",
      "_view_module_version": "1.2.0",
      "_view_name": "LayoutView",
      "align_content": null,
      "align_items": null,
      "align_self": null,
      "border": null,
      "bottom": null,
      "display": null,
      "flex": null,
      "flex_flow": null,
      "grid_area": null,
      "grid_auto_columns": null,
      "grid_auto_flow": null,
      "grid_auto_rows": null,
      "grid_column": null,
      "grid_gap": null,
      "grid_row": null,
      "grid_template_areas": null,
      "grid_template_columns": null,
      "grid_template_rows": null,
      "height": null,
      "justify_content": null,
      "justify_items": null,
      "left": null,
      "margin": null,
      "max_height": null,
      "max_width": null,
      "min_height": null,
      "min_width": null,
      "object_fit": null,
      "object_position": null,
      "order": null,
      "overflow": null,
      "overflow_x": null,
      "overflow_y": null,
      "padding": null,
      "right": null,
      "top": null,
      "visibility": null,
      "width": null
     }
    },
    "b1c919ee0c85468a89413d98d9926b50": {
     "model_module": "@jupyter-widgets/controls",
     "model_module_version": "1.5.0",
     "model_name": "HBoxModel",
     "state": {
      "_dom_classes": [],
      "_model_module": "@jupyter-widgets/controls",
      "_model_module_version": "1.5.0",
      "_model_name": "HBoxModel",
      "_view_count": null,
      "_view_module": "@jupyter-widgets/controls",
      "_view_module_version": "1.5.0",
      "_view_name": "HBoxView",
      "box_style": "",
      "children": [
       "IPY_MODEL_09367b7a291f4c81a93f79ac3bf09e9b",
       "IPY_MODEL_3339a154ce00450b8d07b45eda2e887c",
       "IPY_MODEL_41b564f7d67b4422abcd5ac9925eb1f2"
      ],
      "layout": "IPY_MODEL_bfd4906b7ffc4ade9650aa96d140860a"
     }
    },
    "bc2f4104184749dbb7dcd2b5c6235238": {
     "model_module": "@jupyter-widgets/controls",
     "model_module_version": "1.5.0",
     "model_name": "DescriptionStyleModel",
     "state": {
      "_model_module": "@jupyter-widgets/controls",
      "_model_module_version": "1.5.0",
      "_model_name": "DescriptionStyleModel",
      "_view_count": null,
      "_view_module": "@jupyter-widgets/base",
      "_view_module_version": "1.2.0",
      "_view_name": "StyleView",
      "description_width": ""
     }
    },
    "bfd4906b7ffc4ade9650aa96d140860a": {
     "model_module": "@jupyter-widgets/base",
     "model_module_version": "1.2.0",
     "model_name": "LayoutModel",
     "state": {
      "_model_module": "@jupyter-widgets/base",
      "_model_module_version": "1.2.0",
      "_model_name": "LayoutModel",
      "_view_count": null,
      "_view_module": "@jupyter-widgets/base",
      "_view_module_version": "1.2.0",
      "_view_name": "LayoutView",
      "align_content": null,
      "align_items": null,
      "align_self": null,
      "border": null,
      "bottom": null,
      "display": null,
      "flex": null,
      "flex_flow": null,
      "grid_area": null,
      "grid_auto_columns": null,
      "grid_auto_flow": null,
      "grid_auto_rows": null,
      "grid_column": null,
      "grid_gap": null,
      "grid_row": null,
      "grid_template_areas": null,
      "grid_template_columns": null,
      "grid_template_rows": null,
      "height": null,
      "justify_content": null,
      "justify_items": null,
      "left": null,
      "margin": null,
      "max_height": null,
      "max_width": null,
      "min_height": null,
      "min_width": null,
      "object_fit": null,
      "object_position": null,
      "order": null,
      "overflow": null,
      "overflow_x": null,
      "overflow_y": null,
      "padding": null,
      "right": null,
      "top": null,
      "visibility": null,
      "width": null
     }
    },
    "c5b91a082e7d40879f66b6685fdfcfe0": {
     "model_module": "@jupyter-widgets/controls",
     "model_module_version": "1.5.0",
     "model_name": "ProgressStyleModel",
     "state": {
      "_model_module": "@jupyter-widgets/controls",
      "_model_module_version": "1.5.0",
      "_model_name": "ProgressStyleModel",
      "_view_count": null,
      "_view_module": "@jupyter-widgets/base",
      "_view_module_version": "1.2.0",
      "_view_name": "StyleView",
      "bar_color": null,
      "description_width": ""
     }
    },
    "c8a26ff7a9504ca7b9982a1fdc958364": {
     "model_module": "@jupyter-widgets/controls",
     "model_module_version": "1.5.0",
     "model_name": "HTMLModel",
     "state": {
      "_dom_classes": [],
      "_model_module": "@jupyter-widgets/controls",
      "_model_module_version": "1.5.0",
      "_model_name": "HTMLModel",
      "_view_count": null,
      "_view_module": "@jupyter-widgets/controls",
      "_view_module_version": "1.5.0",
      "_view_name": "HTMLView",
      "description": "",
      "description_tooltip": null,
      "layout": "IPY_MODEL_eac1572340b3491b987713ddf4fef228",
      "placeholder": "​",
      "style": "IPY_MODEL_bc2f4104184749dbb7dcd2b5c6235238",
      "value": "100%"
     }
    },
    "eac1572340b3491b987713ddf4fef228": {
     "model_module": "@jupyter-widgets/base",
     "model_module_version": "1.2.0",
     "model_name": "LayoutModel",
     "state": {
      "_model_module": "@jupyter-widgets/base",
      "_model_module_version": "1.2.0",
      "_model_name": "LayoutModel",
      "_view_count": null,
      "_view_module": "@jupyter-widgets/base",
      "_view_module_version": "1.2.0",
      "_view_name": "LayoutView",
      "align_content": null,
      "align_items": null,
      "align_self": null,
      "border": null,
      "bottom": null,
      "display": null,
      "flex": null,
      "flex_flow": null,
      "grid_area": null,
      "grid_auto_columns": null,
      "grid_auto_flow": null,
      "grid_auto_rows": null,
      "grid_column": null,
      "grid_gap": null,
      "grid_row": null,
      "grid_template_areas": null,
      "grid_template_columns": null,
      "grid_template_rows": null,
      "height": null,
      "justify_content": null,
      "justify_items": null,
      "left": null,
      "margin": null,
      "max_height": null,
      "max_width": null,
      "min_height": null,
      "min_width": null,
      "object_fit": null,
      "object_position": null,
      "order": null,
      "overflow": null,
      "overflow_x": null,
      "overflow_y": null,
      "padding": null,
      "right": null,
      "top": null,
      "visibility": null,
      "width": null
     }
    },
    "f0fbd1b9ea074c1b9969417c02b32348": {
     "model_module": "@jupyter-widgets/base",
     "model_module_version": "1.2.0",
     "model_name": "LayoutModel",
     "state": {
      "_model_module": "@jupyter-widgets/base",
      "_model_module_version": "1.2.0",
      "_model_name": "LayoutModel",
      "_view_count": null,
      "_view_module": "@jupyter-widgets/base",
      "_view_module_version": "1.2.0",
      "_view_name": "LayoutView",
      "align_content": null,
      "align_items": null,
      "align_self": null,
      "border": null,
      "bottom": null,
      "display": null,
      "flex": null,
      "flex_flow": null,
      "grid_area": null,
      "grid_auto_columns": null,
      "grid_auto_flow": null,
      "grid_auto_rows": null,
      "grid_column": null,
      "grid_gap": null,
      "grid_row": null,
      "grid_template_areas": null,
      "grid_template_columns": null,
      "grid_template_rows": null,
      "height": null,
      "justify_content": null,
      "justify_items": null,
      "left": null,
      "margin": null,
      "max_height": null,
      "max_width": null,
      "min_height": null,
      "min_width": null,
      "object_fit": null,
      "object_position": null,
      "order": null,
      "overflow": null,
      "overflow_x": null,
      "overflow_y": null,
      "padding": null,
      "right": null,
      "top": null,
      "visibility": null,
      "width": null
     }
    }
   }
  }
 },
 "nbformat": 4,
 "nbformat_minor": 5
}
