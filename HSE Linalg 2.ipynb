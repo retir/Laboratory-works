{
 "cells": [
  {
   "cell_type": "markdown",
   "metadata": {},
   "source": [
    "# Лабораторная работа 2\n",
    "\n",
    "## Линейная регрессия"
   ]
  },
  {
   "cell_type": "markdown",
   "metadata": {},
   "source": [
    "### Метод наименьших квадратов: постановка задачи\n",
    "\n",
    "Рассмотрим систему уравнений $Xa = y$, в которой $a$ &mdash; столбец неизвестных. Её можно переписать в векторном виде\n",
    "$$x_1 a_1 + x_2 a_2 + \\ldots + x_k a_k = y,$$\n",
    "где $x_1,\\ldots,x_n$ &mdash; столбцы матрицы $X$. Таким образом, решить исходную систему означает найти линейную комбинацию векторов $x_1,\\ldots,x_n$, равную правой части. Но что делать, если такой линейной комбинации не существует? Геометрически это означает, что вектор $y$ не лежит в подпространстве $U = \\langle x_1,\\ldots, x_k\\rangle$. В этом случае мы можем найти *псевдорешение*: вектор коэффициентов $\\hat{a}$, для которого линейная комбинация $x_1 \\hat{a}_1 + x_2 \\hat{a}_2 + \\ldots + x_k \\hat{a}_k$ хоть и не равна в точности $y$, но является наилучшим приближением &mdash; то есть ближайшей к $y$ точкой $\\hat{y}$ подпространства $U$ (иными словами, ортогональной проекцией $y$ на это подпростанство). Итак, цель наших исканий можно сформулировать двумя эквивалентными способами:\n",
    "\n",
    "1. Найти вектор $\\hat{a}$, для которого длина разности $|X\\hat{a} - y|$ минимальна (отсюда название \"метод наименьших квадратов\");\n",
    "2. Найти ортогональную проекцию $\\hat{y}$ вектора $y$ на подпространство $U$ и представить её в виде $X\\hat{a}$.\n",
    "\n",
    "Далее мы будем предполагать, что векторы $x_1,\\ldots,x_n$ линейно независимы (если нет, то сначала имеет смысл выделить максимальную линейно независимую подсистему).\n",
    "\n",
    "На лекциях было показано, что проекция вектора $y$ на подпространство $U = \\langle x_1,\\ldots, x_k\\rangle$ записывается в виде\n",
    "$$\\hat{y} = X\\left(X^TX\\right)^{-1}X^Ty,$$\n",
    "и, соответственно, искомый вектор $\\hat{a}$ равен\n",
    "$$\\hat{a} = \\left(X^TX\\right)^{-1}X^Ty.$$"
   ]
  },
  {
   "cell_type": "markdown",
   "metadata": {},
   "source": [
    "### Задача линейной регрессии\n",
    "\n",
    "Начнём с примера. Допустим, вы хотите найти зависимость среднего балла S студента ФКН от его роста H, веса W, длины волос L и N &mdash; количества часов, которые он ежедневно посвящает учёбе. Представьте, что мы измерили все эти параметры для $n$ студентов и получили наборы значений $S_1,\\ldots, S_n$, $H_1,\\ldots, H_n$ и так далее.\n",
    "\n",
    "Тут можно подбирать много разных умных моделей, но начать имеет смысл с самой простой, линейной:\n",
    "$$S = a_1H + a_2W + a_3L + a_4N + a_5.$$\n",
    "Конечно, строгой линейной зависимости нет (иначе можно было бы радостно упразднить экзамены), но мы можем попробовать подобрать коэффициенты $a_1, a_2, a_3, a_4, a_5$, для которых отклонение правой части от наблюдаемых было бы наименьшим:\n",
    "$$\\sum_{i=1}^n\\left(S_i - ( a_1H_i + a_2W_i + a_3L_i + a_4N_i + a_5)\\right)^2 \\longrightarrow \\min$$\n",
    "И сразу видно, что мы получили задачу на метод наименьших квадратов! А именно, у нас\n",
    "$$X =\n",
    "\\begin{pmatrix}\n",
    "H_1 & W_1 & L_1 & N_1 & 1\\\\\n",
    "H_2 & W_2 & L_2 & N_2 & 1\\\\\n",
    "\\dots & \\dots & \\dots & \\dots & \\dots \\\\\n",
    "H_n & W_n & L_n & N_n & 1\n",
    "\\end{pmatrix},\\qquad y=\n",
    "\\begin{pmatrix}\n",
    "S_1\\\\ S_2\\\\ \\vdots \\\\ S_n\n",
    "\\end{pmatrix}$$\n",
    "\n",
    "Решая эту задачу с помощью уже известных формул, получаем оценки коэффициентов $\\hat{a}_i$ ($i = 1\\ldots,5$)."
   ]
  },
  {
   "cell_type": "markdown",
   "metadata": {},
   "source": [
    "Теперь проговорим общую постановку задачи линейной регрессии. У нас есть $k$ переменных $x_1,\\ldots,x_k$ (\"регрессоров\"), через которые мы хотим выразить \"объясняемую переменную\" $y$:\n",
    "$$y = a_1x_1 + a_2x_2 + \\ldots + a_kx_k$$\n",
    "Значения всех переменных мы измерили $n$ раз (у $n$ различных объектов, в $n$ различных моментов времени &mdash; это зависит от задачи). Подставим эти данные в предыдущее равенство:\n",
    "$$\\begin{pmatrix}\n",
    "y_1\\\\ y_2 \\\\ \\vdots \\\\ y_n\n",
    "\\end{pmatrix} = \n",
    "a_1\\begin{pmatrix}\n",
    "x_{11} \\\\ x_{21} \\\\ \\vdots \\\\ x_{n1} \\end{pmatrix} + a_2\\begin{pmatrix}\n",
    "x_{12} \\\\ x_{22} \\\\ \\vdots \\\\ x_{n2} \\end{pmatrix} + \\ldots + a_k\\begin{pmatrix}\n",
    "x_{1k} \\\\ x_{2k} \\\\ \\vdots \\\\ x_{nk} \\end{pmatrix}$$\n",
    "(здесь $x_{ij}$ &mdash; это значение $j$-го признака на $i$-м измерении). Это удобно переписать в матричном виде:\n",
    "$$\\begin{pmatrix}\n",
    "x_{11} & x_{12} & \\ldots & x_{1k}\\\\\n",
    "x_{21} & x_{22} & \\ldots & x_{2k}\\\\\n",
    "\\dots & \\dots & \\dots & \\dots\\\\\n",
    "x_{n1} & x_{n2} & \\ldots & x_{nk}\n",
    "\\end{pmatrix} \\cdot\n",
    "\\begin{pmatrix}\n",
    "a_1 \\\\ a_2 \\\\ \\vdots \\\\ a_k\n",
    "\\end{pmatrix} = \n",
    "\\begin{pmatrix}\n",
    "y_1 \\\\ y_2 \\\\ \\vdots \\\\ y_n\n",
    "\\end{pmatrix}$$\n",
    "или коротко $Xa = y$. Поскольку на практике эта система уравнений зачастую не имеет решения (ибо зависимости в жизни редко бывают действительно линейными), методом наименьших квадратов ищется псевдорешение."
   ]
  },
  {
   "cell_type": "markdown",
   "metadata": {},
   "source": [
    "### Оценка качества. Обобщающая способность. Обучение и тест \n",
    "\n",
    "После того, как вы построили регрессию и получили какую-то зависимость объясняемой переменной от регрессоров, настаёт время оценить качество регрессии. Есть много разных функционалов качества; мы пока будем говорить только о самом простом и очевидном из них &mdash; о среднеквадратичной ошибке (mean square error). Она равна\n",
    "$$\\frac1{n}|X\\hat{a} - y|^2 = \\frac1{n}\\sum_{i=1}^n\\left(\\hat{a}_1x_{i1} + \\hat{a}_2x_{i2} + \\ldots + \\hat{a}_kx_{ik} - y_i\\right)^2$$\n",
    "\n",
    "В целом хочется искать модели с наименьшей mean square error на имеющихся данных. Однако слишком фанатичная гонка за минимизацией ошибки может привести к печальным последствиям. Например, если мы приближаем функцию одной переменной по значениям в $n$ точках, то наилучшей с точки зрения этой ошибки моделью будет многочлен $(n-1)$-й степени, для которого эта ошибка будет равна нулю.  Тем не менее, вряд ли истинная зависимость имеет вид многочлена большой степени. Более того, значения вам скорее всего даны с погрешностью, то есть вы подогнали вашу модель под свои зашумлённые данные, но на любых других данных (то есть в других точках) точность, скорее всего, окажется совсем не такой хорошей. Этот эффект называют **переобучением**; говорят также, что **обобщающая способность** модели оказалась скверной.\n",
    "\n",
    "Чтобы не попадать в эту ловушку, данные обычно делят на обучающие (по которым строят модель и оценивают коэффициенты) и тестовые. Лучшей стоит счесть ту модель, для которой значение функционала качества будет меньше."
   ]
  },
  {
   "cell_type": "markdown",
   "metadata": {},
   "source": [
    "### Задание 1. Метод наименьших квадратов (4 балла)"
   ]
  },
  {
   "cell_type": "markdown",
   "metadata": {},
   "source": [
    "Скачайте файлы ``train.txt`` и ``test.txt``. В первом из них находится обучающая выборка, а во втором &mdash; тестовая. Каждый из файлов содержит два столбца чисел, разделённых пробелами: в первом &mdash; $n$ точек (значения аргумента $x$), во втором &mdash; значения некоторой функции $y = f(x)$ в этих точках, искажённые случайным шумом. Ваша задача &mdash; по обучающей выборке подобрать функцию $y = g(x)$, пристойно приближающую неизвестную вам зависимость."
   ]
  },
  {
   "cell_type": "markdown",
   "metadata": {},
   "source": [
    "Загрузим обучающие и тестовые данные (не забудьте ввести правильный путь!)."
   ]
  },
  {
   "cell_type": "code",
   "execution_count": 1,
   "metadata": {},
   "outputs": [],
   "source": [
    "import numpy as np\n",
    "import scipy.linalg as sla"
   ]
  },
  {
   "cell_type": "code",
   "execution_count": 11,
   "metadata": {
    "scrolled": true
   },
   "outputs": [
    {
     "ename": "IOError",
     "evalue": "[Errno 2] No such file or directory: 'C:/Users/artem/Downloads/train.txt'",
     "output_type": "error",
     "traceback": [
      "\u001b[0;31m\u001b[0m",
      "\u001b[0;31mIOError\u001b[0mTraceback (most recent call last)",
      "\u001b[0;32m<ipython-input-11-77cd057d4918>\u001b[0m in \u001b[0;36m<module>\u001b[0;34m()\u001b[0m\n\u001b[1;32m      1\u001b[0m \u001b[0;32mimport\u001b[0m \u001b[0mnumpy\u001b[0m\u001b[0;34m\u001b[0m\u001b[0m\n\u001b[1;32m      2\u001b[0m \u001b[0;34m\u001b[0m\u001b[0m\n\u001b[0;32m----> 3\u001b[0;31m \u001b[0mdata_train\u001b[0m \u001b[0;34m=\u001b[0m \u001b[0mnumpy\u001b[0m\u001b[0;34m.\u001b[0m\u001b[0mloadtxt\u001b[0m\u001b[0;34m(\u001b[0m\u001b[0;34m'C:/Users/artem/Downloads/train.txt'\u001b[0m\u001b[0;34m,\u001b[0m \u001b[0mdelimiter\u001b[0m\u001b[0;34m=\u001b[0m\u001b[0;34m','\u001b[0m\u001b[0;34m)\u001b[0m\u001b[0;34m\u001b[0m\u001b[0m\n\u001b[0m\u001b[1;32m      4\u001b[0m \u001b[0mdata_test\u001b[0m \u001b[0;34m=\u001b[0m \u001b[0mnumpy\u001b[0m\u001b[0;34m.\u001b[0m\u001b[0mloadtxt\u001b[0m\u001b[0;34m(\u001b[0m\u001b[0;34m'C:/Users/artem/Downloads/test.txt'\u001b[0m\u001b[0;34m,\u001b[0m \u001b[0mdelimiter\u001b[0m\u001b[0;34m=\u001b[0m\u001b[0;34m','\u001b[0m\u001b[0;34m)\u001b[0m\u001b[0;34m\u001b[0m\u001b[0m\n",
      "\u001b[0;32m/usr/share/python/anytask/lib/python2.7/site-packages/numpy/lib/npyio.pyc\u001b[0m in \u001b[0;36mloadtxt\u001b[0;34m(fname, dtype, comments, delimiter, converters, skiprows, usecols, unpack, ndmin)\u001b[0m\n\u001b[1;32m    801\u001b[0m                 \u001b[0mfh\u001b[0m \u001b[0;34m=\u001b[0m \u001b[0miter\u001b[0m\u001b[0;34m(\u001b[0m\u001b[0mbz2\u001b[0m\u001b[0;34m.\u001b[0m\u001b[0mBZ2File\u001b[0m\u001b[0;34m(\u001b[0m\u001b[0mfname\u001b[0m\u001b[0;34m)\u001b[0m\u001b[0;34m)\u001b[0m\u001b[0;34m\u001b[0m\u001b[0m\n\u001b[1;32m    802\u001b[0m             \u001b[0;32melif\u001b[0m \u001b[0msys\u001b[0m\u001b[0;34m.\u001b[0m\u001b[0mversion_info\u001b[0m\u001b[0;34m[\u001b[0m\u001b[0;36m0\u001b[0m\u001b[0;34m]\u001b[0m \u001b[0;34m==\u001b[0m \u001b[0;36m2\u001b[0m\u001b[0;34m:\u001b[0m\u001b[0;34m\u001b[0m\u001b[0m\n\u001b[0;32m--> 803\u001b[0;31m                 \u001b[0mfh\u001b[0m \u001b[0;34m=\u001b[0m \u001b[0miter\u001b[0m\u001b[0;34m(\u001b[0m\u001b[0mopen\u001b[0m\u001b[0;34m(\u001b[0m\u001b[0mfname\u001b[0m\u001b[0;34m,\u001b[0m \u001b[0;34m'U'\u001b[0m\u001b[0;34m)\u001b[0m\u001b[0;34m)\u001b[0m\u001b[0;34m\u001b[0m\u001b[0m\n\u001b[0m\u001b[1;32m    804\u001b[0m             \u001b[0;32melse\u001b[0m\u001b[0;34m:\u001b[0m\u001b[0;34m\u001b[0m\u001b[0m\n\u001b[1;32m    805\u001b[0m                 \u001b[0mfh\u001b[0m \u001b[0;34m=\u001b[0m \u001b[0miter\u001b[0m\u001b[0;34m(\u001b[0m\u001b[0mopen\u001b[0m\u001b[0;34m(\u001b[0m\u001b[0mfname\u001b[0m\u001b[0;34m)\u001b[0m\u001b[0;34m)\u001b[0m\u001b[0;34m\u001b[0m\u001b[0m\n",
      "\u001b[0;31mIOError\u001b[0m: [Errno 2] No such file or directory: 'C:/Users/artem/Downloads/train.txt'"
     ]
    }
   ],
   "source": [
    "import numpy\n",
    "\n",
    "data_train = numpy.loadtxt('C:/Users/artem/Downloads/train.txt', delimiter=',')\n",
    "data_test = numpy.loadtxt('C:/Users/artem/Downloads/test.txt', delimiter=',')"
   ]
  },
  {
   "cell_type": "markdown",
   "metadata": {},
   "source": [
    "Разделим значения $x$ и $y$"
   ]
  },
  {
   "cell_type": "code",
   "execution_count": 163,
   "metadata": {},
   "outputs": [],
   "source": [
    "X_train = data_train[:,0]\n",
    "y_train = data_train[:,1]\n",
    "\n",
    "# Сделайте то же для тестовой выборки\n",
    "X_test = data_test[:,0]\n",
    "y_test = data_test[:,1]"
   ]
  },
  {
   "cell_type": "markdown",
   "metadata": {},
   "source": [
    "Найдите с помощью метода наименьших квадратов линейную функцию ($y = kx + b$), наилучшим образом приближающую неизвестную зависимость. Полезные функции: ``numpy.ones(n)`` для создания массива из единиц длины $n$ и ``numpy.concatenate((А, В), axis=1)`` для слияния двух матриц по столбцам (пара ``А`` и ``В`` превращается в матрицу ``[A B]``)."
   ]
  },
  {
   "cell_type": "code",
   "execution_count": 164,
   "metadata": {},
   "outputs": [],
   "source": [
    "def RegressSolut(X, y):\n",
    "    return (sla.inv(X.T.dot(X))).dot(X.T).dot(y)"
   ]
  },
  {
   "cell_type": "code",
   "execution_count": 165,
   "metadata": {},
   "outputs": [],
   "source": [
    "def DataToPoly(X, degree):\n",
    "    X_ = np.asmatrix(np.ones(X.shape[0])).T\n",
    "    for i in range(1, degree + 1):\n",
    "        X_ = np.concatenate((np.power(X, i), X_), axis=1)\n",
    "    return X_"
   ]
  },
  {
   "cell_type": "code",
   "execution_count": 166,
   "metadata": {},
   "outputs": [
    {
     "data": {
      "text/plain": [
       "matrix([[2.2791345 ],\n",
       "        [4.43323091]])"
      ]
     },
     "execution_count": 166,
     "metadata": {},
     "output_type": "execute_result"
    }
   ],
   "source": [
    "X = DataToPoly(np.asmatrix(X_train).T, 1)\n",
    "a = RegressSolut(X, np.asmatrix(y_train).T)\n",
    "a"
   ]
  },
  {
   "cell_type": "markdown",
   "metadata": {},
   "source": [
    "Нарисуйте на плоскости точки $(x_i, y_i)$ и полученную линейную функцию. Глядя на данные, подумайте, многочленом какой степени можно было бы лучше всего приблизить эту функцию. Найдите этот многочлен и нарисуйте его график."
   ]
  },
  {
   "cell_type": "code",
   "execution_count": 167,
   "metadata": {},
   "outputs": [
    {
     "data": {
      "text/plain": [
       "<matplotlib.legend.Legend at 0x1b4f5b71708>"
      ]
     },
     "execution_count": 167,
     "metadata": {},
     "output_type": "execute_result"
    },
    {
     "data": {
      "image/png": "[encoded data removed]",
      "text/plain": [
       "<Figure size 432x288 with 1 Axes>"
      ]
     },
     "metadata": {
      "needs_background": "light"
     },
     "output_type": "display_data"
    }
   ],
   "source": [
    "import matplotlib.pyplot as plt\n",
    "plt.plot(X_train, y_train, 'bo')\n",
    "data_x = np.array([X_train.min()-0.1, X_train.max()+0.1])\n",
    "data_y = DataToPoly(np.asmatrix(data_x).T, 1).dot(a)\n",
    "plt.plot(data_x, data_y, color='red', label='Poly') #добавить легенду\n",
    "plt.legend()\n",
    "plt.show()"
   ]
  },
  {
   "cell_type": "markdown",
   "metadata": {},
   "source": [
    "Имеем 21 точку -> лучшевсего будет прилижать многочлен 20 степени, корнями которого и будут эти точки."
   ]
  },
  {
   "cell_type": "code",
   "execution_count": 168,
   "metadata": {},
   "outputs": [],
   "source": [
    "def MSE(a, X, y):\n",
    "    f_x = X.dot(a)\n",
    "    return np.sum(np.power((f_x - y), 2)) / X.shape[0]"
   ]
  },
  {
   "cell_type": "code",
   "execution_count": 169,
   "metadata": {},
   "outputs": [],
   "source": [
    "def PlotPoly(a, X, degre, color):\n",
    "    t = np.arange(X.min(), X.max() + 0.002, 0.001)\n",
    "    X_print = DataToPoly(np.asmatrix(t).T, degre)\n",
    "    f_X = X_print.dot(a)\n",
    "    plt.plot(t, f_X, 'k', color=color, label='poly with deg '+ str(degre))         #легенду   "
   ]
  },
  {
   "cell_type": "code",
   "execution_count": 170,
   "metadata": {},
   "outputs": [
    {
     "name": "stdout",
     "output_type": "stream",
     "text": [
      "3.9385211270610994e-07\n"
     ]
    },
    {
     "data": {
      "text/plain": [
       "<matplotlib.legend.Legend at 0x1b4f53f4a88>"
      ]
     },
     "execution_count": 170,
     "metadata": {},
     "output_type": "execute_result"
    },
    {
     "data": {
      "image/png": "[encoded data removed]",
      "text/plain": [
       "<Figure size 720x720 with 1 Axes>"
      ]
     },
     "metadata": {
      "needs_background": "light"
     },
     "output_type": "display_data"
    }
   ],
   "source": [
    "X = DataToPoly(np.asmatrix(X_train).T, 20)\n",
    "a = np.asmatrix(sla.solve(X, y_train)).T\n",
    "mse_train = MSE(a, X, np.asmatrix(y_train).T)\n",
    "print(mse_train)\n",
    "\n",
    "plt.figure(figsize=(10, 10))\n",
    "plt.plot(X_train, y_train, 'bo')\n",
    "PlotPoly(a, np.asmatrix(X_train).T, 20, 'red')\n",
    "plt.legend()\n",
    "plt.show()"
   ]
  },
  {
   "cell_type": "markdown",
   "metadata": {},
   "source": [
    "Для $k = 1,2,3,\\ldots,10$ найдите многочлен $\\hat{f}_k$ степени $k$, наилучшим образом приближающий неизвестную зависимость. Для каждого из них найдите среднеквадратическую ошибку на обучающих данных и на тестовых данных: $\\frac1{n}\\sum_{i=1}^n\\left( \\hat{f}_k(x_i) - y_i \\right)^2$ (в первом случае сумма ведётся по парам $(x_i, y_i)$ из обучающих данных, а во втором - по парам из тестовых данных).\n",
    "\n",
    "Для $k = 1,2,3,4,6$ напечатайте коэффициенты полученных многочленов и нарисуйте их графики на одном чертеже вместе с точками $(x_i, y_i)$ (возможно, график стоит сделать побольше; это делается командой `plt.figure(figsize=(width, height))`)."
   ]
  },
  {
   "cell_type": "code",
   "execution_count": 171,
   "metadata": {},
   "outputs": [
    {
     "name": "stdout",
     "output_type": "stream",
     "text": [
      "polynom power: 1\n",
      "mse_train: 0.29689663326251964\n",
      "mse_test: 0.4351202004048878\n",
      "coefs: [[2.2791345  4.43323091]]\n",
      "\n",
      "polynom power: 2\n",
      "mse_train: 0.2696989158766912\n",
      "mse_test: 0.3564762887831171\n",
      "coefs: [[1.40162851 1.15783169 4.4724765 ]]\n",
      "\n",
      "polynom power: 3\n",
      "mse_train: 0.26949718714796084\n",
      "mse_test: 0.3553464571518064\n",
      "coefs: [[-0.3817686   1.85975084  1.06501611  4.46073636]]\n",
      "\n",
      "polynom power: 4\n",
      "mse_train: 0.26106653305792754\n",
      "mse_test: 0.4417270189288398\n",
      "coefs: [[  7.9184747  -13.05132812   6.79409178   1.17180239   4.34116612]]\n",
      "\n",
      "polynom power: 5\n",
      "mse_train: 0.24998504648317538\n",
      "mse_test: 0.5579732021444157\n",
      "coefs: [[ 29.52497804 -51.13148139  21.37479628   3.2747144   -0.13059804\n",
      "    4.43129781]]\n",
      "\n",
      "polynom power: 6\n",
      "mse_train: 0.1882934898837026\n",
      "mse_test: 2.5816929321010735\n",
      "coefs: [[-229.97013341  581.45329821 -481.51013286  121.25709712   16.00290399\n",
      "    -4.59717932    4.38379501]]\n",
      "\n",
      "polynom power: 7\n",
      "mse_train: 0.1853962115329447\n",
      "mse_test: 2.5157828724622058\n",
      "\n",
      "polynom power: 8\n",
      "mse_train: 0.15905556579093486\n",
      "mse_test: 4.357288560770745\n",
      "\n",
      "polynom power: 9\n",
      "mse_train: 0.1584718427921011\n",
      "mse_test: 4.776381002475285\n",
      "\n",
      "polynom power: 10\n",
      "mse_train: 0.1531661286676506\n",
      "mse_test: 14.631234380166854\n",
      "\n"
     ]
    },
    {
     "data": {
      "text/plain": [
       "<matplotlib.legend.Legend at 0x1b4f5365f48>"
      ]
     },
     "execution_count": 171,
     "metadata": {},
     "output_type": "execute_result"
    },
    {
     "data": {
      "image/png": "[encoded data removed]",
      "text/plain": [
       "<Figure size 720x720 with 1 Axes>"
      ]
     },
     "metadata": {
      "needs_background": "light"
     },
     "output_type": "display_data"
    }
   ],
   "source": [
    "colors = ['red', 'orange', 'yellow', 'green','blue', '0']\n",
    "plt.figure(figsize=(10, 10))\n",
    "for k in range(1, 11):\n",
    "    print(\"polynom power:\", k)\n",
    "    X = DataToPoly(np.asmatrix(X_train).T, k)\n",
    "    a = RegressSolut(X, np.asmatrix(y_train).T)\n",
    "    mse_train = MSE(a, X, np.asmatrix(y_train).T)\n",
    "    \n",
    "    X = DataToPoly(np.asmatrix(X_test).T, k)\n",
    "    mse_test = MSE(a, X, np.asmatrix(y_test).T)\n",
    "    print(\"mse_train:\", mse_train)\n",
    "    print(\"mse_test:\", mse_test)\n",
    "    \n",
    "    if k <= 6:\n",
    "        print(\"coefs:\", a.T)\n",
    "        PlotPoly(a, np.asmatrix(X_train).T, k, colors[k - 1])\n",
    "    print()\n",
    "plt.plot(X_train, y_train, 'bo')\n",
    "plt.legend()\n",
    "plt.show()"
   ]
  },
  {
   "cell_type": "markdown",
   "metadata": {},
   "source": [
    "Что происходит с ошибкой при росте степени многочлена? Казалось бы, чем больше степень, тем более сложным будет многочлен и тем лучше он будет приближать нашу функцию. Подтверждают ли это ваши наблюдения? Как вам кажется, чем объясняется поведение ошибки на тестовых данных при $k = 10$?"
   ]
  },
  {
   "cell_type": "markdown",
   "metadata": {},
   "source": [
    "С увеличением степени многочлена МSE на тестовой выборке уменьшается, всё верно, так как многочлен всё больше изгибается к \"тренировочным точкам\". Однако начиная с 4 степени можем увидеть, что MSE на тестовой выборке начинает увеличиваться. Это можно оббъяснить тем, что наша модель слишком уссердно тренируется, т.е. мы пытаемся прилизить нашу функцию конкретно к тренировочной выборке, при это теряя результат на всех остальных. Простыми словами - модель переобучается."
   ]
  },
  {
   "cell_type": "markdown",
   "metadata": {},
   "source": [
    "### Задание 2. Линейная регрессия (4 балла)"
   ]
  },
  {
   "cell_type": "markdown",
   "metadata": {},
   "source": [
    "Скачайте файлы ``flats_moscow_mod.txt`` и ``flats_moscow_description.txt``. В первом из них содержатся данные о квартирах в Москве. Каждая строка содержит шесть характеристик некоторой квартиры, разделённые знаками табуляции; в первой строке записаны кодовые названия характеристик. Во втором файле приведены краткие описания признаков. Вашей задачей будет построить с помощью метода наименьших квадратов (линейную) зависимость между ценой квартиры и остальными доступными параметрами.\n",
    "\n",
    "С помощью известных вам формул найдите регрессионные коэффициенты. Какой смысл имеют их знаки? Согласуются ли они с вашими представлениями о жизни?\n",
    "\n",
    "Оцените качество приближения, вычислив среднеквадратическую ошибку."
   ]
  },
  {
   "cell_type": "code",
   "execution_count": 172,
   "metadata": {},
   "outputs": [],
   "source": [
    "from sklearn.model_selection import train_test_split\n"
   ]
  },
  {
   "cell_type": "code",
   "execution_count": 173,
   "metadata": {},
   "outputs": [],
   "source": [
    "data = np.loadtxt('flats_moscow_mod.txt', delimiter='\\t', skiprows=1)\n",
    "X = data[:,1:6]\n",
    "y = data[:,0:1]"
   ]
  },
  {
   "cell_type": "code",
   "execution_count": 174,
   "metadata": {},
   "outputs": [
    {
     "name": "stdout",
     "output_type": "stream",
     "text": [
      "[[  1.48705289]\n",
      " [  1.656289  ]\n",
      " [  1.81920498]\n",
      " [ -3.32715406]\n",
      " [ -1.3156886 ]\n",
      " [-26.78926963]]\n"
     ]
    },
    {
     "data": {
      "text/plain": [
       "924.0090032083978"
      ]
     },
     "execution_count": 174,
     "metadata": {},
     "output_type": "execute_result"
    }
   ],
   "source": [
    "X_ = X.copy()\n",
    "y_ = y.copy()\n",
    "\n",
    "X_ = np.concatenate((X_, np.asmatrix(np.ones(X_.shape[0])).T), axis=1)\n",
    "a = (sla.inv(X_.T.dot(X_))).dot(X_.T).dot(y_)\n",
    "f_x = X_.dot(a)\n",
    "mse = np.sum(np.power((f_x - y_), 2)) / f_x.shape[0]\n",
    "mse"
   ]
  },
  {
   "cell_type": "markdown",
   "metadata": {},
   "source": [
    "Чем больше значние регрессионный коэффицент, тем большую роль в стоимости квартиры будет играть соответсвуюющий параметр. Если же коэффицент имеет отрицательный знак, то можем считать, что рост этого параметра отрицательно сказывается на стоимости квартиры. Действительно, такие параметры, как площадь квартиры нам крайне важны, и чем больше площадь, тем дороже цена. А вот расстояние до центра и метро уже имеют отрицательные коэффиценты, потому что чем больше это расстояние, тем хуже нам, а значит при росте этих параметров стоимость должна понижаться, что вполне логично."
   ]
  },
  {
   "cell_type": "markdown",
   "metadata": {
    "collapsed": true
   },
   "source": [
    "### Усложнение модели"
   ]
  },
  {
   "cell_type": "markdown",
   "metadata": {},
   "source": [
    "Конечно, никто не гарантирует, что объясняемая переменная (цена квартиры) зависит от остальных характеристик именно линейно. Зависимость может быть, например, квадратичной или логарифмической; больше того, могут быть важны не только отдельные признаки, но и их комбинации. Это можно учитывать, добавляя в качестве дополнительных признаков разные функции от уже имеющихся характеристик: их квадраты, логарифмы, попарные произведения.\n",
    "\n",
    "В этом задании вам нужно постараться улучшить качество модели, добавляя дополнительные признаки, являющиеся функциями от уже имеющихся. Но будьте осторожны: чрезмерное усложнение модели будет приводить к переобучению. \n",
    "\n",
    "**Сравнение моделей**\n",
    "\n",
    "Когда вы построите новую модель, вам захочется понять, лучше она или хуже, чем изначальная. Проверять это на той же выборке, на которой вы обучались, бессмысленно и даже вредно (вспомните пример с многочленами: как прекрасно падала ошибка на обучающей выборке с ростом степени!). Поэтому вам нужно будет разделить выборку на обучающую и тестовую. Делать это лучше случайным образом (ведь вы не знаете, как создатели датасета упорядочили объекты); рекомендуем вам для этого функцию `sklearn.model_selection.train_test_split`."
   ]
  },
  {
   "cell_type": "markdown",
   "metadata": {},
   "source": [
    "**ВНИМАНИЕ ВНИМАНИЕ ВНИМАНИЕ ВНИМАНИЕ ВНИМАНИЕ !!!!!!!!!!!!!!! ВНИМАНИЕ ВНИМАНИЕ ВНИМАНИЕ ВНИМАНИЕ ВНИМАНИЕ**\n",
    "**СЛЕДУЩИЙ КОД ЭТОГО НОМЕРА РАБОТАЕТ ДОЛГО, ЗАПУСКАТЬ НА СВОЙ  СТРАХ И РИСК!!!**\n",
    "\n",
    "спасибо за  внимание"
   ]
  },
  {
   "cell_type": "code",
   "execution_count": 80,
   "metadata": {},
   "outputs": [],
   "source": [
    "def MSE(X, y, rand_count):\n",
    "    train_mse_summ  =  0\n",
    "    test_mse_smmm = 0\n",
    "    not_singular = 0\n",
    "    for i in range(rand_count):\n",
    "        X_train, X_test, y_train, y_test = train_test_split(X, y, test_size=0.3, random_state=i)\n",
    "        X_train = np.concatenate((X_train, np.asmatrix(np.ones(X_train.shape[0])).T), axis=1)\n",
    "        X_test = np.concatenate((X_test, np.asmatrix(np.ones(X_test.shape[0])).T), axis=1)\n",
    "        try:\n",
    "            a = (sla.inv(X_train.T.dot(X_train))).dot(X_train.T).dot(y_train)\n",
    "        except Exception:\n",
    "            c = 1\n",
    "        else:\n",
    "            f_x = X_train.dot(a)\n",
    "            train_mse= np.sum(np.power((f_x - y_train), 2)) / f_x.shape[0]\n",
    "            f_x = X_test.dot(a)\n",
    "            test_mse= np.sum(np.power((f_x - y_test), 2)) / f_x.shape[0]\n",
    "            train_mse_summ += train_mse\n",
    "            test_mse_smmm += test_mse\n",
    "            not_singular += 1\n",
    "    if (not_singular == 0):\n",
    "        return([0, 0])\n",
    "    test_mse_smmm /= not_singular\n",
    "    train_mse_summ /= not_singular\n",
    "    return(train_mse_summ, test_mse_smmm)"
   ]
  },
  {
   "cell_type": "code",
   "execution_count": 128,
   "metadata": {},
   "outputs": [
    {
     "data": {
      "text/plain": [
       "(2040, 7)"
      ]
     },
     "execution_count": 128,
     "metadata": {},
     "output_type": "execute_result"
    }
   ],
   "source": [
    "X_bester.shape"
   ]
  },
  {
   "cell_type": "code",
   "execution_count": 129,
   "metadata": {},
   "outputs": [
    {
     "name": "stdout",
     "output_type": "stream",
     "text": [
      "746.5657822609828\n",
      "(2040, 1)\n",
      "738.144618942154 ---------------------\n",
      "737.8373104832626 ---------------------\n",
      "737.6229352501672 ---------------------\n",
      "735.3774283858039 ---------------------\n",
      "735.3774283858039\n"
     ]
    }
   ],
   "source": [
    "#Step 1\n",
    "# Для начала построим новую матрицу Х, где на месте i столца будет  тот же i столбеец, но в какой то степени\n",
    "# Я руками перебрал несколько вариантов степенй кадый раз ссмещаясь к наименьшему MSE и пришёл вот к таким параметрам:\n",
    "# Mse было где то 780\n",
    "X_new = np.power(X[:,0:1], 0.8)\n",
    "X_new = np.concatenate((X_new, np.power(X[:,1:2], 7)), axis=1)\n",
    "X_new = np.concatenate((X_new, np.power(X[:,2:3], 0.9)), axis=1)\n",
    "X_new = np.concatenate((X_new, np.power(X[:,3:4], 1/2)), axis=1)\n",
    "X_new = np.concatenate((X_new, np.power(X[:,4:5], 1/10)), axis=1)\n",
    "min_mse = 750\n",
    "#Step----\n",
    "#new_param и new_new_param это 2 наилучших реезультата, которые я нашёл, на первом мсе ~750, на втором ~745\n",
    "degrees = [0, 2, 1, 1/2]\n",
    "new_param = np.power(X[:,0:1], 1) * np.power(X[:,3:4], 1)\n",
    "new_new_param = np.power(X[:,0:1], degrees[2]) * np.power(X[:,2:3], degrees[3]) * np.power(X[:,3:4], degrees[2])\n",
    "#Step 2\n",
    "# Теперь к уже готовой X_new будем добавлять перемножение всех столбцов, каждый из которых в какой то степени.\n",
    "# И таким  образом расссмотрим все возможные комбинации степеней из degrees\n",
    "#  X_bester будет хранить лучшую выборку\n",
    "X_new = np.concatenate((X_new, np.power(new_new_param, 1/2)), axis=1)\n",
    "X_best = X_new.copy()\n",
    "min_mse = MSE(X_new, y, 4000)[1]\n",
    "print(min_mse)\n",
    "mse_arr = []\n",
    "X_bester = np.array([])\n",
    "#for i in range(4):\n",
    "#    for j in range(i+1, 4):\n",
    "deeper_mse =  740\n",
    "for deg1 in range(4):\n",
    "    if degrees[deg1] == 0:\n",
    "        new_param = np.ones(X.shape[0]).reshape(X.shape[0],1)\n",
    "        print(new_param.shape)\n",
    "    else:\n",
    "        new_param = np.power(X[:,0:1], degrees[deg1])\n",
    "    for deg2 in range(4):\n",
    "        new_param2 = new_param.copy()\n",
    "        if degrees[deg2] != 0:\n",
    "            new_param2  *= np.power(X[:,1:2], degrees[deg2])\n",
    "        for deg3 in range(4):\n",
    "            new_param3 = new_param2.copy()\n",
    "            if degrees[deg3] != 0:\n",
    "                new_param3 *= np.power(X[:,2:3], degrees[deg3])\n",
    "            for deg4 in range(4):\n",
    "                new_param4 = new_param3.copy()\n",
    "                if degrees[deg4] != 0:\n",
    "                    new_param4 *= np.power(X[:,3:4], degrees[deg4])\n",
    "                for deg5 in range(4):\n",
    "                    new_param5 = new_param4.copy()\n",
    "                    if degrees[deg5] != 0:\n",
    "                        new_param5 *= np.power(X[:,4:5], degrees[deg5])\n",
    "                    X_new = X_best.copy()\n",
    "                    X_new = np.concatenate((X_new, np.power(new_param5, 1/2)), axis=1)\n",
    "                    mse = MSE(X_new, y, 500)\n",
    "                    if mse[1] < deeper_mse:\n",
    "                        X_bester = X_new\n",
    "                        deeper_mse  = mse[1]\n",
    "                        mse_arr.append([mse, [deg1, deg2, deg3, deg4, deg5]])\n",
    "                        print(mse[1], \"---------------------\")\n",
    "                        if (mse[1] < min_mse):\n",
    "                            min_mse = mse[1]\n",
    "            \n",
    "            \n",
    "            \n",
    "            \n",
    "            \n",
    "            \n",
    "            \n",
    "\n",
    "print(min_mse)"
   ]
  },
  {
   "cell_type": "code",
   "execution_count": 132,
   "metadata": {},
   "outputs": [
    {
     "data": {
      "text/plain": [
       "(720.9102815919241, 746.9618265833155)"
      ]
     },
     "execution_count": 132,
     "metadata": {},
     "output_type": "execute_result"
    }
   ],
   "source": [
    "MSE(X_bester, y, 4000)"
   ]
  },
  {
   "cell_type": "markdown",
   "metadata": {},
   "source": [
    "Результат неплох, надеюсь, что этого хватит, но далее попробуем немного другой метод. Если подумать, что призниаки общая площадб кв, площадь кухни и жилая площадь в целом зависят друг от друга; а также частично расст. до метро и расст. до центре. Попробуем объединить эти группы , где в каждоый группе соответсвующие столбцы будут идти в своих степенях."
   ]
  },
  {
   "cell_type": "code",
   "execution_count": 133,
   "metadata": {},
   "outputs": [
    {
     "name": "stdout",
     "output_type": "stream",
     "text": [
      "2635.7899620081175\n",
      "2591.82239407232\n",
      "2390.5136433159305\n",
      "2384.949153342529\n",
      "2292.2052531274635\n",
      "2281.760889704983\n",
      "2222.8141265129925\n",
      "2203.935951962634\n",
      "2177.4360709252337\n",
      "2127.3340619246965\n",
      "2067.8191439784455\n",
      "2041.8311540163977\n",
      "2016.1262838063262\n",
      "1999.7866088806418\n",
      "1890.2444488512374\n",
      "1859.3687649527815\n",
      "1822.9440282598994\n",
      "1814.6856444137143\n",
      "1776.6885963433524\n",
      "1765.4695950055284\n",
      "1740.7821393138142\n",
      "1688.9861318680917\n",
      "1667.59865670014\n",
      "1594.874274277221\n",
      "1555.0768308177276\n",
      "1505.1666155973685\n",
      "1358.6765389749585\n",
      "1356.7694362695634\n",
      "1348.872519265054\n",
      "1286.019932427948\n",
      "1264.6706783480472\n",
      "1239.3178122382199\n",
      "1213.5878317723996\n",
      "1184.6839698901485\n",
      "1168.3608564818896\n",
      "1151.993253569037\n",
      "1144.249010631213\n",
      "1133.648995605565\n",
      "1081.0935993926391\n",
      "1058.4438255036346\n",
      "1043.69989159254\n",
      "1030.4660247490501\n",
      "1028.6257868041594\n",
      "1014.583629455325\n",
      "1005.0769476857686\n",
      "1000.4873135680316\n",
      "982.1225715517191\n",
      "967.2174989251387\n",
      "926.0152983376645\n",
      "884.8957822050082\n",
      "879.7814018293296\n",
      "860.1056320481757\n",
      "860.1056320481757\n"
     ]
    }
   ],
   "source": [
    "min_mse = 10000\n",
    "X_best = np.array([[]])\n",
    "best_result = [1, 1, 1, 1, 1]\n",
    "for deg1 in range(-5, 5):\n",
    "    for deg2 in range(-5,  5):\n",
    "        for deg3 in range(-5, 5):\n",
    "            X_new = np.power(X[:,0:1], deg1) * np.power(X[:,1:2], deg2) * np.power(X[:,2:3], deg3)\n",
    "            for  deg4 in range(-5, 5):\n",
    "                for deg5 in range(-5,5):\n",
    "                    X_new2 = np.concatenate((X_new, (np.power(X[:,3:4], deg4) * np.power(X[:,4:5], deg5))), axis=1)\n",
    "                    mse = MSE(X_new2, y, 10)\n",
    "                    if (mse[1] < min_mse  and mse[1] != 0):\n",
    "                        X_best = X_new2\n",
    "                        best_result = [deg1, deg2, deg3, deg4, deg5]\n",
    "                        print(mse[1])\n",
    "                        min_mse = mse[1]\n",
    "print(min_mse)"
   ]
  },
  {
   "cell_type": "code",
   "execution_count": 135,
   "metadata": {},
   "outputs": [
    {
     "data": {
      "text/plain": [
       "(920.881824351082, 925.306289316819)"
      ]
     },
     "execution_count": 135,
     "metadata": {},
     "output_type": "execute_result"
    }
   ],
   "source": [
    "MSE(X_best, y, 1000)"
   ]
  },
  {
   "cell_type": "markdown",
   "metadata": {},
   "source": [
    "Нда, результат не утешает, но нужно помнить, что это лишь 2 столбца. Попробуем добавить какие нибудь столбцы из X в степенях."
   ]
  },
  {
   "cell_type": "code",
   "execution_count": 136,
   "metadata": {},
   "outputs": [
    {
     "name": "stdout",
     "output_type": "stream",
     "text": [
      "895.8539556185137\n",
      "892.6156982209337\n",
      "891.920090958736\n",
      "884.2968868414885\n",
      "877.8908675731046\n",
      "872.4369264265373\n",
      "865.1802502331844\n",
      "864.677013419032\n",
      "848.2100965495614\n",
      "845.4189133308557\n",
      "841.2507038298907\n",
      "830.3085803415471\n",
      "822.7923193513084\n",
      "818.3025157200246\n",
      "810.6571690436668\n",
      "808.4408644217714\n",
      "808.2153085064409\n",
      "802.8137646890701\n",
      "798.3377148806961\n",
      "797.5471628184797\n",
      "795.2450523264354\n",
      "790.6682301961129\n",
      "773.4007703193704\n",
      "770.4777610040896\n",
      "767.4750139208534\n",
      "767.2549990273905\n",
      "765.5255993305193\n",
      "763.7559725715878\n",
      "762.6627165548338\n"
     ]
    }
   ],
   "source": [
    "min_mse = 900\n",
    "X_best2 = X_best.copy()\n",
    "count = 0\n",
    "while(True):\n",
    "    try_conc = False\n",
    "    conc = np.array([])\n",
    "    for i in range(4):\n",
    "        for deg in range(-10, 10, 1):\n",
    "            X_best3 = np.concatenate((X_best2, np.power(X[:,i:i+1], deg)), axis=1)\n",
    "            curr_mse = MSE(X_best3, y, 100)\n",
    "            if (curr_mse[1] < min_mse and curr_mse[1] != 0):\n",
    "                print(curr_mse[1])\n",
    "                min_mse = curr_mse[1]\n",
    "                try_conc = True\n",
    "                conc  = np.power(X[:,i:i+1], deg)\n",
    "    if (not try_conc) or count == 20:\n",
    "        break\n",
    "    X_best2 = np.concatenate((X_best2, conc), axis=1)\n",
    "    count += 1"
   ]
  },
  {
   "cell_type": "code",
   "execution_count": 139,
   "metadata": {},
   "outputs": [
    {
     "data": {
      "text/plain": [
       "(738.9071799015361, 781.6178968838896)"
      ]
     },
     "execution_count": 139,
     "metadata": {},
     "output_type": "execute_result"
    }
   ],
   "source": [
    "MSE(X_best2, y, 1000)"
   ]
  },
  {
   "cell_type": "markdown",
   "metadata": {},
   "source": [
    "Немного лучше, но всё равно не достаточно. Попробуем изменять нашу матрицу почти таким же образом, но на этот раз пока с каждым шагом MSE уменьшается будем  добавлять какой то столбец этой же матрицы в какой то степени."
   ]
  },
  {
   "cell_type": "code",
   "execution_count": 140,
   "metadata": {},
   "outputs": [
    {
     "name": "stdout",
     "output_type": "stream",
     "text": [
      "783.9422406170238\n",
      "782.980130069754\n",
      "780.7772251973131\n",
      "778.4440150972653\n",
      "772.4282029751499\n",
      "764.3864761482162\n",
      "761.2763749900193\n",
      "759.2907635393273\n",
      "749.5546275120236\n",
      "745.0204533910023\n",
      "739.4137411932503\n",
      "734.6637659647739\n",
      "723.1880158270146\n",
      "720.4585414613111\n"
     ]
    }
   ],
   "source": [
    "min_mse = 800\n",
    "X_best3 = X_best2.copy()\n",
    "count = 0\n",
    "while(True):\n",
    "    try_conc = False\n",
    "    conc = np.array([])\n",
    "    for i in range(X_best3.shape[1]):\n",
    "        for deg in range(-10, 10, 1):\n",
    "            X_best4 = np.concatenate((X_best3, np.power(X_best3[:,i:i+1], deg)), axis=1)\n",
    "            curr_mse = MSE(X_best4, y, 100)\n",
    "            if (curr_mse[1] < min_mse and curr_mse[1] != 0):\n",
    "                print(curr_mse[1])\n",
    "                min_mse = curr_mse[1]\n",
    "                try_conc = True\n",
    "                conc  = np.power(X_best3[:,i:i+1], deg)\n",
    "    if (not try_conc) or count == 100:\n",
    "        break\n",
    "    X_best3 = np.concatenate((X_best3, conc), axis=1)\n",
    "    count += 1"
   ]
  },
  {
   "cell_type": "code",
   "execution_count": 141,
   "metadata": {},
   "outputs": [
    {
     "data": {
      "text/plain": [
       "(702.933960420136, 746.1728644629005)"
      ]
     },
     "execution_count": 141,
     "metadata": {},
     "output_type": "execute_result"
    }
   ],
   "source": [
    "MSE(X_best3, y, 1000)"
   ]
  },
  {
   "cell_type": "markdown",
   "metadata": {},
   "source": [
    "Такой же  результат, как и в первом  случае. это немного печалит, но в целом результат не так плох. Мой  азарт угас..."
   ]
  },
  {
   "cell_type": "markdown",
   "metadata": {},
   "source": [
    "### Задание 3. Регуляризация (2 балла)"
   ]
  },
  {
   "cell_type": "markdown",
   "metadata": {},
   "source": [
    "Вспомним, что задача линейной регрессии формулируется как задача нахождения проекции вектора значений объясняемой переменной $y$ на линейную оболочку $\\langle x_1,\\ldots,x_k\\rangle$ векторов значений регрессоров. Если векторы $x_1,\\ldots,x_k$ линейно зависимы, то матрица $X^TX$ вырожденна и задача не будет решаться (то есть будет, но не с помощью приведённой выше формулы). В жизни, по счастью, различные признаки редко бывают *в точности* линейно зависимы, однако во многих ситуациях они скоррелированы и становятся \"почти\" линейно зависимыми. Таковы, к примеру, зарплата человека, его уровень образования, цена машины и суммарная площадь недвижимости, которой он владеет. В этом случае матрица $X^TX$ будет близка к вырожденной, и это приводит к численной неустойчивости и плохому качеству решений; как следствие, будет иметь место переобучение. Один из симптомов этой проблемы &mdash; необычно большие по модулю компоненты вектора $a$.\n",
    "\n",
    "Есть много способов борьбы с этим злом. Один из них &mdash; регуляризация. Сейчас мы рассмотрим одну из её разновидностей &mdash; **L2-регуляризацию**. Идея в том, чтобы подправить матрицу $X^TX$, сделав её \"получше\". Например, это можно сделать, заменив её на $(X^TX + \\lambda E)$, где $\\lambda$ &mdash; некоторый скаляр. Пожертвовав точностью на обучающей выборке, мы тем не менее получаем численно более стабильное псевдорешение $a = (X^TX + \\lambda E)^{-1}X^Ty$ и снижаем эффект переобучения. Параметр $\\lambda$ нужно подбирать, и каких-то универсальных способов это делать нет, но зачастую можно его подобрать таким, чтобы ошибка на тестовой выборке падала. "
   ]
  },
  {
   "cell_type": "markdown",
   "metadata": {},
   "source": [
    "Теперь давайте вспомним первую задачу. Если вы её сделали, то помните, что ошибка аппроксимации многочленом шестой степени довольно высокая. Убедитесь, что, используя регуляризацию с хорошо подобранным коэффициентом $\\lambda$, ошибку на тестовой выборке можно сделать не больше, чем для многочлена оптимальной степени в модели без регрессии. Для этого $\\lambda$ сравните $\\det(X^TX)$ и $\\det(X^TX + \\lambda E)$."
   ]
  },
  {
   "cell_type": "code",
   "execution_count": 175,
   "metadata": {},
   "outputs": [],
   "source": [
    "X_train = data_train[:,0]\n",
    "y_train = data_train[:,1]\n",
    "X_test = data_test[:,0]\n",
    "y_test = data_test[:,1]"
   ]
  },
  {
   "cell_type": "code",
   "execution_count": 176,
   "metadata": {},
   "outputs": [
    {
     "name": "stdout",
     "output_type": "stream",
     "text": [
      "(21, 7)\n",
      "0.30734409331865403 1.158\n"
     ]
    }
   ],
   "source": [
    "X = np.asmatrix(np.ones(21)).T\n",
    "for i in range(1, 7):\n",
    "    X_ = np.power(np.asmatrix(X_train).T, i)\n",
    "    X = np.column_stack((X, X_))\n",
    "X_mat_test = np.asmatrix(np.ones(21)).T\n",
    "\n",
    "for i in range(1, 7):\n",
    "    X_ = np.power(np.asmatrix(X_test).T, i)\n",
    "    X_mat_test = np.column_stack((X_mat_test, X_))\n",
    "\n",
    "best_lam = 0\n",
    "min_mse = 100000\n",
    "lambda_mas = np.arange(0, 2, 0.001) #изначально проходился циклом по гораздо большему диапазону, но чтобы сделать\n",
    "for lam in lambda_mas:                 #lambda более точной постепенно сузил диапазон\n",
    "    regul = lam * np.eye(X.shape[1])\n",
    "    a = (sla.inv(X.T.dot(X)+ regul)).dot(X.T).dot(np.asmatrix(y_train).T)\n",
    "    f_x = X_mat_test.dot(a)\n",
    "    mse = np.sum(np.power((f_x - np.asmatrix(y_test).T).reshape(-1,1), 2)) / 21\n",
    "    if mse < min_mse:\n",
    "        min_mse =  mse\n",
    "        best_lam = lam\n",
    "print(min_mse, best_lam)"
   ]
  },
  {
   "cell_type": "code",
   "execution_count": 177,
   "metadata": {},
   "outputs": [
    {
     "name": "stdout",
     "output_type": "stream",
     "text": [
      "9.082864838378161e-12 1012.5548470328209\n"
     ]
    }
   ],
   "source": [
    "regul = best_lam * np.eye(X.shape[1])\n",
    "detX = np.linalg.det(X.T.dot(X)) #train\n",
    "det_lam = np.linalg.det(X.T.dot(X)+ regul)\n",
    "print(detX, det_lam)"
   ]
  },
  {
   "cell_type": "markdown",
   "metadata": {},
   "source": [
    "Можем видеть, что регуляризация помогает избежать вырожденности  матрицы X^TX, что очень полезно."
   ]
  },
  {
   "cell_type": "markdown",
   "metadata": {},
   "source": [
    "Нарисуйте на одном чертеже графики многочленов шестой степени, приближающих неизвестную функцию, для модели с регуляризацией и без. Чем первый из них выгодно отличается от второго?"
   ]
  },
  {
   "cell_type": "code",
   "execution_count": 178,
   "metadata": {},
   "outputs": [
    {
     "data": {
      "text/plain": [
       "<matplotlib.legend.Legend at 0x1b4f5111d48>"
      ]
     },
     "execution_count": 178,
     "metadata": {},
     "output_type": "execute_result"
    },
    {
     "data": {
      "image/png": "[encoded data removed]",
      "text/plain": [
       "<Figure size 432x288 with 1 Axes>"
      ]
     },
     "metadata": {
      "needs_background": "light"
     },
     "output_type": "display_data"
    }
   ],
   "source": [
    "regul = best_lam * np.eye(X.shape[1])\n",
    "simple_poly = (sla.inv(X.T.dot(X))).dot(X.T).dot(np.asmatrix(y_train).T)\n",
    "regul_poly  = (sla.inv(X.T.dot(X)+ regul)).dot(X.T).dot(np.asmatrix(y_train).T)\n",
    "t = np.arange(X_train.min(), X_train.max(), 0.01)\n",
    "    \n",
    "X = np.asmatrix(np.ones(t.shape[0])).T\n",
    "for i in range(1, 7):\n",
    "    X_ = np.power(np.asmatrix(t).T, i)\n",
    "    X = np.column_stack((X, X_))\n",
    "simple_f_x = np.dot(X, simple_poly)\n",
    "regul_f_x = np.dot(X, regul_poly)\n",
    "plt.plot(t, simple_f_x, 'k', color='red', label='without regul')\n",
    "plt.plot(t, regul_f_x, 'k', color='blue', label='witch regul')\n",
    "plt.legend()"
   ]
  },
  {
   "cell_type": "markdown",
   "metadata": {},
   "source": [
    "Поскольку у многочлена  с регуляризацией получаются небольшие коэффиценты, то, как и предполагается, его график выглядит более планым, без различных изгибов (которые как раз получаются из за больших коэффицентов)"
   ]
  },
  {
   "cell_type": "markdown",
   "metadata": {},
   "source": [
    "Попробуйте доказать, что вектор $a = (X^TX + \\lambda E)^{-1}X^Ty$ является решением задачи\n",
    "\n",
    "$$|Xa - y|^2 + \\lambda|a|^2\\rightarrow\\min$$\n",
    "\n",
    "Интуитивно это можно понимать так: мы ищем компромисс между минимизацией длины разности $|Xa - y|$ (то есть точностью решения задачи регрессии) и тем, чтобы компоненты вектора $a$ не становились слишком большими по модулю.\n",
    "\n",
    "---\n",
    "\n",
    "**Ваше решение напишите прямо здесь**\n",
    "У нас задана функция MSE = $$|Xa - y|^2 + \\lambda|a|^2$$ Нам  требуется найти её минимум, тогда найдём производнуюю этой функции, приравняем к 0 и найдём решеение. $$|Xa - y|^2 + \\lambda|a|^2 = (Xa - y)^T(Xa - y) + \\lambda a^Ta = (a^TX^T - y^T)(Xa - y) + \\lambda a^Ta = a^TX^TXa - a^TX^Ty - (X^Ty)^Ta + y^Ty + \\lambda a^Ta = a^TX^TXa - 2a^TX^Ty + y^Ty + \\lambda a^Ta =$$(возьмём производную по a)$$ = 2X^TXa(X^TX - симметрична) - 2X^Ty + 2\\lambda a$$ Теперь  приравниваем к 0: $$X^TXa - X^Ty + \\lambda a = 0 <=> (X^TX + \\lambda E)a = X^Ty <=> a = (X^TX + \\lambda E)^{-1}X^Ty$$"
   ]
  },
  {
   "cell_type": "markdown",
   "metadata": {},
   "source": [
    "### Задание 4. Онлайн-обучение линейной регрессии (3 балла)"
   ]
  },
  {
   "cell_type": "markdown",
   "metadata": {},
   "source": [
    "Раньше мы работали в ситуации, когда объекты $x_i$ и значения $y_i$ даны с самого начала и всегда доступны. Допустим теперь, что пары $(x_i, y_i)$ поступают к нам по одной и мы не можем себе позволить хранить их все в памяти (это может быть актуально, например, если вы пытаетесь обучить модель на устройстве со сравнительно небольшим количеством оперативной памяти: скажем, на мобильном телефоне или на бортовом компьютере спутника связи). В этом случае нам нужно уметь решать следующую задачу:\n",
    "\n",
    "**Известно:** решение задачи регрессии для датасета $(x_1, y_1),\\ldots,(x_t,y_t)$;\n",
    "\n",
    "**На вход поступает:** новая пара $(x_{t+1}, y_{t+1})$;\n",
    "\n",
    "**Требуется:** быстро (за время, не зависящее от $t$) отыскать решение задачи регрессии для расширенного датасета $(x_1, y_1),\\ldots,(x_t,y_t),(x_{t+1}, y_{t+1})$."
   ]
  },
  {
   "cell_type": "markdown",
   "metadata": {},
   "source": [
    "Эту задачу мы будем решать в два этапа.\n",
    "\n",
    "**Этап 1.** Введём обозначения $X_{(t)} = (x_1\\ldots x_t)$ и $y_{(t)} = (y_1,\\ldots,y_t)^T$. Тогда, как мы хорошо помним, решение задачи регрессии для датасета $(x_1, y_1),\\ldots,(x_t,y_t)$ имеет вид $\\hat{a}_{(t)} = \\left(X^T_{(t)}X_{(t)}\\right)^{-1}X^T_{(t)}y_{(t)}$. Размеры матриц $X^T_{(t)}X_{(t)}$ и $X^T_{(t)}y_{(t)}$ не зависят от $t$, поэтому их мы, пожалуй, можем себе позволить хранить в памяти.\n",
    "\n",
    "И вот ваше первое задание в этом разделе: придумайте алгоритм, принимающий на вход матрицы $X^T_{(t)}X_{(t)}$ и $X^T_{(t)}y_{(t)}$, а также пару $(x_{t+1}, y_{t+1})$ и вычисляющий матрицы $X^T_{(t+1)}X_{(t+1)}$ и $X^T_{(t+1)}y_{(t+1)}$. Сложность вашего алгоритма не должна зависеть от $t$!\n",
    "\n",
    "--\n",
    "\n",
    "**Описание вашего алгоритма напишите прямо здесь**"
   ]
  },
  {
   "cell_type": "markdown",
   "metadata": {},
   "source": [
    "Пусть у нас есть n признаков, т.е. X.shape = (t, n). Тогда когда мы добавляем новый объект у X_(t+1) прибавляется снизу ещё одна строка длины n. Обозначим её а. Тогда к X^t справа прибавлятся соответсвенно столбец a^t. Просто перемножим их,  и получится, что при перемножении i строки на j столбец получится в точности [i][j] элемент матрицы X^tX + (a_i * a_j), т.е. получившаяся матриа будет иметь вид X^tX + a^ta. То есть нам достаточно посчитать a^ta, а это имееот сложность О(n^2), что не зависит от t."
   ]
  },
  {
   "cell_type": "markdown",
   "metadata": {},
   "source": [
    "Опять же у нас n признаков. К X^t справа ддобавляется столбпец длины n. Обозначим его a^t. Тогда к столбцу y добавляется ээлемент, обозначим его q. Просто перемножая  заметим, что при перемножении i строки X^t (новой) на y у нас полуится в точности элементк как при перемножении i строки из X^t (без столбца a^t) на y + a[i]*q. То есть получившаяся матрица будет иметь вид X^ty + a^tq, нам нужно посчитать только a^tq, а это можно сделать за О(n), что не зависит от t."
   ]
  },
  {
   "cell_type": "markdown",
   "metadata": {},
   "source": [
    "**Этап 2.** Теперь настало время написать немного кода и порисовать красивые картинки. Вам нужно будет реализовать симуляцию онлайн-обучения регрессии для задачи приближения функции (в данном случае $f_{true}(x) = 2x\\sin(x) + x^2 - 1$; все значения искажены небольшим нормальным шумом) многочленом степени не выше 5."
   ]
  },
  {
   "cell_type": "code",
   "execution_count": 179,
   "metadata": {},
   "outputs": [
    {
     "data": {
      "image/png": "[encoded data removed]",
      "text/plain": [
       "<Figure size 432x288 with 1 Axes>"
      ]
     },
     "metadata": {
      "needs_background": "light"
     },
     "output_type": "display_data"
    }
   ],
   "source": [
    "from IPython.display import clear_output\n",
    "\n",
    "f_true = lambda x: 2*x*np.sin(5*x) + x**2 - 1\n",
    "\n",
    "x_grid = np.linspace(-2,5,100)\n",
    "x_grid_enl = np.hstack((x_grid.reshape((100,1))**j for j in range(6)))\n",
    "y_grid = f_true(x_grid)\n",
    "\n",
    "X_transX = np.zeros((6, 6))\n",
    "X_transy = np.zeros((6, 1))\n",
    "X_to_print = np.asmatrix(np.array([1] * x_grid.shape[0])).T\n",
    "print(x_grid.shape)\n",
    "for i  in range(1, 6):\n",
    "    X_to_print = np.concatenate((X_to_print, np.power(np.asmatrix(x_grid).T, i)), axis=1)\n",
    "\n",
    "\n",
    "for i in range(200):\n",
    "\n",
    "    x_new = np.random.uniform(-2, 5)\n",
    "    y_new = f_true(x_new) + 2*np.random.randn()\n",
    "    \n",
    "    x_add = np.array([1])\n",
    "    for j  in range(1, 6):\n",
    "        x_add = np.append(x_add, x_new**j)\n",
    "    x_add = np.asmatrix(x_add)\n",
    "\n",
    "    X_transX += x_add.T.dot(x_add)\n",
    "    X_transy += (y_new * x_add.T)\n",
    "    coefs = sla.inv(X_transX).dot(X_transy)\n",
    "    \n",
    "    if (i+1)%5==0:\n",
    "        clear_output(True)\n",
    "        plt.plot(x_grid,y_grid, color='blue', label='true f')\n",
    "        plt.scatter(x_new, y_new, color='red')\n",
    "        \n",
    "        y_pred = X_to_print.dot(coefs)\n",
    "        \n",
    "        plt.scatter(x_grid, y_pred.tolist(), color='orange', linewidth=5, label='predicted f')\n",
    "        \n",
    "        plt.legend(loc='upper left')\n",
    "        plt.show()"
   ]
  },
  {
   "cell_type": "markdown",
   "metadata": {},
   "source": [
    "**К Р А С И В О**"
   ]
  },
  {
   "cell_type": "markdown",
   "metadata": {},
   "source": [
    "### Добавление. QR-разложение"
   ]
  },
  {
   "cell_type": "markdown",
   "metadata": {},
   "source": [
    "**QR-разложением** матрицы $A$ (не обязательно квадратной) мы будем называть её представление в виде $A = QR$, где $Q$ &mdash; матрица с ортонормированными столбцами, а $R$ &mdash; верхнетреугольная матрица.\n",
    "\n",
    "Смысл QR-разложения следующий. Пусть $a_1,\\ldots,a_m$ &mdash; столбцы матрицы $A$, $q_1,\\ldots,q_t$ &mdash; столбцы матрицы $Q$. Тогда $q_1,\\ldots,q_t$ &mdash; это ортонормированный базис в подпространстве, являющемся линейной оболочкой векторов $a_1,\\ldots,a_m$, а в матрице $R$ записаны коэффициенты, с помощью которых $a_i$ выражаются через $q_1,\\ldots,q_t$.\n",
    "\n",
    "Находить QR-разложение заданной матрицы можно разными способами. Мы познакомим вас не с самым лучшим из них, но по крайней мере с наиболее простым концептуально. Заметим, что ортогональный базис линейной оболочки можно найти с помощью ортогонализации Грама-Шмидта. При этом коэффициенты из матрицы $R$ получаются в качестве побочного продукта этого процесса:\n",
    "\n",
    "```python\n",
    "for j = 1...n:\n",
    "    q_j = a_j\n",
    "    for i = 1,...,j-1:\n",
    "        r_ij = (q_i, a_j)\n",
    "        q_j = q_j - r_ij * q_i\n",
    "    r_jj = |q_j|\n",
    "    if r_jj == 0: # a_j in <a_1,...,a_j-1>\n",
    "        # What would you do in this case?..\n",
    "    q_j = q_j / r_jj\n",
    "```\n",
    "\n",
    "Для нахождения QR-разложения вы можете использовать библиотечную функцию `scipy.linalg.qr`."
   ]
  },
  {
   "cell_type": "markdown",
   "metadata": {},
   "source": [
    "Поскольку лабораторная про линейную регрессию, не так-то просто замять вопрос о том, какое же отношение QR-разложение имеет к задаче регрессии. Упомянем одно из возможных применений.\n",
    "\n",
    "Допустим, мы нашли QR-разложение матрицы $X$, а именно: $X = QR$. Тогда\n",
    "$$X^TX = (QR)^T(QR) = R^TQ^TQR = R^TR$$"
   ]
  },
  {
   "cell_type": "markdown",
   "metadata": {},
   "source": [
    "Поскольку в задаче регрессии матрица $X$ обычного полного ранга (то есть её столбцы линейно независимы), матрица $R$ будет квадратной. Благодаря этому нашу обычную формулу для набора регрессионных коэффициентов $\\hat{a}$ можно переписать в следующем виде:\n",
    "\n",
    "$$\\hat{a} = (X^TX)^{-1}X^Ty = (R^TR)^{-1}(QR)^Ty = R^{-1}(R^T)^{-1}R^TQ^Ty = R^{-1}Q^Ty$$\n",
    "\n",
    "Как видите, формула стала проще. Более того, зачастую обращение матрицы $R$ может быть численно более устойчиво, чем обращение матрицы $X^TX$."
   ]
  }
 ],
 "metadata": {
  "kernelspec": {
   "display_name": "Python 3",
   "language": "python",
   "name": "python3"
  },
  "language_info": {
   "codemirror_mode": {
    "name": "ipython",
    "version": 3
   },
   "file_extension": ".py",
   "mimetype": "text/x-python",
   "name": "python",
   "nbconvert_exporter": "python",
   "pygments_lexer": "ipython3",
   "version": "3.7.10"
  }
 },
 "nbformat": 4,
 "nbformat_minor": 1
}
