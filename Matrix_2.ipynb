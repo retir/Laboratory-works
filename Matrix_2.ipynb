{
 "cells": [
  {
   "cell_type": "markdown",
   "metadata": {},
   "source": [
    "# Практическая часть ДЗ 2"
   ]
  },
  {
   "cell_type": "markdown",
   "metadata": {},
   "source": [
    "# Задача 1. Использование ALS для построения рекомендательной модели (35 баллов)"
   ]
  },
  {
   "cell_type": "markdown",
   "metadata": {},
   "source": [
    "В этой задаче мы построим простую рекомендательную модель на основе малоранговых приближений. "
   ]
  },
  {
   "cell_type": "code",
   "execution_count": 1,
   "metadata": {},
   "outputs": [],
   "source": [
    "import numpy as np\n",
    "import matplotlib.pyplot as plt\n",
    "%matplotlib inline"
   ]
  },
  {
   "cell_type": "markdown",
   "metadata": {},
   "source": [
    "### Подготовка датасета\n",
    "Загрузите датасет movielens10m с [grouplens.org](https://grouplens.org/datasets/movielens/10m/) и положите архив в папку `data`. Нас будет интересовать файл `ratings.dat`, в котором собраны оценки пользователями различных фильмов с сервиса movielens.org. Вытащим этот файл из архива. Как можно узнать из соответствующей [странички](http://files.grouplens.org/datasets/movielens/ml-10m-README.html#file_desc), этот файл имеет формат `UserID::MovieID::Rating::Timestamp`. Сразу позаботимся, чтобы id пользователей и фильмов начинались с нуля (в самом файле индексация с единицы)."
   ]
  },
  {
   "cell_type": "code",
   "execution_count": 2,
   "metadata": {
    "scrolled": true
   },
   "outputs": [],
   "source": [
    "import zipfile\n",
    "user_ids = []\n",
    "movie_ids = []\n",
    "ratings = []\n",
    "with zipfile.ZipFile('data/ml-10m.zip') as archive:\n",
    "    with archive.open('ml-10M100K/ratings.dat') as f:\n",
    "        for l in f:\n",
    "            user, movie, rating, _ = l.split(b'::')\n",
    "            user_ids.append(int(user) - 1)\n",
    "            movie_ids.append(int(movie) - 1)\n",
    "            ratings.append(float(rating))"
   ]
  },
  {
   "cell_type": "markdown",
   "metadata": {},
   "source": [
    "Составим матрицу рейтингов $A_{u,m}$, индексируемую номером пользователем и номером фильма.\n",
    "Для простоты мы будем делить отзывы только на положительные (`Rating >= 4` &mdash; $A_{u,m}=1$) и отрицательные (`Rating < 4` &mdash; $A_{u,m} = 0$), таким образом, матрица у нас получится состоящей только из нулей и единиц.\n",
    "Обратите внимание, что матрица будет разреженной, так как средний пользователь оценил относительно мало фильмов. Поэтому мы будем пользоваться библиотекой `scipy.sparse`. Хранить матрицу мы будем в формате [CSR](https://en.wikipedia.org/wiki/Sparse_matrix#Compressed_sparse_row_(CSR,_CRS_or_Yale_format))."
   ]
  },
  {
   "cell_type": "code",
   "execution_count": 3,
   "metadata": {
    "scrolled": true
   },
   "outputs": [
    {
     "name": "stdout",
     "output_type": "stream",
     "text": [
      "Shape: (71567, 65133)\n",
      "Ratio of nonzero elements: 0.0010738646228571796\n"
     ]
    }
   ],
   "source": [
    "from scipy.sparse import csr_matrix\n",
    "A = csr_matrix((np.array(ratings) >= 4, (user_ids, movie_ids)), dtype=np.float32)\n",
    "A.eliminate_zeros()\n",
    "print(\"Shape:\", A.shape)\n",
    "print(\"Ratio of nonzero elements:\", A.nnz / (A.shape[0] * A.shape[1]))"
   ]
  },
  {
   "cell_type": "markdown",
   "metadata": {},
   "source": [
    "Отделим некоторое количество пользователей для последующей проверки. Используем стандартное разбиение train/test 80/20."
   ]
  },
  {
   "cell_type": "code",
   "execution_count": 4,
   "metadata": {},
   "outputs": [],
   "source": [
    "n_users, n_movies = A.shape\n",
    "n_test = int(n_users * 0.2)\n",
    "n_train = n_users - n_test\n",
    "idx = np.arange(n_users)\n",
    "np.random.shuffle(idx)\n",
    "test_idx, train_idx = idx[:n_test], idx[n_test:]\n",
    "A_test, A_train = A[test_idx,:], A[train_idx,:]"
   ]
  },
  {
   "cell_type": "markdown",
   "metadata": {},
   "source": [
    "### a. (10 баллов) Вычисление ALS-функционала и расстояния между подпространствами\n",
    "\n",
    "  1. **(5 баллов)** Напомним, что в методе ALS решается задача минимизации функционала $\\|A - UV^\\top\\|_F$ по всем $U$ и $V$ заданного ранга $r$. В самом алгоритме вместо двух матриц $U$ и $V$ естественным образом возникает третья матрица $S \\in \\mathbb{R}^{r \\times r}$, так что текущее приближение выглядит как $USV^\\top$. Поэтому первым делом вам нужно будет написать функцию `als_functional` для вычисления оптимизируемого функционала $\\|A - USV^\\top\\|_F$ для заданных $A$, $U$, $S$, $V^\\top$ (матрица $S$ не обязана быть диагональной). Заметьте, что прямое вычисление этой нормы &mdash; очень трудоёмкая задача, ведь разность будет плотной матрицей. Для того, чтобы эффективно вычислить норму разности, распишите $\\|A - USV^\\top\\|_F^2$ через скалярное произведение $(X,Y)_F = \\mathrm{Tr}\\,(X^\\top Y)$, выполните алгебраические преобразования и покажите, как эффективно вычислить каждый член в полученном выражении. Имеется в виду, что ни на каком этапе вы не должны явно формировать плотные матрицы размеров `A.shape` (хотя numpy, скорее всего, и откажется аллоцировать 37 ГБ под такой массив). Для вычисления фробениусовой нормы разреженной матрицы используйте `norm` из `scipy.sparse.linalg`.\n",
    "  \n",
    "  **Замечание**: не используйте циклы по ненулевым элементам разреженной матрицы $A$. Убедитесь, что в ваши формулы входит только умножение на матрицы $A$ или $A^\\top$, на которые можно умножать посредством @. "
   ]
  },
  {
   "cell_type": "code",
   "execution_count": 5,
   "metadata": {},
   "outputs": [],
   "source": [
    "def als_functional(A, A_norm, U, S, VT):\n",
    "    return np.sqrt(A_norm**2 -  np.trace(VT @ A.T @ U @ S) + np.trace(U.T @ U @ S @ VT @ VT.T @ S.T) - np.trace(U.T @ A @ VT.T @ S.T))\n",
    "    \"\"\"\n",
    "        Input\n",
    "            A: sparse 2D array\n",
    "            A_norm: Frobenius norm of A\n",
    "            U, S, VT: 2D arrays such that U @ S @ VT approximates A\n",
    "        Output\n",
    "            ||A - USVT||_F\n",
    "    \"\"\"\n",
    "    raise NotImplementedError()"
   ]
  },
  {
   "cell_type": "markdown",
   "metadata": {},
   "source": [
    "  2. **(3 балла)** Ещё одной метрикой сходимости ALS-процесса, помимо стабилизации самого функционала, может служить так называемое расстояние между подпространствами. Расстоянием между подпространствами $L_1 \\subset \\mathbb{R}^m$ и $L_2 \\subset \\mathbb{R}^m$ будем называть число $\\|P(L_1) - P(L_2)\\|_2$, где $P(L_i)$ &mdash; ортопроектор на $L_i$. Опишите алгоритм вычисления расстояния между двумя подпространствами $\\mathrm{Im}(U_1)$ и $\\mathrm{Im}(U_2)$ для заданных матриц $U_1, U_2 \\in \\mathbb{R}^{m \\times r}$ с ортонормированными столбцами (т.е. $U_i^T U_i = I$). Алгоритм должен иметь сложность $O(mr^2)$. **Подсказка.** Воспользуйтесь фактом, что ортопроекторы являются матрицами малого ранга $r$, и техникой малоранговой арифметики, описанной на соответствующих лекции и семинаре."
   ]
  },
  {
   "cell_type": "markdown",
   "metadata": {},
   "source": [
    "Поскольку столбцы $U_i$ ортонормированны, $U_i$ имеет полный ранг, значит $P(U_i) = U_i(U_iU_i^T)^{-1}U_i^T = U_iU_i^T$. Тогда вторая норма это $\\|P(U_1) - P(U_2)\\|_2$ = $\\|U_1U_1^T - U_2U_2^T\\|_2$\n",
    "\n",
    "Заметим, что $U_iU_i^t$ это на самом деле скелетное разложение,то есть можем записать как $U_1U_1^T - U_2U_2^T = [U_1(-U_2)][U_1U_2]^T$ - это будет скелетное разложение для $U_1U_1^T - U_2U_2^T$, обозначим как $UV^T$.\n",
    "\n",
    "Теперь пусть $U = Q_1R_1, V = Q_2R_2$, тогда $UV^T = Q_1R_1R_2^TQ_2^T = Q_1RQ_2^T$, можем посчитать SVD разложение у R (это займёт O($r^3$)), и возьмём старшее сингулярное. "
   ]
  },
  {
   "cell_type": "markdown",
   "metadata": {},
   "source": [
    "**YOUR WORDS GO HERE**"
   ]
  },
  {
   "cell_type": "markdown",
   "metadata": {},
   "source": [
    "  3. **(2 балла)** Напишите функцию `dist_between_subspaces`, принимающую на вход матрицы $U_1, U_2 \\in \\mathbb{R}^{m\\times r}$ с ортонормированными столбцами, и возвращающую расстояние между $\\mathrm{Im}(U_1)$ и $\\mathrm{Im}(U_2)$. Сложность алгоритма должна быть $O(mr^2)$."
   ]
  },
  {
   "cell_type": "code",
   "execution_count": 6,
   "metadata": {},
   "outputs": [],
   "source": [
    "def dist_between_subspaces(U1, U2):\n",
    "    U = np.hstack((U1, -1*U2))\n",
    "    V = np.hstack((U1, U2))\n",
    "    Ru = np.linalg.qr(U, mode='r')\n",
    "    Rv = np.linalg.qr(V, mode='r')\n",
    "    a, S, b = np.linalg.svd(Ru @ Rv.T, full_matrices=False)\n",
    "    return S[0]\n",
    "    \n",
    "    \"\"\"\n",
    "        Input\n",
    "            U1, U2: matrices with orthonormal columns\n",
    "        Output\n",
    "            Distance between Im(U1) and Im(U2)\n",
    "    \"\"\"\n",
    "    raise NotImplementedError()"
   ]
  },
  {
   "cell_type": "markdown",
   "metadata": {},
   "source": [
    "### b. (12 баллов) Метод ALS\n",
    "Реализуйте метод ALS (alternating least squares) с ортогонализацией (см. лекции). При указании `debug=True` печатайте номер текущей итерации и последнее расстояние между подпространствами, а также любую дополнительную интересную вам информацию. Вам будет необходимо вернуть три матрицы $U$, $S$, $V^\\top$, а также список расстояний между $\\mathrm{Im}(U_0)$ и $\\mathrm{Im}(U_1)$, $...$, $\\mathrm{Im}(U_{k-1})$ и $\\mathrm{Im}(U_k)$. Матрицы $S$ не обязана быть диагональной."
   ]
  },
  {
   "cell_type": "code",
   "execution_count": 7,
   "metadata": {},
   "outputs": [],
   "source": [
    "from scipy.sparse.linalg import norm as sparse_norm\n",
    "\n",
    "def ALS(A, rank, tolerance=1e-2, debug=False):\n",
    "    m, n = A.shape\n",
    "    it = 1\n",
    "    U_i, _ = np.linalg.qr(np.random.rand(m, rank))\n",
    "    V_i, _ = np.linalg.qr(np.random.rand(n, rank))\n",
    "    S = np.eye(rank)\n",
    "    dist_list = []\n",
    "    while(True):\n",
    "        U_ = A @ V_i\n",
    "        Q_1, R_1 = np.linalg.qr(U_)\n",
    "        dist_list.append(dist_between_subspaces(U_i, Q_1))\n",
    "        V_ = A.T @ Q_1\n",
    "        Q_2, R_2 = np.linalg.qr(V_)\n",
    "        U_i = Q_1\n",
    "        V_i = Q_2\n",
    "        S = R_2.T\n",
    "        if (debug):\n",
    "            print(\"Итерация: {0}, Последнее расстояние: {1}\".format(it, dist_list[-1]))\n",
    "            print(\"Приближаем с точностью {0}\".format(als_functional(A, sparse_norm(A), U_i, S, V_i.T)))\n",
    "        it += 1\n",
    "        if (dist_list[-1] <= tolerance):\n",
    "            return U_i, S, V_i.T, dist_list\n",
    "    print(\"END???\")\n",
    "           \n",
    "        \n",
    "        \n",
    "        \n",
    "    \"\"\"\n",
    "        Input\n",
    "            A: 2D m x n numpy array\n",
    "            rank: required rank of the approximation\n",
    "            tolerance: stop when this distance between Im(U_k) and Im(U_{k+1}) is reached\n",
    "            debug: print debug information on each iteration\n",
    "            \n",
    "        Output\n",
    "            U: m x rank numpy array with orthogonal columns\n",
    "            S: rank x rank numpy array\n",
    "            VT: rank x n numpy array with orthogonal rows\n",
    "            dists: list of distances between Im(U_k) and Im(U_{k+1})\n",
    "    \"\"\"\n",
    "    #raise NotImplementedError()"
   ]
  },
  {
   "cell_type": "markdown",
   "metadata": {},
   "source": [
    "Запустим метод на матрице `A_train` и посмотрим на убывание расстояния между соседними подпространствами от номера итерации."
   ]
  },
  {
   "cell_type": "code",
   "execution_count": 8,
   "metadata": {},
   "outputs": [
    {
     "name": "stdout",
     "output_type": "stream",
     "text": [
      "Итерация: 1, Последнее расстояние: 0.999999552319308\n",
      "Приближаем с точностью 1783.647412426301\n",
      "Итерация: 2, Последнее расстояние: 0.8665695890571203\n",
      "Приближаем с точностью 1663.2102405337578\n",
      "Итерация: 3, Последнее расстояние: 0.5270957495310965\n",
      "Приближаем с точностью 1647.519991441131\n",
      "Итерация: 4, Последнее расстояние: 0.35478101715778604\n",
      "Приближаем с точностью 1642.8647232812511\n",
      "Итерация: 5, Последнее расстояние: 0.25336618271204936\n",
      "Приближаем с точностью 1640.9968126334495\n",
      "Итерация: 6, Последнее расстояние: 0.19459687468629727\n",
      "Приближаем с точностью 1640.1258008241198\n",
      "Итерация: 7, Последнее расстояние: 0.15128661171843213\n",
      "Приближаем с точностью 1639.6737068438238\n",
      "Итерация: 8, Последнее расстояние: 0.1182846404542039\n",
      "Приближаем с точностью 1639.4173518932273\n",
      "Итерация: 9, Последнее расстояние: 0.09647388282492088\n",
      "Приближаем с точностью 1639.260252506638\n"
     ]
    },
    {
     "data": {
      "image/png": "[encoded data removed]",
      "text/plain": [
       "<Figure size 432x288 with 1 Axes>"
      ]
     },
     "metadata": {
      "needs_background": "light"
     },
     "output_type": "display_data"
    }
   ],
   "source": [
    "rank = 30\n",
    "U_als, S_als, VT_als, dist_als = ALS(A_train, rank, 0.1, debug=True)\n",
    "plt.plot(dist_als)\n",
    "_ = plt.semilogy()"
   ]
  },
  {
   "cell_type": "markdown",
   "metadata": {},
   "source": [
    "### c. (3 балла) Сравнение с рандомизированным SVD и разреженным SVD\n",
    "\n",
    "Примените рандомизированное SVD из sklearn, а также разреженное SVD из scipy (используйте тот же ранг 30, что и для ALS). Сравните все три результата по значению функционала."
   ]
  },
  {
   "cell_type": "code",
   "execution_count": 9,
   "metadata": {},
   "outputs": [
    {
     "name": "stdout",
     "output_type": "stream",
     "text": [
      "Ошибка с RandSVD: 1638.815220130178\n",
      "Ошибка с SparseSVD: 1638.7451222598113\n",
      "Ошибка с ALS: 1639.260252506638\n"
     ]
    }
   ],
   "source": [
    "from sklearn.utils.extmath import randomized_svd\n",
    "from scipy.sparse.linalg import svds\n",
    "\n",
    "A_norm = sparse_norm(A_train)\n",
    "U_rand, S_rand, V_rand = randomized_svd(A_train, 30)\n",
    "U_sparse, S_sparse, V_sparse = svds(A_train, 30)\n",
    "\n",
    "print(\"Ошибка с RandSVD: {0}\".format(als_functional(A_train, A_norm, U_rand, np.diag(S_rand),V_rand)))\n",
    "print(\"Ошибка с SparseSVD: {0}\".format(als_functional(A_train, A_norm, U_sparse,  np.diag(S_sparse), V_sparse)))\n",
    "print(\"Ошибка с ALS: {0}\".format(als_functional(A_train, A_norm, U_als, S_als, VT_als)))"
   ]
  },
  {
   "cell_type": "markdown",
   "metadata": {},
   "source": [
    "### d. (10 баллов) Построение рекомендаций\n",
    "Научимся рекомендовать пользователям из тестовой группы фильмы на основе части их оценок. Напишем функцию `recommend`, которая будет принимать матрицу $V^\\top$ из нашей модели, матрицу `(user_id, movie_id) -> binary rating` (то есть того же формата, что и наша основная матрица `A`), а также число `n_recs` &mdash; количество фильмов, которые мы хотим порекомендовать. Возвращать функция будет top-`n_recs` рекомендаций, то есть `n_recs` фильмов, которые могут пользователю понравиться, в порядке убывания предсказанной привлекательности.\n",
    "\n",
    "Чтобы построить рекомендацию, необходимо ортогонально спроецировать вектор, соответствующий новому пользователю (про которого мы знаем часть оценок), на пространство $L$, образуемое строками матрицы $V^\\top$. Иными словами, мы должны взять ближайший вектор из $L$. Он будет содержать предсказанные нашей моделью рейтинги. Дальше дело техники :) Но не забудьте, что `known_ratings` содержит векторы, соответствующие не одному пользователю, а батчу из `batch_size` пользователей. Хотя и (слава numpy) код остаётся почти дословно такой же."
   ]
  },
  {
   "cell_type": "code",
   "execution_count": 10,
   "metadata": {},
   "outputs": [],
   "source": [
    "def recommend(VT, known_ratings, n_recs):\n",
    "    tmp = VT @ known_ratings.T\n",
    "    Rec = VT.T @ tmp\n",
    "    res = np.argsort(-1 * Rec.T)[:, 0:n_recs]\n",
    "    return res\n",
    "    \"\"\"\n",
    "        Input\n",
    "            VT: 2D numpy array\n",
    "            known_rating: sparse batch_size x n_movies array\n",
    "            n_recs: requested number of recommendations\n",
    "            \n",
    "        Output\n",
    "            recs: batch_size x n_recs array of movies to recommend, with descending predicted rating\n",
    "    \"\"\"\n",
    "    raise NotImplementedError()"
   ]
  },
  {
   "cell_type": "markdown",
   "metadata": {},
   "source": [
    "Для проверки нашей модели для каждого пользователя из тестовой выборки оценим так называемый **hit rate**. Для этого выбросим одну из его оценок, вызовем функцию `recommend` и посмотрим, попал ли выкинутый фильм в подборку. Если попал &mdash; это hit, иначе не hit. Для того, чтобы эффективно проделать этот эксперимент на всех тестовых данных, сделаем следующее: разобьём тестовую матрицу на батчи по 500 пользователей и будем предсказывать сразу для целого батча. Вычислим вектор размера `n_test`, где для каждого пользователя указано, на каком месте в рекомендованной подборке оказался скрытый фильм (или число `n_recs`, если скрытого фильма не нашлось среди top-n  рекомендаций)."
   ]
  },
  {
   "cell_type": "code",
   "execution_count": 11,
   "metadata": {},
   "outputs": [],
   "source": [
    "from scipy.sparse import find\n",
    "\n",
    "def evaluate_model(VT, A_test, n_recs, batch_size=500):\n",
    "    \"\"\"\n",
    "        Input\n",
    "            VT: 2D numpy array representing the rating model\n",
    "            A_test: sparse n_test x n_movies array corresponding to new users\n",
    "            n_recs: requested number of recommendations\n",
    "            batch_size: number of users to build recommendations for in a single call to recommend\n",
    "\n",
    "        Output\n",
    "            hit_idx: list of n_test ints: place of secret movie \n",
    "                     in top-n_recs recommendations (or n_recs if it is missing)\n",
    "    \"\"\"\n",
    "    secrets = []\n",
    "    nonempty_users = []\n",
    "    A_test = A_test.copy()\n",
    "    for user in range(A_test.shape[0]):\n",
    "        _, good, _ = find(A_test[user,:])\n",
    "        if len(good) == 0:\n",
    "            continue\n",
    "        nonempty_users.append(user)\n",
    "        secret = np.random.choice(good, 1)[0]\n",
    "        A_test[user, secret] = 0\n",
    "        secrets.append(secret)\n",
    "    hit_idx = []\n",
    "    for i in range(0, len(nonempty_users), batch_size):\n",
    "        # Build recomendations for a batch.\n",
    "        recommendations = recommend(VT, A_test[nonempty_users[i:i + batch_size], :], n_recs + 1)\n",
    "        # Place secret in the last column so that the following .argmax finds it.\n",
    "        recommendations[:,-1] = secrets[i: i + batch_size]\n",
    "        # Find secret among the recommendations and place its index into batch_hit_idx.\n",
    "        batch_hit_idx = (recommendations == np.array([secrets[i:i + batch_size]]).T).argmax(1)\n",
    "        hit_idx += batch_hit_idx.tolist()\n",
    "    return hit_idx"
   ]
  },
  {
   "cell_type": "markdown",
   "metadata": {},
   "source": [
    "Научимся вычислять hit rate для данной модели и заданного количества top-n рекомендаций. Для этого напишем функцию `get_hit_rates`, которая будет принимать $V^\\top$ из нашей модели, вектора оценок для новых пользователей `A_test` и список натуральных чисел `n_recs`. Для каждого из этих чисел необходимо посчитать средний hit rate по всем пользователям из `A_test`, то есть, например, для `n_recs == [5, 10, 20]` нужно вернуть список средних хитрейтов для top-5, top-10 и top-20. **Обратите внимание:** вызвать функцию `evaluate_model` нужно только один раз."
   ]
  },
  {
   "cell_type": "code",
   "execution_count": 12,
   "metadata": {},
   "outputs": [],
   "source": [
    "def get_hit_rates(VT, A_test, n_recs):\n",
    "    hit_indx = evaluate_model(VT, A_test, max(n_recs))\n",
    "    res = []\n",
    "    for n_rec in n_recs:\n",
    "        hit_rate = 0.\n",
    "        for j in range(len(hit_indx)):\n",
    "            if hit_indx[j] < n_rec:\n",
    "                hit_rate += 1\n",
    "        hit_rate /= len(hit_indx)\n",
    "        res.append(hit_rate)\n",
    "    return res\n",
    "    \n",
    "    \"\"\"\n",
    "        Input\n",
    "            VT: 2D numpy array representing the rating model\n",
    "            A_test: sparse n_test x n_movies array corresponding to new users \n",
    "            n_recs: list of ints: number of top recomendations to evaluate hit rate for\n",
    "        Output\n",
    "            hit_rates: list of float: hit rate for each element of n_recs\n",
    "    \n",
    "    \"\"\"\n",
    "    raise NotImplementedError()"
   ]
  },
  {
   "cell_type": "markdown",
   "metadata": {},
   "source": [
    "Проверьте себя: вычислите хитрейт на top-10 рекомендаций для Sparse SVD ранга 30. Чтобы вычисления рекомендаций были побыстрее, используйте не всю матрицу `A_test`, а, например, первые 1000 строк. Хитрейт должен получится в районе 12-15%. Самое время подебажить своё решение, если числа сильно расходятся."
   ]
  },
  {
   "cell_type": "code",
   "execution_count": 13,
   "metadata": {},
   "outputs": [
    {
     "data": {
      "text/plain": [
       "[0.10515463917525773]"
      ]
     },
     "execution_count": 13,
     "metadata": {},
     "output_type": "execute_result"
    }
   ],
   "source": [
    "acc = get_hit_rates(V_sparse, A_test[0:1000], [10])\n",
    "acc"
   ]
  },
  {
   "cell_type": "markdown",
   "metadata": {},
   "source": [
    "Теперь можно построить графики зависимости hit rate от количества рекомендаций, а также от ранга модели. Сравним результаты, которые дают три алгоритма: ALS, Sparse SVD и рандомизированный SVD."
   ]
  },
  {
   "cell_type": "code",
   "execution_count": 14,
   "metadata": {},
   "outputs": [
    {
     "data": {
      "image/png": "[encoded data removed]",
      "text/plain": [
       "<Figure size 1440x288 with 3 Axes>"
      ]
     },
     "metadata": {
      "needs_background": "light"
     },
     "output_type": "display_data"
    }
   ],
   "source": [
    "from scipy.sparse.linalg import svds\n",
    "\n",
    "n_recs = list(range(5, 101, 5))\n",
    "\n",
    "plt.rcParams.update({'font.size': 14})\n",
    "_, (ax_svd, ax_als, ax_rand) = plt.subplots(1,3,figsize=(20, 4),sharey=True)\n",
    "\n",
    "ax_svd.set_title(\"SVD\")\n",
    "ax_svd.set_ylabel(\"Hit rate\")\n",
    "ax_als.set_title(\"ALS\")\n",
    "ax_rand.set_title(\"Rand SVD\")\n",
    "for rank in [5, 25, 50]:\n",
    "    _, _, VT_svd = svds(A_train, k=rank)\n",
    "    _, _, VT_als, _ = ALS(A_train, rank)\n",
    "    _, _, VT_rand = randomized_svd(A_train, rank)\n",
    "    for VT, ax in zip([VT_svd, VT_als, VT_rand], [ax_svd, ax_als, ax_rand]):\n",
    "        ax.set_xlabel(\"Number of recomendations\")\n",
    "        hit_rates = get_hit_rates(VT, A_test[:1000,:], n_recs)\n",
    "        line, = ax.plot(n_recs, hit_rates)\n",
    "        line.set_label('rank = {}'.format(rank))\n",
    "        ax.legend()"
   ]
  },
  {
   "cell_type": "markdown",
   "metadata": {},
   "source": [
    "Какой ранг приближения оказался оптимальным для нашей модели в случае каждого алгоритма?"
   ]
  },
  {
   "cell_type": "markdown",
   "metadata": {},
   "source": [
    "Лучший ранг - 25."
   ]
  },
  {
   "cell_type": "markdown",
   "metadata": {},
   "source": [
    "# Задача 2. Higher-order SVD (25 баллов)"
   ]
  },
  {
   "cell_type": "markdown",
   "metadata": {},
   "source": [
    "1. (**8 баллов**) Напишите функцию ```tuck2full(G, U, V, W)```, возвращающую полный тензор размера $n_1\\times n_2 \\times n_3$ по его разложению Таккера. Предусмотрите, чтобы функция работала и в случае, если в матрицах $U,V$ и $W$ строк меньше, чем столбцов. Это понадобится нам в дальнейшем. В этой задаче не разрешается использовать циклы. Вместо них используйте функцию ```np.einsum```."
   ]
  },
  {
   "cell_type": "code",
   "execution_count": 15,
   "metadata": {},
   "outputs": [],
   "source": [
    "def tuck2full(G, U, V, W):\n",
    "    \"\"\"\n",
    "        Input\n",
    "            G: 3D numpy array - Tucker core of size (r1, r2, r3)\n",
    "            U: 2D numpy array - the first Tucker factor of size (n1, r1)\n",
    "            V: 2D numpy array - the second Tucker factor of size (n2, r2)\n",
    "            W: 2D numpy array - the third Tucker factor of size (n3, r3)\n",
    "\n",
    "        Output\n",
    "            A: 3D numpy array of the size (n1, n2, n3)\n",
    "    \"\"\"\n",
    "    res = np.einsum('xyz,ix,jy,kz', G, U, V, W, optimize=True)\n",
    "    return res"
   ]
  },
  {
   "cell_type": "markdown",
   "metadata": {},
   "source": [
    "Я очень надеюсь, что создатель einsum будет гореть в аду, какая же глина((((("
   ]
  },
  {
   "cell_type": "markdown",
   "metadata": {},
   "source": [
    "2. (**14 баллов**) Реализуйте higher-order SVD алгоритм для нахождения разложения Таккера данного трехмерного массива $A\\in\\mathbb{R}^{n_1\\times n_2 \\times n_3}$. Алгоритм должен находить малоранговое приближение $A$ с относительной точностью не хуже $\\varepsilon$ во Фробениусовой норме. Функция должна вернуть ядро и факторы Таккера у приближающего тензора. В этой задаче не разрешается пользоваться циклами. Для получения ядра Таккера будет удобно воспользоваться функцией ```tuck2full```."
   ]
  },
  {
   "cell_type": "code",
   "execution_count": 16,
   "metadata": {},
   "outputs": [],
   "source": [
    "def best_U(A, eps):\n",
    "    U, S, VT = np.linalg.svd(A, full_matrices=False)\n",
    "    norm_A = np.linalg.norm(A)\n",
    "    sum_sing = 0\n",
    "    rank = 1\n",
    "    while (np.sqrt(sum_sing + S[-rank]**2) < eps / np.sqrt(3) * norm_A):\n",
    "        sum_sing += S[-rank]**2\n",
    "        rank += 1\n",
    "    return U[:,0:1-rank]"
   ]
  },
  {
   "cell_type": "code",
   "execution_count": 17,
   "metadata": {},
   "outputs": [],
   "source": [
    "def hosvd(A, eps):\n",
    "    m, n, l = A.shape\n",
    "    A_1 = np.reshape(A,(m, n * l), order='f')\n",
    "    A_2 = np.transpose(A, (1, 0, 2))\n",
    "    m, n, l = A_2.shape\n",
    "    A_2 = np.reshape(A_2, (m, n * l), order='f')\n",
    "    A_3 = np.transpose(A, (2, 0, 1))\n",
    "    m, n, l = A_3.shape\n",
    "    A_3 = np.reshape(A_3, (m, n * l), order='f')\n",
    "    \n",
    "    U_1 = best_U(A_1, eps)\n",
    "    U_2 = best_U(A_2, eps)\n",
    "    U_3 = best_U(A_3, eps)\n",
    "    G = tuck2full(A, U_1.T, U_2.T, U_3.T)\n",
    "    return G, U_1, U_2, U_3\n",
    "    \n",
    "        \n",
    "    \"\"\"\n",
    "        Input\n",
    "            A: 3D numpy array\n",
    "            eps: accuracy of Tucker approximation\n",
    "\n",
    "        Output\n",
    "            G: 3D numpy array - the Tucker core\n",
    "            U: 2D numpy array - the first Tucker factor with orthogonal columns\n",
    "            V: 2D numpy array - the second Tucker factor with orthogonal columns\n",
    "            W: 2D numpy array - the third Tucker factor with orthogonal columns\n",
    "    \"\"\""
   ]
  },
  {
   "cell_type": "markdown",
   "metadata": {},
   "source": [
    "3. (**3 балла**) Примените функцию ```hosvd``` к тензору размера $100 \\times 200 \\times 300$ с элементами\n",
    "$$\n",
    "    a_{ijk} = \\frac{1}{i + j + k + 1}, \\quad i,j,k=0,1,...\n",
    "$$\n",
    "для малорангового приближения с точностью $10^{-6}$. Напечатайте получившиеся ранги и относительную ошибку полученного малорангового приближения (для этого используйте функцию ```tuck2full```)."
   ]
  },
  {
   "cell_type": "code",
   "execution_count": 18,
   "metadata": {},
   "outputs": [],
   "source": [
    "Tens = np.zeros((100, 200, 300), dtype=float)\n",
    "for i in range(100):\n",
    "    for j in range(200):\n",
    "        for k in range(300):\n",
    "            Tens[i][j][k] = 1./(i + j + k + 1)"
   ]
  },
  {
   "cell_type": "code",
   "execution_count": 19,
   "metadata": {},
   "outputs": [],
   "source": [
    "G, U, V, W = hosvd(Tens, 1e-6)"
   ]
  },
  {
   "cell_type": "code",
   "execution_count": 20,
   "metadata": {},
   "outputs": [
    {
     "name": "stdout",
     "output_type": "stream",
     "text": [
      "Полученные ранги: (10, 11, 11)\n",
      "Ошибка: 4.843464315252344e-07\n"
     ]
    }
   ],
   "source": [
    "print(\"Полученные ранги: {0}\".format(G.shape))\n",
    "print(\"Ошибка: {0}\".format(np.linalg.norm(Tens - tuck2full(G, U, V, W)) / np.linalg.norm(Tens)))"
   ]
  },
  {
   "cell_type": "code",
   "execution_count": null,
   "metadata": {},
   "outputs": [],
   "source": []
  }
 ],
 "metadata": {
  "kernelspec": {
   "display_name": "Python 3",
   "language": "python",
   "name": "python3"
  },
  "language_info": {
   "codemirror_mode": {
    "name": "ipython",
    "version": 3
   },
   "file_extension": ".py",
   "mimetype": "text/x-python",
   "name": "python",
   "nbconvert_exporter": "python",
   "pygments_lexer": "ipython3",
   "version": "3.7.10"
  }
 },
 "nbformat": 4,
 "nbformat_minor": 2
}
